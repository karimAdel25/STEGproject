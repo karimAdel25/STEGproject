{
  "cells": [
    {
      "cell_type": "code",
      "execution_count": 1,
      "metadata": {
        "id": "ne9Oc2NV4g5N",
        "colab": {
          "base_uri": "https://localhost:8080/"
        },
        "outputId": "52210468-656f-4c01-e79b-f5fc5089ead7"
      },
      "outputs": [
        {
          "output_type": "stream",
          "name": "stdout",
          "text": [
            "Drive already mounted at /content/drive; to attempt to forcibly remount, call drive.mount(\"/content/drive\", force_remount=True).\n"
          ]
        }
      ],
      "source": [
        "from google.colab import drive\n",
        "drive.mount('/content/drive')\n",
        "import os\n",
        "os.chdir('drive/My Drive')"
      ]
    },
    {
      "cell_type": "code",
      "execution_count": 2,
      "metadata": {
        "id": "WQjl0mNJZ5MT"
      },
      "outputs": [],
      "source": [
        "import numpy as np\n",
        "import pandas as pd\n",
        "import matplotlib.pyplot as plt\n",
        "import seaborn as sns\n",
        "import joblib\n",
        "import datetime"
      ]
    },
    {
      "cell_type": "code",
      "execution_count": 3,
      "metadata": {
        "id": "IwdjDcCnhGCy"
      },
      "outputs": [],
      "source": [
        "from sklearn.preprocessing import LabelEncoder\n",
        "encode = LabelEncoder()\n",
        "from sklearn.preprocessing import StandardScaler\n",
        "sc = StandardScaler()\n",
        "from sklearn.model_selection import train_test_split\n",
        "from sklearn.metrics import classification_report"
      ]
    },
    {
      "cell_type": "code",
      "execution_count": 4,
      "metadata": {
        "id": "SbywkeCBahgn",
        "colab": {
          "base_uri": "https://localhost:8080/"
        },
        "outputId": "5b75cde4-808a-4110-abbf-dd5f74cb0b43"
      },
      "outputs": [
        {
          "output_type": "stream",
          "name": "stderr",
          "text": [
            "<ipython-input-4-1bad49d12bf3>:4: DtypeWarning: Columns (4) have mixed types. Specify dtype option on import or set low_memory=False.\n",
            "  invoice_train = pd.read_csv('/content/drive/MyDrive/ML Academy/project 1/train/invoice_train.csv')\n"
          ]
        }
      ],
      "source": [
        "client_train = pd.read_csv('/content/drive/MyDrive/ML Academy/project 1/train/client_train.csv')\n",
        "client_test = pd.read_csv('/content/drive/MyDrive/ML Academy/project 1/test/client_test.csv')\n",
        "invoice_test = pd.read_csv('/content/drive/MyDrive/ML Academy/project 1/test/invoice_test.csv')\n",
        "invoice_train = pd.read_csv('/content/drive/MyDrive/ML Academy/project 1/train/invoice_train.csv')"
      ]
    },
    {
      "cell_type": "code",
      "execution_count": 6,
      "metadata": {
        "id": "2u1MwzwvbnUo",
        "colab": {
          "base_uri": "https://localhost:8080/"
        },
        "outputId": "24889150-935c-4df6-ad28-befd775e71b3"
      },
      "outputs": [
        {
          "output_type": "stream",
          "name": "stdout",
          "text": [
            "client train shape is :  (135493, 6)\n",
            "invoice train shape is :  (4476749, 16)\n",
            "client test shape is :  (58069, 5)\n",
            "invoice test shape is :  (1939730, 16)\n"
          ]
        }
      ],
      "source": [
        "print('client train shape is : ', client_train.shape)\n",
        "print('invoice train shape is : ', invoice_train.shape)\n",
        "print('client test shape is : ', client_test.shape)\n",
        "print('invoice test shape is : ', invoice_test.shape)"
      ]
    },
    {
      "cell_type": "code",
      "execution_count": 25,
      "metadata": {
        "id": "MjulMmbLdFAz",
        "colab": {
          "base_uri": "https://localhost:8080/",
          "height": 488
        },
        "outputId": "ba0ed8bf-b926-4a5e-fb05-4a592e38d476"
      },
      "outputs": [
        {
          "output_type": "execute_result",
          "data": {
            "text/plain": [
              "                client_id invoice_date  tarif_type  counter_number  \\\n",
              "0           test_Client_0   2018-03-16          11          651208   \n",
              "1           test_Client_0   2014-03-21          11          651208   \n",
              "2           test_Client_0   2014-07-17          11          651208   \n",
              "3           test_Client_0   2015-07-13          11          651208   \n",
              "4           test_Client_0   2016-07-19          11          651208   \n",
              "...                   ...          ...         ...             ...   \n",
              "1939725  test_Client_9999   2010-03-11          11          869269   \n",
              "1939726  test_Client_9999   2011-03-15          11          869269   \n",
              "1939727  test_Client_9999   2012-12-03          11          869269   \n",
              "1939728  test_Client_9999   2009-07-01          11          869269   \n",
              "1939729  test_Client_9999   2017-03-11          11          869269   \n",
              "\n",
              "         counter_statue  counter_code  reading_remarque  counter_coefficient  \\\n",
              "0                     0           203                 8                    1   \n",
              "1                     0           203                 8                    1   \n",
              "2                     0           203                 8                    1   \n",
              "3                     0           203                 9                    1   \n",
              "4                     0           203                 9                    1   \n",
              "...                 ...           ...               ...                  ...   \n",
              "1939725               0           203                 6                    1   \n",
              "1939726               0           203                 6                    1   \n",
              "1939727               0           203                 6                    1   \n",
              "1939728               0           203                 6                    1   \n",
              "1939729               0           203                 9                    1   \n",
              "\n",
              "         consommation_level_1  consommation_level_2  consommation_level_3  \\\n",
              "0                         755                     0                     0   \n",
              "1                        1067                     0                     0   \n",
              "2                           0                     0                     0   \n",
              "3                         410                     0                     0   \n",
              "4                         412                     0                     0   \n",
              "...                       ...                   ...                   ...   \n",
              "1939725                   248                     0                     0   \n",
              "1939726                   260                     0                     0   \n",
              "1939727                   312                     0                     0   \n",
              "1939728                   236                     0                     0   \n",
              "1939729                   800                   282                     0   \n",
              "\n",
              "         consommation_level_4  old_index  new_index  months_number  \\\n",
              "0                           0      19145      19900              8   \n",
              "1                           0      13725      14792              8   \n",
              "2                           0      14792      14792              4   \n",
              "3                           0      16122      16532              4   \n",
              "4                           0      17471      17883              4   \n",
              "...                       ...        ...        ...            ...   \n",
              "1939725                     0      21114      21362              4   \n",
              "1939726                     0      21362      21622              4   \n",
              "1939727                     0      22272      22584              4   \n",
              "1939728                     0      19909      20145              4   \n",
              "1939729                     0      32834      33916              4   \n",
              "\n",
              "        counter_type  disrict  client_catg  region creation_date  \n",
              "0               ELEC       62           11     307    28/05/2002  \n",
              "1               ELEC       62           11     307    28/05/2002  \n",
              "2               ELEC       62           11     307    28/05/2002  \n",
              "3               ELEC       62           11     307    28/05/2002  \n",
              "4               ELEC       62           11     307    28/05/2002  \n",
              "...              ...      ...          ...     ...           ...  \n",
              "1939725         ELEC       69           11     104    14/03/1990  \n",
              "1939726         ELEC       69           11     104    14/03/1990  \n",
              "1939727         ELEC       69           11     104    14/03/1990  \n",
              "1939728         ELEC       69           11     104    14/03/1990  \n",
              "1939729         ELEC       69           11     104    14/03/1990  \n",
              "\n",
              "[1939730 rows x 20 columns]"
            ],
            "text/html": [
              "\n",
              "\n",
              "  <div id=\"df-bac0bf87-175b-4e2f-b803-93086288d69d\">\n",
              "    <div class=\"colab-df-container\">\n",
              "      <div>\n",
              "<style scoped>\n",
              "    .dataframe tbody tr th:only-of-type {\n",
              "        vertical-align: middle;\n",
              "    }\n",
              "\n",
              "    .dataframe tbody tr th {\n",
              "        vertical-align: top;\n",
              "    }\n",
              "\n",
              "    .dataframe thead th {\n",
              "        text-align: right;\n",
              "    }\n",
              "</style>\n",
              "<table border=\"1\" class=\"dataframe\">\n",
              "  <thead>\n",
              "    <tr style=\"text-align: right;\">\n",
              "      <th></th>\n",
              "      <th>client_id</th>\n",
              "      <th>invoice_date</th>\n",
              "      <th>tarif_type</th>\n",
              "      <th>counter_number</th>\n",
              "      <th>counter_statue</th>\n",
              "      <th>counter_code</th>\n",
              "      <th>reading_remarque</th>\n",
              "      <th>counter_coefficient</th>\n",
              "      <th>consommation_level_1</th>\n",
              "      <th>consommation_level_2</th>\n",
              "      <th>consommation_level_3</th>\n",
              "      <th>consommation_level_4</th>\n",
              "      <th>old_index</th>\n",
              "      <th>new_index</th>\n",
              "      <th>months_number</th>\n",
              "      <th>counter_type</th>\n",
              "      <th>disrict</th>\n",
              "      <th>client_catg</th>\n",
              "      <th>region</th>\n",
              "      <th>creation_date</th>\n",
              "    </tr>\n",
              "  </thead>\n",
              "  <tbody>\n",
              "    <tr>\n",
              "      <th>0</th>\n",
              "      <td>test_Client_0</td>\n",
              "      <td>2018-03-16</td>\n",
              "      <td>11</td>\n",
              "      <td>651208</td>\n",
              "      <td>0</td>\n",
              "      <td>203</td>\n",
              "      <td>8</td>\n",
              "      <td>1</td>\n",
              "      <td>755</td>\n",
              "      <td>0</td>\n",
              "      <td>0</td>\n",
              "      <td>0</td>\n",
              "      <td>19145</td>\n",
              "      <td>19900</td>\n",
              "      <td>8</td>\n",
              "      <td>ELEC</td>\n",
              "      <td>62</td>\n",
              "      <td>11</td>\n",
              "      <td>307</td>\n",
              "      <td>28/05/2002</td>\n",
              "    </tr>\n",
              "    <tr>\n",
              "      <th>1</th>\n",
              "      <td>test_Client_0</td>\n",
              "      <td>2014-03-21</td>\n",
              "      <td>11</td>\n",
              "      <td>651208</td>\n",
              "      <td>0</td>\n",
              "      <td>203</td>\n",
              "      <td>8</td>\n",
              "      <td>1</td>\n",
              "      <td>1067</td>\n",
              "      <td>0</td>\n",
              "      <td>0</td>\n",
              "      <td>0</td>\n",
              "      <td>13725</td>\n",
              "      <td>14792</td>\n",
              "      <td>8</td>\n",
              "      <td>ELEC</td>\n",
              "      <td>62</td>\n",
              "      <td>11</td>\n",
              "      <td>307</td>\n",
              "      <td>28/05/2002</td>\n",
              "    </tr>\n",
              "    <tr>\n",
              "      <th>2</th>\n",
              "      <td>test_Client_0</td>\n",
              "      <td>2014-07-17</td>\n",
              "      <td>11</td>\n",
              "      <td>651208</td>\n",
              "      <td>0</td>\n",
              "      <td>203</td>\n",
              "      <td>8</td>\n",
              "      <td>1</td>\n",
              "      <td>0</td>\n",
              "      <td>0</td>\n",
              "      <td>0</td>\n",
              "      <td>0</td>\n",
              "      <td>14792</td>\n",
              "      <td>14792</td>\n",
              "      <td>4</td>\n",
              "      <td>ELEC</td>\n",
              "      <td>62</td>\n",
              "      <td>11</td>\n",
              "      <td>307</td>\n",
              "      <td>28/05/2002</td>\n",
              "    </tr>\n",
              "    <tr>\n",
              "      <th>3</th>\n",
              "      <td>test_Client_0</td>\n",
              "      <td>2015-07-13</td>\n",
              "      <td>11</td>\n",
              "      <td>651208</td>\n",
              "      <td>0</td>\n",
              "      <td>203</td>\n",
              "      <td>9</td>\n",
              "      <td>1</td>\n",
              "      <td>410</td>\n",
              "      <td>0</td>\n",
              "      <td>0</td>\n",
              "      <td>0</td>\n",
              "      <td>16122</td>\n",
              "      <td>16532</td>\n",
              "      <td>4</td>\n",
              "      <td>ELEC</td>\n",
              "      <td>62</td>\n",
              "      <td>11</td>\n",
              "      <td>307</td>\n",
              "      <td>28/05/2002</td>\n",
              "    </tr>\n",
              "    <tr>\n",
              "      <th>4</th>\n",
              "      <td>test_Client_0</td>\n",
              "      <td>2016-07-19</td>\n",
              "      <td>11</td>\n",
              "      <td>651208</td>\n",
              "      <td>0</td>\n",
              "      <td>203</td>\n",
              "      <td>9</td>\n",
              "      <td>1</td>\n",
              "      <td>412</td>\n",
              "      <td>0</td>\n",
              "      <td>0</td>\n",
              "      <td>0</td>\n",
              "      <td>17471</td>\n",
              "      <td>17883</td>\n",
              "      <td>4</td>\n",
              "      <td>ELEC</td>\n",
              "      <td>62</td>\n",
              "      <td>11</td>\n",
              "      <td>307</td>\n",
              "      <td>28/05/2002</td>\n",
              "    </tr>\n",
              "    <tr>\n",
              "      <th>...</th>\n",
              "      <td>...</td>\n",
              "      <td>...</td>\n",
              "      <td>...</td>\n",
              "      <td>...</td>\n",
              "      <td>...</td>\n",
              "      <td>...</td>\n",
              "      <td>...</td>\n",
              "      <td>...</td>\n",
              "      <td>...</td>\n",
              "      <td>...</td>\n",
              "      <td>...</td>\n",
              "      <td>...</td>\n",
              "      <td>...</td>\n",
              "      <td>...</td>\n",
              "      <td>...</td>\n",
              "      <td>...</td>\n",
              "      <td>...</td>\n",
              "      <td>...</td>\n",
              "      <td>...</td>\n",
              "      <td>...</td>\n",
              "    </tr>\n",
              "    <tr>\n",
              "      <th>1939725</th>\n",
              "      <td>test_Client_9999</td>\n",
              "      <td>2010-03-11</td>\n",
              "      <td>11</td>\n",
              "      <td>869269</td>\n",
              "      <td>0</td>\n",
              "      <td>203</td>\n",
              "      <td>6</td>\n",
              "      <td>1</td>\n",
              "      <td>248</td>\n",
              "      <td>0</td>\n",
              "      <td>0</td>\n",
              "      <td>0</td>\n",
              "      <td>21114</td>\n",
              "      <td>21362</td>\n",
              "      <td>4</td>\n",
              "      <td>ELEC</td>\n",
              "      <td>69</td>\n",
              "      <td>11</td>\n",
              "      <td>104</td>\n",
              "      <td>14/03/1990</td>\n",
              "    </tr>\n",
              "    <tr>\n",
              "      <th>1939726</th>\n",
              "      <td>test_Client_9999</td>\n",
              "      <td>2011-03-15</td>\n",
              "      <td>11</td>\n",
              "      <td>869269</td>\n",
              "      <td>0</td>\n",
              "      <td>203</td>\n",
              "      <td>6</td>\n",
              "      <td>1</td>\n",
              "      <td>260</td>\n",
              "      <td>0</td>\n",
              "      <td>0</td>\n",
              "      <td>0</td>\n",
              "      <td>21362</td>\n",
              "      <td>21622</td>\n",
              "      <td>4</td>\n",
              "      <td>ELEC</td>\n",
              "      <td>69</td>\n",
              "      <td>11</td>\n",
              "      <td>104</td>\n",
              "      <td>14/03/1990</td>\n",
              "    </tr>\n",
              "    <tr>\n",
              "      <th>1939727</th>\n",
              "      <td>test_Client_9999</td>\n",
              "      <td>2012-12-03</td>\n",
              "      <td>11</td>\n",
              "      <td>869269</td>\n",
              "      <td>0</td>\n",
              "      <td>203</td>\n",
              "      <td>6</td>\n",
              "      <td>1</td>\n",
              "      <td>312</td>\n",
              "      <td>0</td>\n",
              "      <td>0</td>\n",
              "      <td>0</td>\n",
              "      <td>22272</td>\n",
              "      <td>22584</td>\n",
              "      <td>4</td>\n",
              "      <td>ELEC</td>\n",
              "      <td>69</td>\n",
              "      <td>11</td>\n",
              "      <td>104</td>\n",
              "      <td>14/03/1990</td>\n",
              "    </tr>\n",
              "    <tr>\n",
              "      <th>1939728</th>\n",
              "      <td>test_Client_9999</td>\n",
              "      <td>2009-07-01</td>\n",
              "      <td>11</td>\n",
              "      <td>869269</td>\n",
              "      <td>0</td>\n",
              "      <td>203</td>\n",
              "      <td>6</td>\n",
              "      <td>1</td>\n",
              "      <td>236</td>\n",
              "      <td>0</td>\n",
              "      <td>0</td>\n",
              "      <td>0</td>\n",
              "      <td>19909</td>\n",
              "      <td>20145</td>\n",
              "      <td>4</td>\n",
              "      <td>ELEC</td>\n",
              "      <td>69</td>\n",
              "      <td>11</td>\n",
              "      <td>104</td>\n",
              "      <td>14/03/1990</td>\n",
              "    </tr>\n",
              "    <tr>\n",
              "      <th>1939729</th>\n",
              "      <td>test_Client_9999</td>\n",
              "      <td>2017-03-11</td>\n",
              "      <td>11</td>\n",
              "      <td>869269</td>\n",
              "      <td>0</td>\n",
              "      <td>203</td>\n",
              "      <td>9</td>\n",
              "      <td>1</td>\n",
              "      <td>800</td>\n",
              "      <td>282</td>\n",
              "      <td>0</td>\n",
              "      <td>0</td>\n",
              "      <td>32834</td>\n",
              "      <td>33916</td>\n",
              "      <td>4</td>\n",
              "      <td>ELEC</td>\n",
              "      <td>69</td>\n",
              "      <td>11</td>\n",
              "      <td>104</td>\n",
              "      <td>14/03/1990</td>\n",
              "    </tr>\n",
              "  </tbody>\n",
              "</table>\n",
              "<p>1939730 rows × 20 columns</p>\n",
              "</div>\n",
              "      <button class=\"colab-df-convert\" onclick=\"convertToInteractive('df-bac0bf87-175b-4e2f-b803-93086288d69d')\"\n",
              "              title=\"Convert this dataframe to an interactive table.\"\n",
              "              style=\"display:none;\">\n",
              "\n",
              "  <svg xmlns=\"http://www.w3.org/2000/svg\" height=\"24px\"viewBox=\"0 0 24 24\"\n",
              "       width=\"24px\">\n",
              "    <path d=\"M0 0h24v24H0V0z\" fill=\"none\"/>\n",
              "    <path d=\"M18.56 5.44l.94 2.06.94-2.06 2.06-.94-2.06-.94-.94-2.06-.94 2.06-2.06.94zm-11 1L8.5 8.5l.94-2.06 2.06-.94-2.06-.94L8.5 2.5l-.94 2.06-2.06.94zm10 10l.94 2.06.94-2.06 2.06-.94-2.06-.94-.94-2.06-.94 2.06-2.06.94z\"/><path d=\"M17.41 7.96l-1.37-1.37c-.4-.4-.92-.59-1.43-.59-.52 0-1.04.2-1.43.59L10.3 9.45l-7.72 7.72c-.78.78-.78 2.05 0 2.83L4 21.41c.39.39.9.59 1.41.59.51 0 1.02-.2 1.41-.59l7.78-7.78 2.81-2.81c.8-.78.8-2.07 0-2.86zM5.41 20L4 18.59l7.72-7.72 1.47 1.35L5.41 20z\"/>\n",
              "  </svg>\n",
              "      </button>\n",
              "\n",
              "\n",
              "\n",
              "    <div id=\"df-fd237f2e-361e-41ee-9b6f-5fef26b3dd40\">\n",
              "      <button class=\"colab-df-quickchart\" onclick=\"quickchart('df-fd237f2e-361e-41ee-9b6f-5fef26b3dd40')\"\n",
              "              title=\"Suggest charts.\"\n",
              "              style=\"display:none;\">\n",
              "\n",
              "<svg xmlns=\"http://www.w3.org/2000/svg\" height=\"24px\"viewBox=\"0 0 24 24\"\n",
              "     width=\"24px\">\n",
              "    <g>\n",
              "        <path d=\"M19 3H5c-1.1 0-2 .9-2 2v14c0 1.1.9 2 2 2h14c1.1 0 2-.9 2-2V5c0-1.1-.9-2-2-2zM9 17H7v-7h2v7zm4 0h-2V7h2v10zm4 0h-2v-4h2v4z\"/>\n",
              "    </g>\n",
              "</svg>\n",
              "      </button>\n",
              "    </div>\n",
              "\n",
              "<style>\n",
              "  .colab-df-quickchart {\n",
              "    background-color: #E8F0FE;\n",
              "    border: none;\n",
              "    border-radius: 50%;\n",
              "    cursor: pointer;\n",
              "    display: none;\n",
              "    fill: #1967D2;\n",
              "    height: 32px;\n",
              "    padding: 0 0 0 0;\n",
              "    width: 32px;\n",
              "  }\n",
              "\n",
              "  .colab-df-quickchart:hover {\n",
              "    background-color: #E2EBFA;\n",
              "    box-shadow: 0px 1px 2px rgba(60, 64, 67, 0.3), 0px 1px 3px 1px rgba(60, 64, 67, 0.15);\n",
              "    fill: #174EA6;\n",
              "  }\n",
              "\n",
              "  [theme=dark] .colab-df-quickchart {\n",
              "    background-color: #3B4455;\n",
              "    fill: #D2E3FC;\n",
              "  }\n",
              "\n",
              "  [theme=dark] .colab-df-quickchart:hover {\n",
              "    background-color: #434B5C;\n",
              "    box-shadow: 0px 1px 3px 1px rgba(0, 0, 0, 0.15);\n",
              "    filter: drop-shadow(0px 1px 2px rgba(0, 0, 0, 0.3));\n",
              "    fill: #FFFFFF;\n",
              "  }\n",
              "</style>\n",
              "\n",
              "    <script>\n",
              "      async function quickchart(key) {\n",
              "        const containerElement = document.querySelector('#' + key);\n",
              "        const charts = await google.colab.kernel.invokeFunction(\n",
              "            'suggestCharts', [key], {});\n",
              "      }\n",
              "    </script>\n",
              "\n",
              "      <script>\n",
              "\n",
              "function displayQuickchartButton(domScope) {\n",
              "  let quickchartButtonEl =\n",
              "    domScope.querySelector('#df-fd237f2e-361e-41ee-9b6f-5fef26b3dd40 button.colab-df-quickchart');\n",
              "  quickchartButtonEl.style.display =\n",
              "    google.colab.kernel.accessAllowed ? 'block' : 'none';\n",
              "}\n",
              "\n",
              "        displayQuickchartButton(document);\n",
              "      </script>\n",
              "      <style>\n",
              "    .colab-df-container {\n",
              "      display:flex;\n",
              "      flex-wrap:wrap;\n",
              "      gap: 12px;\n",
              "    }\n",
              "\n",
              "    .colab-df-convert {\n",
              "      background-color: #E8F0FE;\n",
              "      border: none;\n",
              "      border-radius: 50%;\n",
              "      cursor: pointer;\n",
              "      display: none;\n",
              "      fill: #1967D2;\n",
              "      height: 32px;\n",
              "      padding: 0 0 0 0;\n",
              "      width: 32px;\n",
              "    }\n",
              "\n",
              "    .colab-df-convert:hover {\n",
              "      background-color: #E2EBFA;\n",
              "      box-shadow: 0px 1px 2px rgba(60, 64, 67, 0.3), 0px 1px 3px 1px rgba(60, 64, 67, 0.15);\n",
              "      fill: #174EA6;\n",
              "    }\n",
              "\n",
              "    [theme=dark] .colab-df-convert {\n",
              "      background-color: #3B4455;\n",
              "      fill: #D2E3FC;\n",
              "    }\n",
              "\n",
              "    [theme=dark] .colab-df-convert:hover {\n",
              "      background-color: #434B5C;\n",
              "      box-shadow: 0px 1px 3px 1px rgba(0, 0, 0, 0.15);\n",
              "      filter: drop-shadow(0px 1px 2px rgba(0, 0, 0, 0.3));\n",
              "      fill: #FFFFFF;\n",
              "    }\n",
              "  </style>\n",
              "\n",
              "      <script>\n",
              "        const buttonEl =\n",
              "          document.querySelector('#df-bac0bf87-175b-4e2f-b803-93086288d69d button.colab-df-convert');\n",
              "        buttonEl.style.display =\n",
              "          google.colab.kernel.accessAllowed ? 'block' : 'none';\n",
              "\n",
              "        async function convertToInteractive(key) {\n",
              "          const element = document.querySelector('#df-bac0bf87-175b-4e2f-b803-93086288d69d');\n",
              "          const dataTable =\n",
              "            await google.colab.kernel.invokeFunction('convertToInteractive',\n",
              "                                                     [key], {});\n",
              "          if (!dataTable) return;\n",
              "\n",
              "          const docLinkHtml = 'Like what you see? Visit the ' +\n",
              "            '<a target=\"_blank\" href=https://colab.research.google.com/notebooks/data_table.ipynb>data table notebook</a>'\n",
              "            + ' to learn more about interactive tables.';\n",
              "          element.innerHTML = '';\n",
              "          dataTable['output_type'] = 'display_data';\n",
              "          await google.colab.output.renderOutput(dataTable, element);\n",
              "          const docLink = document.createElement('div');\n",
              "          docLink.innerHTML = docLinkHtml;\n",
              "          element.appendChild(docLink);\n",
              "        }\n",
              "      </script>\n",
              "    </div>\n",
              "  </div>\n"
            ]
          },
          "metadata": {},
          "execution_count": 25
        }
      ],
      "source": [
        "test = invoice_test.merge(client_test , on ='client_id' )\n",
        "test"
      ]
    },
    {
      "cell_type": "code",
      "execution_count": 26,
      "metadata": {
        "id": "6qZm7gV9iB-9",
        "colab": {
          "base_uri": "https://localhost:8080/",
          "height": 488
        },
        "outputId": "51940086-4f62-4562-be54-52f3ebc90b3b"
      },
      "outputs": [
        {
          "output_type": "execute_result",
          "data": {
            "text/plain": [
              "                  client_id invoice_date  tarif_type  counter_number  \\\n",
              "0            train_Client_0   2014-03-24          11         1335667   \n",
              "1            train_Client_0   2013-03-29          11         1335667   \n",
              "2            train_Client_0   2015-03-23          11         1335667   \n",
              "3            train_Client_0   2015-07-13          11         1335667   \n",
              "4            train_Client_0   2016-11-17          11         1335667   \n",
              "...                     ...          ...         ...             ...   \n",
              "4476744  train_Client_99998   2005-08-19          10         1253571   \n",
              "4476745  train_Client_99998   2005-12-19          10         1253571   \n",
              "4476746  train_Client_99999   1996-09-25          11          560948   \n",
              "4476747  train_Client_99999   1996-05-28          11          560948   \n",
              "4476748  train_Client_99999   1996-01-25          11          560948   \n",
              "\n",
              "        counter_statue  counter_code  reading_remarque  counter_coefficient  \\\n",
              "0                    0           203                 8                    1   \n",
              "1                    0           203                 6                    1   \n",
              "2                    0           203                 8                    1   \n",
              "3                    0           207                 8                    1   \n",
              "4                    0           207                 9                    1   \n",
              "...                ...           ...               ...                  ...   \n",
              "4476744              0           202                 9                    1   \n",
              "4476745              0           202                 6                    1   \n",
              "4476746              0           203                 6                    1   \n",
              "4476747              0           203                 6                    1   \n",
              "4476748              0           203                 6                    1   \n",
              "\n",
              "         consommation_level_1  consommation_level_2  ...  \\\n",
              "0                          82                     0  ...   \n",
              "1                        1200                   184  ...   \n",
              "2                         123                     0  ...   \n",
              "3                         102                     0  ...   \n",
              "4                         572                     0  ...   \n",
              "...                       ...                   ...  ...   \n",
              "4476744                   400                   135  ...   \n",
              "4476745                   200                     6  ...   \n",
              "4476746                   259                     0  ...   \n",
              "4476747                   603                     0  ...   \n",
              "4476748                   516                     0  ...   \n",
              "\n",
              "         consommation_level_4  old_index  new_index  months_number  \\\n",
              "0                           0      14302      14384              4   \n",
              "1                           0      12294      13678              4   \n",
              "2                           0      14624      14747              4   \n",
              "3                           0      14747      14849              4   \n",
              "4                           0      15066      15638             12   \n",
              "...                       ...        ...        ...            ...   \n",
              "4476744                     0       3197       3732              8   \n",
              "4476745                     0       3732       3938              4   \n",
              "4476746                     0      13884      14143              4   \n",
              "4476747                     0      13281      13884              4   \n",
              "4476748                     0      12765      13281              4   \n",
              "\n",
              "         counter_type disrict  client_catg  region  creation_date target  \n",
              "0                ELEC      60           11     101     31/12/1994    0.0  \n",
              "1                ELEC      60           11     101     31/12/1994    0.0  \n",
              "2                ELEC      60           11     101     31/12/1994    0.0  \n",
              "3                ELEC      60           11     101     31/12/1994    0.0  \n",
              "4                ELEC      60           11     101     31/12/1994    0.0  \n",
              "...               ...     ...          ...     ...            ...    ...  \n",
              "4476744          ELEC      60           11     101     22/12/1993    0.0  \n",
              "4476745          ELEC      60           11     101     22/12/1993    0.0  \n",
              "4476746          ELEC      60           11     101     18/02/1986    0.0  \n",
              "4476747          ELEC      60           11     101     18/02/1986    0.0  \n",
              "4476748          ELEC      60           11     101     18/02/1986    0.0  \n",
              "\n",
              "[4476749 rows x 21 columns]"
            ],
            "text/html": [
              "\n",
              "\n",
              "  <div id=\"df-9782ad35-b04c-41f4-9541-9c5a1f625762\">\n",
              "    <div class=\"colab-df-container\">\n",
              "      <div>\n",
              "<style scoped>\n",
              "    .dataframe tbody tr th:only-of-type {\n",
              "        vertical-align: middle;\n",
              "    }\n",
              "\n",
              "    .dataframe tbody tr th {\n",
              "        vertical-align: top;\n",
              "    }\n",
              "\n",
              "    .dataframe thead th {\n",
              "        text-align: right;\n",
              "    }\n",
              "</style>\n",
              "<table border=\"1\" class=\"dataframe\">\n",
              "  <thead>\n",
              "    <tr style=\"text-align: right;\">\n",
              "      <th></th>\n",
              "      <th>client_id</th>\n",
              "      <th>invoice_date</th>\n",
              "      <th>tarif_type</th>\n",
              "      <th>counter_number</th>\n",
              "      <th>counter_statue</th>\n",
              "      <th>counter_code</th>\n",
              "      <th>reading_remarque</th>\n",
              "      <th>counter_coefficient</th>\n",
              "      <th>consommation_level_1</th>\n",
              "      <th>consommation_level_2</th>\n",
              "      <th>...</th>\n",
              "      <th>consommation_level_4</th>\n",
              "      <th>old_index</th>\n",
              "      <th>new_index</th>\n",
              "      <th>months_number</th>\n",
              "      <th>counter_type</th>\n",
              "      <th>disrict</th>\n",
              "      <th>client_catg</th>\n",
              "      <th>region</th>\n",
              "      <th>creation_date</th>\n",
              "      <th>target</th>\n",
              "    </tr>\n",
              "  </thead>\n",
              "  <tbody>\n",
              "    <tr>\n",
              "      <th>0</th>\n",
              "      <td>train_Client_0</td>\n",
              "      <td>2014-03-24</td>\n",
              "      <td>11</td>\n",
              "      <td>1335667</td>\n",
              "      <td>0</td>\n",
              "      <td>203</td>\n",
              "      <td>8</td>\n",
              "      <td>1</td>\n",
              "      <td>82</td>\n",
              "      <td>0</td>\n",
              "      <td>...</td>\n",
              "      <td>0</td>\n",
              "      <td>14302</td>\n",
              "      <td>14384</td>\n",
              "      <td>4</td>\n",
              "      <td>ELEC</td>\n",
              "      <td>60</td>\n",
              "      <td>11</td>\n",
              "      <td>101</td>\n",
              "      <td>31/12/1994</td>\n",
              "      <td>0.0</td>\n",
              "    </tr>\n",
              "    <tr>\n",
              "      <th>1</th>\n",
              "      <td>train_Client_0</td>\n",
              "      <td>2013-03-29</td>\n",
              "      <td>11</td>\n",
              "      <td>1335667</td>\n",
              "      <td>0</td>\n",
              "      <td>203</td>\n",
              "      <td>6</td>\n",
              "      <td>1</td>\n",
              "      <td>1200</td>\n",
              "      <td>184</td>\n",
              "      <td>...</td>\n",
              "      <td>0</td>\n",
              "      <td>12294</td>\n",
              "      <td>13678</td>\n",
              "      <td>4</td>\n",
              "      <td>ELEC</td>\n",
              "      <td>60</td>\n",
              "      <td>11</td>\n",
              "      <td>101</td>\n",
              "      <td>31/12/1994</td>\n",
              "      <td>0.0</td>\n",
              "    </tr>\n",
              "    <tr>\n",
              "      <th>2</th>\n",
              "      <td>train_Client_0</td>\n",
              "      <td>2015-03-23</td>\n",
              "      <td>11</td>\n",
              "      <td>1335667</td>\n",
              "      <td>0</td>\n",
              "      <td>203</td>\n",
              "      <td>8</td>\n",
              "      <td>1</td>\n",
              "      <td>123</td>\n",
              "      <td>0</td>\n",
              "      <td>...</td>\n",
              "      <td>0</td>\n",
              "      <td>14624</td>\n",
              "      <td>14747</td>\n",
              "      <td>4</td>\n",
              "      <td>ELEC</td>\n",
              "      <td>60</td>\n",
              "      <td>11</td>\n",
              "      <td>101</td>\n",
              "      <td>31/12/1994</td>\n",
              "      <td>0.0</td>\n",
              "    </tr>\n",
              "    <tr>\n",
              "      <th>3</th>\n",
              "      <td>train_Client_0</td>\n",
              "      <td>2015-07-13</td>\n",
              "      <td>11</td>\n",
              "      <td>1335667</td>\n",
              "      <td>0</td>\n",
              "      <td>207</td>\n",
              "      <td>8</td>\n",
              "      <td>1</td>\n",
              "      <td>102</td>\n",
              "      <td>0</td>\n",
              "      <td>...</td>\n",
              "      <td>0</td>\n",
              "      <td>14747</td>\n",
              "      <td>14849</td>\n",
              "      <td>4</td>\n",
              "      <td>ELEC</td>\n",
              "      <td>60</td>\n",
              "      <td>11</td>\n",
              "      <td>101</td>\n",
              "      <td>31/12/1994</td>\n",
              "      <td>0.0</td>\n",
              "    </tr>\n",
              "    <tr>\n",
              "      <th>4</th>\n",
              "      <td>train_Client_0</td>\n",
              "      <td>2016-11-17</td>\n",
              "      <td>11</td>\n",
              "      <td>1335667</td>\n",
              "      <td>0</td>\n",
              "      <td>207</td>\n",
              "      <td>9</td>\n",
              "      <td>1</td>\n",
              "      <td>572</td>\n",
              "      <td>0</td>\n",
              "      <td>...</td>\n",
              "      <td>0</td>\n",
              "      <td>15066</td>\n",
              "      <td>15638</td>\n",
              "      <td>12</td>\n",
              "      <td>ELEC</td>\n",
              "      <td>60</td>\n",
              "      <td>11</td>\n",
              "      <td>101</td>\n",
              "      <td>31/12/1994</td>\n",
              "      <td>0.0</td>\n",
              "    </tr>\n",
              "    <tr>\n",
              "      <th>...</th>\n",
              "      <td>...</td>\n",
              "      <td>...</td>\n",
              "      <td>...</td>\n",
              "      <td>...</td>\n",
              "      <td>...</td>\n",
              "      <td>...</td>\n",
              "      <td>...</td>\n",
              "      <td>...</td>\n",
              "      <td>...</td>\n",
              "      <td>...</td>\n",
              "      <td>...</td>\n",
              "      <td>...</td>\n",
              "      <td>...</td>\n",
              "      <td>...</td>\n",
              "      <td>...</td>\n",
              "      <td>...</td>\n",
              "      <td>...</td>\n",
              "      <td>...</td>\n",
              "      <td>...</td>\n",
              "      <td>...</td>\n",
              "      <td>...</td>\n",
              "    </tr>\n",
              "    <tr>\n",
              "      <th>4476744</th>\n",
              "      <td>train_Client_99998</td>\n",
              "      <td>2005-08-19</td>\n",
              "      <td>10</td>\n",
              "      <td>1253571</td>\n",
              "      <td>0</td>\n",
              "      <td>202</td>\n",
              "      <td>9</td>\n",
              "      <td>1</td>\n",
              "      <td>400</td>\n",
              "      <td>135</td>\n",
              "      <td>...</td>\n",
              "      <td>0</td>\n",
              "      <td>3197</td>\n",
              "      <td>3732</td>\n",
              "      <td>8</td>\n",
              "      <td>ELEC</td>\n",
              "      <td>60</td>\n",
              "      <td>11</td>\n",
              "      <td>101</td>\n",
              "      <td>22/12/1993</td>\n",
              "      <td>0.0</td>\n",
              "    </tr>\n",
              "    <tr>\n",
              "      <th>4476745</th>\n",
              "      <td>train_Client_99998</td>\n",
              "      <td>2005-12-19</td>\n",
              "      <td>10</td>\n",
              "      <td>1253571</td>\n",
              "      <td>0</td>\n",
              "      <td>202</td>\n",
              "      <td>6</td>\n",
              "      <td>1</td>\n",
              "      <td>200</td>\n",
              "      <td>6</td>\n",
              "      <td>...</td>\n",
              "      <td>0</td>\n",
              "      <td>3732</td>\n",
              "      <td>3938</td>\n",
              "      <td>4</td>\n",
              "      <td>ELEC</td>\n",
              "      <td>60</td>\n",
              "      <td>11</td>\n",
              "      <td>101</td>\n",
              "      <td>22/12/1993</td>\n",
              "      <td>0.0</td>\n",
              "    </tr>\n",
              "    <tr>\n",
              "      <th>4476746</th>\n",
              "      <td>train_Client_99999</td>\n",
              "      <td>1996-09-25</td>\n",
              "      <td>11</td>\n",
              "      <td>560948</td>\n",
              "      <td>0</td>\n",
              "      <td>203</td>\n",
              "      <td>6</td>\n",
              "      <td>1</td>\n",
              "      <td>259</td>\n",
              "      <td>0</td>\n",
              "      <td>...</td>\n",
              "      <td>0</td>\n",
              "      <td>13884</td>\n",
              "      <td>14143</td>\n",
              "      <td>4</td>\n",
              "      <td>ELEC</td>\n",
              "      <td>60</td>\n",
              "      <td>11</td>\n",
              "      <td>101</td>\n",
              "      <td>18/02/1986</td>\n",
              "      <td>0.0</td>\n",
              "    </tr>\n",
              "    <tr>\n",
              "      <th>4476747</th>\n",
              "      <td>train_Client_99999</td>\n",
              "      <td>1996-05-28</td>\n",
              "      <td>11</td>\n",
              "      <td>560948</td>\n",
              "      <td>0</td>\n",
              "      <td>203</td>\n",
              "      <td>6</td>\n",
              "      <td>1</td>\n",
              "      <td>603</td>\n",
              "      <td>0</td>\n",
              "      <td>...</td>\n",
              "      <td>0</td>\n",
              "      <td>13281</td>\n",
              "      <td>13884</td>\n",
              "      <td>4</td>\n",
              "      <td>ELEC</td>\n",
              "      <td>60</td>\n",
              "      <td>11</td>\n",
              "      <td>101</td>\n",
              "      <td>18/02/1986</td>\n",
              "      <td>0.0</td>\n",
              "    </tr>\n",
              "    <tr>\n",
              "      <th>4476748</th>\n",
              "      <td>train_Client_99999</td>\n",
              "      <td>1996-01-25</td>\n",
              "      <td>11</td>\n",
              "      <td>560948</td>\n",
              "      <td>0</td>\n",
              "      <td>203</td>\n",
              "      <td>6</td>\n",
              "      <td>1</td>\n",
              "      <td>516</td>\n",
              "      <td>0</td>\n",
              "      <td>...</td>\n",
              "      <td>0</td>\n",
              "      <td>12765</td>\n",
              "      <td>13281</td>\n",
              "      <td>4</td>\n",
              "      <td>ELEC</td>\n",
              "      <td>60</td>\n",
              "      <td>11</td>\n",
              "      <td>101</td>\n",
              "      <td>18/02/1986</td>\n",
              "      <td>0.0</td>\n",
              "    </tr>\n",
              "  </tbody>\n",
              "</table>\n",
              "<p>4476749 rows × 21 columns</p>\n",
              "</div>\n",
              "      <button class=\"colab-df-convert\" onclick=\"convertToInteractive('df-9782ad35-b04c-41f4-9541-9c5a1f625762')\"\n",
              "              title=\"Convert this dataframe to an interactive table.\"\n",
              "              style=\"display:none;\">\n",
              "\n",
              "  <svg xmlns=\"http://www.w3.org/2000/svg\" height=\"24px\"viewBox=\"0 0 24 24\"\n",
              "       width=\"24px\">\n",
              "    <path d=\"M0 0h24v24H0V0z\" fill=\"none\"/>\n",
              "    <path d=\"M18.56 5.44l.94 2.06.94-2.06 2.06-.94-2.06-.94-.94-2.06-.94 2.06-2.06.94zm-11 1L8.5 8.5l.94-2.06 2.06-.94-2.06-.94L8.5 2.5l-.94 2.06-2.06.94zm10 10l.94 2.06.94-2.06 2.06-.94-2.06-.94-.94-2.06-.94 2.06-2.06.94z\"/><path d=\"M17.41 7.96l-1.37-1.37c-.4-.4-.92-.59-1.43-.59-.52 0-1.04.2-1.43.59L10.3 9.45l-7.72 7.72c-.78.78-.78 2.05 0 2.83L4 21.41c.39.39.9.59 1.41.59.51 0 1.02-.2 1.41-.59l7.78-7.78 2.81-2.81c.8-.78.8-2.07 0-2.86zM5.41 20L4 18.59l7.72-7.72 1.47 1.35L5.41 20z\"/>\n",
              "  </svg>\n",
              "      </button>\n",
              "\n",
              "\n",
              "\n",
              "    <div id=\"df-7e7b4337-6a6f-4fa2-915e-c763a53dc5eb\">\n",
              "      <button class=\"colab-df-quickchart\" onclick=\"quickchart('df-7e7b4337-6a6f-4fa2-915e-c763a53dc5eb')\"\n",
              "              title=\"Suggest charts.\"\n",
              "              style=\"display:none;\">\n",
              "\n",
              "<svg xmlns=\"http://www.w3.org/2000/svg\" height=\"24px\"viewBox=\"0 0 24 24\"\n",
              "     width=\"24px\">\n",
              "    <g>\n",
              "        <path d=\"M19 3H5c-1.1 0-2 .9-2 2v14c0 1.1.9 2 2 2h14c1.1 0 2-.9 2-2V5c0-1.1-.9-2-2-2zM9 17H7v-7h2v7zm4 0h-2V7h2v10zm4 0h-2v-4h2v4z\"/>\n",
              "    </g>\n",
              "</svg>\n",
              "      </button>\n",
              "    </div>\n",
              "\n",
              "<style>\n",
              "  .colab-df-quickchart {\n",
              "    background-color: #E8F0FE;\n",
              "    border: none;\n",
              "    border-radius: 50%;\n",
              "    cursor: pointer;\n",
              "    display: none;\n",
              "    fill: #1967D2;\n",
              "    height: 32px;\n",
              "    padding: 0 0 0 0;\n",
              "    width: 32px;\n",
              "  }\n",
              "\n",
              "  .colab-df-quickchart:hover {\n",
              "    background-color: #E2EBFA;\n",
              "    box-shadow: 0px 1px 2px rgba(60, 64, 67, 0.3), 0px 1px 3px 1px rgba(60, 64, 67, 0.15);\n",
              "    fill: #174EA6;\n",
              "  }\n",
              "\n",
              "  [theme=dark] .colab-df-quickchart {\n",
              "    background-color: #3B4455;\n",
              "    fill: #D2E3FC;\n",
              "  }\n",
              "\n",
              "  [theme=dark] .colab-df-quickchart:hover {\n",
              "    background-color: #434B5C;\n",
              "    box-shadow: 0px 1px 3px 1px rgba(0, 0, 0, 0.15);\n",
              "    filter: drop-shadow(0px 1px 2px rgba(0, 0, 0, 0.3));\n",
              "    fill: #FFFFFF;\n",
              "  }\n",
              "</style>\n",
              "\n",
              "    <script>\n",
              "      async function quickchart(key) {\n",
              "        const containerElement = document.querySelector('#' + key);\n",
              "        const charts = await google.colab.kernel.invokeFunction(\n",
              "            'suggestCharts', [key], {});\n",
              "      }\n",
              "    </script>\n",
              "\n",
              "      <script>\n",
              "\n",
              "function displayQuickchartButton(domScope) {\n",
              "  let quickchartButtonEl =\n",
              "    domScope.querySelector('#df-7e7b4337-6a6f-4fa2-915e-c763a53dc5eb button.colab-df-quickchart');\n",
              "  quickchartButtonEl.style.display =\n",
              "    google.colab.kernel.accessAllowed ? 'block' : 'none';\n",
              "}\n",
              "\n",
              "        displayQuickchartButton(document);\n",
              "      </script>\n",
              "      <style>\n",
              "    .colab-df-container {\n",
              "      display:flex;\n",
              "      flex-wrap:wrap;\n",
              "      gap: 12px;\n",
              "    }\n",
              "\n",
              "    .colab-df-convert {\n",
              "      background-color: #E8F0FE;\n",
              "      border: none;\n",
              "      border-radius: 50%;\n",
              "      cursor: pointer;\n",
              "      display: none;\n",
              "      fill: #1967D2;\n",
              "      height: 32px;\n",
              "      padding: 0 0 0 0;\n",
              "      width: 32px;\n",
              "    }\n",
              "\n",
              "    .colab-df-convert:hover {\n",
              "      background-color: #E2EBFA;\n",
              "      box-shadow: 0px 1px 2px rgba(60, 64, 67, 0.3), 0px 1px 3px 1px rgba(60, 64, 67, 0.15);\n",
              "      fill: #174EA6;\n",
              "    }\n",
              "\n",
              "    [theme=dark] .colab-df-convert {\n",
              "      background-color: #3B4455;\n",
              "      fill: #D2E3FC;\n",
              "    }\n",
              "\n",
              "    [theme=dark] .colab-df-convert:hover {\n",
              "      background-color: #434B5C;\n",
              "      box-shadow: 0px 1px 3px 1px rgba(0, 0, 0, 0.15);\n",
              "      filter: drop-shadow(0px 1px 2px rgba(0, 0, 0, 0.3));\n",
              "      fill: #FFFFFF;\n",
              "    }\n",
              "  </style>\n",
              "\n",
              "      <script>\n",
              "        const buttonEl =\n",
              "          document.querySelector('#df-9782ad35-b04c-41f4-9541-9c5a1f625762 button.colab-df-convert');\n",
              "        buttonEl.style.display =\n",
              "          google.colab.kernel.accessAllowed ? 'block' : 'none';\n",
              "\n",
              "        async function convertToInteractive(key) {\n",
              "          const element = document.querySelector('#df-9782ad35-b04c-41f4-9541-9c5a1f625762');\n",
              "          const dataTable =\n",
              "            await google.colab.kernel.invokeFunction('convertToInteractive',\n",
              "                                                     [key], {});\n",
              "          if (!dataTable) return;\n",
              "\n",
              "          const docLinkHtml = 'Like what you see? Visit the ' +\n",
              "            '<a target=\"_blank\" href=https://colab.research.google.com/notebooks/data_table.ipynb>data table notebook</a>'\n",
              "            + ' to learn more about interactive tables.';\n",
              "          element.innerHTML = '';\n",
              "          dataTable['output_type'] = 'display_data';\n",
              "          await google.colab.output.renderOutput(dataTable, element);\n",
              "          const docLink = document.createElement('div');\n",
              "          docLink.innerHTML = docLinkHtml;\n",
              "          element.appendChild(docLink);\n",
              "        }\n",
              "      </script>\n",
              "    </div>\n",
              "  </div>\n"
            ]
          },
          "metadata": {},
          "execution_count": 26
        }
      ],
      "source": [
        "train = invoice_train.merge(client_train , on ='client_id')\n",
        "train"
      ]
    },
    {
      "cell_type": "code",
      "execution_count": 27,
      "metadata": {
        "id": "dDkzq3oSVISM",
        "colab": {
          "base_uri": "https://localhost:8080/"
        },
        "outputId": "8ffb7885-e181-4cc8-a81f-f1494796e9b7"
      },
      "outputs": [
        {
          "output_type": "stream",
          "name": "stdout",
          "text": [
            "<class 'pandas.core.frame.DataFrame'>\n",
            "Int64Index: 4476749 entries, 0 to 4476748\n",
            "Data columns (total 20 columns):\n",
            " #   Column                Dtype  \n",
            "---  ------                -----  \n",
            " 0   invoice_date          object \n",
            " 1   tarif_type            int64  \n",
            " 2   counter_number        int64  \n",
            " 3   counter_statue        object \n",
            " 4   counter_code          int64  \n",
            " 5   reading_remarque      int64  \n",
            " 6   counter_coefficient   int64  \n",
            " 7   consommation_level_1  int64  \n",
            " 8   consommation_level_2  int64  \n",
            " 9   consommation_level_3  int64  \n",
            " 10  consommation_level_4  int64  \n",
            " 11  old_index             int64  \n",
            " 12  new_index             int64  \n",
            " 13  months_number         int64  \n",
            " 14  counter_type          object \n",
            " 15  disrict               int64  \n",
            " 16  client_catg           int64  \n",
            " 17  region                int64  \n",
            " 18  creation_date         object \n",
            " 19  target                float64\n",
            "dtypes: float64(1), int64(15), object(4)\n",
            "memory usage: 717.3+ MB\n"
          ]
        }
      ],
      "source": [
        "train = train.drop('client_id' , axis = 1)\n",
        "train.info()"
      ]
    },
    {
      "cell_type": "code",
      "execution_count": 8,
      "metadata": {
        "id": "nKxmF8eiie0Z",
        "colab": {
          "base_uri": "https://localhost:8080/"
        },
        "outputId": "23576b49-084f-4720-d2a0-501a987dcd6e"
      },
      "outputs": [
        {
          "output_type": "execute_result",
          "data": {
            "text/plain": [
              "invoice_date            0\n",
              "tarif_type              0\n",
              "counter_number          0\n",
              "counter_statue          0\n",
              "counter_code            0\n",
              "reading_remarque        0\n",
              "counter_coefficient     0\n",
              "consommation_level_1    0\n",
              "consommation_level_2    0\n",
              "consommation_level_3    0\n",
              "consommation_level_4    0\n",
              "old_index               0\n",
              "new_index               0\n",
              "months_number           0\n",
              "counter_type            0\n",
              "disrict                 0\n",
              "client_catg             0\n",
              "region                  0\n",
              "creation_date           0\n",
              "target                  0\n",
              "dtype: int64"
            ]
          },
          "metadata": {},
          "execution_count": 8
        }
      ],
      "source": [
        "train.isnull().sum()"
      ]
    },
    {
      "cell_type": "code",
      "execution_count": 10,
      "metadata": {
        "id": "kOiXx1vFcejl",
        "colab": {
          "base_uri": "https://localhost:8080/",
          "height": 270
        },
        "outputId": "4c8193fd-1688-472a-ca65-4fb2c7ab8772"
      },
      "outputs": [
        {
          "output_type": "execute_result",
          "data": {
            "text/plain": [
              "  invoice_date  tarif_type  counter_number counter_statue  counter_code  \\\n",
              "0   2014-03-24          11         1335667              0           203   \n",
              "1   2013-03-29          11         1335667              0           203   \n",
              "2   2015-03-23          11         1335667              0           203   \n",
              "3   2015-07-13          11         1335667              0           207   \n",
              "4   2016-11-17          11         1335667              0           207   \n",
              "\n",
              "   reading_remarque  counter_coefficient  consommation_level_1  \\\n",
              "0                 8                    1                    82   \n",
              "1                 6                    1                  1200   \n",
              "2                 8                    1                   123   \n",
              "3                 8                    1                   102   \n",
              "4                 9                    1                   572   \n",
              "\n",
              "   consommation_level_2  consommation_level_3  consommation_level_4  \\\n",
              "0                     0                     0                     0   \n",
              "1                   184                     0                     0   \n",
              "2                     0                     0                     0   \n",
              "3                     0                     0                     0   \n",
              "4                     0                     0                     0   \n",
              "\n",
              "   old_index  new_index  months_number counter_type  disrict  client_catg  \\\n",
              "0      14302      14384              4         ELEC       60           11   \n",
              "1      12294      13678              4         ELEC       60           11   \n",
              "2      14624      14747              4         ELEC       60           11   \n",
              "3      14747      14849              4         ELEC       60           11   \n",
              "4      15066      15638             12         ELEC       60           11   \n",
              "\n",
              "   region creation_date  target  \n",
              "0     101    31/12/1994     0.0  \n",
              "1     101    31/12/1994     0.0  \n",
              "2     101    31/12/1994     0.0  \n",
              "3     101    31/12/1994     0.0  \n",
              "4     101    31/12/1994     0.0  "
            ],
            "text/html": [
              "\n",
              "\n",
              "  <div id=\"df-894985ec-e65f-4c41-a5ca-3e60d5654d70\">\n",
              "    <div class=\"colab-df-container\">\n",
              "      <div>\n",
              "<style scoped>\n",
              "    .dataframe tbody tr th:only-of-type {\n",
              "        vertical-align: middle;\n",
              "    }\n",
              "\n",
              "    .dataframe tbody tr th {\n",
              "        vertical-align: top;\n",
              "    }\n",
              "\n",
              "    .dataframe thead th {\n",
              "        text-align: right;\n",
              "    }\n",
              "</style>\n",
              "<table border=\"1\" class=\"dataframe\">\n",
              "  <thead>\n",
              "    <tr style=\"text-align: right;\">\n",
              "      <th></th>\n",
              "      <th>invoice_date</th>\n",
              "      <th>tarif_type</th>\n",
              "      <th>counter_number</th>\n",
              "      <th>counter_statue</th>\n",
              "      <th>counter_code</th>\n",
              "      <th>reading_remarque</th>\n",
              "      <th>counter_coefficient</th>\n",
              "      <th>consommation_level_1</th>\n",
              "      <th>consommation_level_2</th>\n",
              "      <th>consommation_level_3</th>\n",
              "      <th>consommation_level_4</th>\n",
              "      <th>old_index</th>\n",
              "      <th>new_index</th>\n",
              "      <th>months_number</th>\n",
              "      <th>counter_type</th>\n",
              "      <th>disrict</th>\n",
              "      <th>client_catg</th>\n",
              "      <th>region</th>\n",
              "      <th>creation_date</th>\n",
              "      <th>target</th>\n",
              "    </tr>\n",
              "  </thead>\n",
              "  <tbody>\n",
              "    <tr>\n",
              "      <th>0</th>\n",
              "      <td>2014-03-24</td>\n",
              "      <td>11</td>\n",
              "      <td>1335667</td>\n",
              "      <td>0</td>\n",
              "      <td>203</td>\n",
              "      <td>8</td>\n",
              "      <td>1</td>\n",
              "      <td>82</td>\n",
              "      <td>0</td>\n",
              "      <td>0</td>\n",
              "      <td>0</td>\n",
              "      <td>14302</td>\n",
              "      <td>14384</td>\n",
              "      <td>4</td>\n",
              "      <td>ELEC</td>\n",
              "      <td>60</td>\n",
              "      <td>11</td>\n",
              "      <td>101</td>\n",
              "      <td>31/12/1994</td>\n",
              "      <td>0.0</td>\n",
              "    </tr>\n",
              "    <tr>\n",
              "      <th>1</th>\n",
              "      <td>2013-03-29</td>\n",
              "      <td>11</td>\n",
              "      <td>1335667</td>\n",
              "      <td>0</td>\n",
              "      <td>203</td>\n",
              "      <td>6</td>\n",
              "      <td>1</td>\n",
              "      <td>1200</td>\n",
              "      <td>184</td>\n",
              "      <td>0</td>\n",
              "      <td>0</td>\n",
              "      <td>12294</td>\n",
              "      <td>13678</td>\n",
              "      <td>4</td>\n",
              "      <td>ELEC</td>\n",
              "      <td>60</td>\n",
              "      <td>11</td>\n",
              "      <td>101</td>\n",
              "      <td>31/12/1994</td>\n",
              "      <td>0.0</td>\n",
              "    </tr>\n",
              "    <tr>\n",
              "      <th>2</th>\n",
              "      <td>2015-03-23</td>\n",
              "      <td>11</td>\n",
              "      <td>1335667</td>\n",
              "      <td>0</td>\n",
              "      <td>203</td>\n",
              "      <td>8</td>\n",
              "      <td>1</td>\n",
              "      <td>123</td>\n",
              "      <td>0</td>\n",
              "      <td>0</td>\n",
              "      <td>0</td>\n",
              "      <td>14624</td>\n",
              "      <td>14747</td>\n",
              "      <td>4</td>\n",
              "      <td>ELEC</td>\n",
              "      <td>60</td>\n",
              "      <td>11</td>\n",
              "      <td>101</td>\n",
              "      <td>31/12/1994</td>\n",
              "      <td>0.0</td>\n",
              "    </tr>\n",
              "    <tr>\n",
              "      <th>3</th>\n",
              "      <td>2015-07-13</td>\n",
              "      <td>11</td>\n",
              "      <td>1335667</td>\n",
              "      <td>0</td>\n",
              "      <td>207</td>\n",
              "      <td>8</td>\n",
              "      <td>1</td>\n",
              "      <td>102</td>\n",
              "      <td>0</td>\n",
              "      <td>0</td>\n",
              "      <td>0</td>\n",
              "      <td>14747</td>\n",
              "      <td>14849</td>\n",
              "      <td>4</td>\n",
              "      <td>ELEC</td>\n",
              "      <td>60</td>\n",
              "      <td>11</td>\n",
              "      <td>101</td>\n",
              "      <td>31/12/1994</td>\n",
              "      <td>0.0</td>\n",
              "    </tr>\n",
              "    <tr>\n",
              "      <th>4</th>\n",
              "      <td>2016-11-17</td>\n",
              "      <td>11</td>\n",
              "      <td>1335667</td>\n",
              "      <td>0</td>\n",
              "      <td>207</td>\n",
              "      <td>9</td>\n",
              "      <td>1</td>\n",
              "      <td>572</td>\n",
              "      <td>0</td>\n",
              "      <td>0</td>\n",
              "      <td>0</td>\n",
              "      <td>15066</td>\n",
              "      <td>15638</td>\n",
              "      <td>12</td>\n",
              "      <td>ELEC</td>\n",
              "      <td>60</td>\n",
              "      <td>11</td>\n",
              "      <td>101</td>\n",
              "      <td>31/12/1994</td>\n",
              "      <td>0.0</td>\n",
              "    </tr>\n",
              "  </tbody>\n",
              "</table>\n",
              "</div>\n",
              "      <button class=\"colab-df-convert\" onclick=\"convertToInteractive('df-894985ec-e65f-4c41-a5ca-3e60d5654d70')\"\n",
              "              title=\"Convert this dataframe to an interactive table.\"\n",
              "              style=\"display:none;\">\n",
              "\n",
              "  <svg xmlns=\"http://www.w3.org/2000/svg\" height=\"24px\"viewBox=\"0 0 24 24\"\n",
              "       width=\"24px\">\n",
              "    <path d=\"M0 0h24v24H0V0z\" fill=\"none\"/>\n",
              "    <path d=\"M18.56 5.44l.94 2.06.94-2.06 2.06-.94-2.06-.94-.94-2.06-.94 2.06-2.06.94zm-11 1L8.5 8.5l.94-2.06 2.06-.94-2.06-.94L8.5 2.5l-.94 2.06-2.06.94zm10 10l.94 2.06.94-2.06 2.06-.94-2.06-.94-.94-2.06-.94 2.06-2.06.94z\"/><path d=\"M17.41 7.96l-1.37-1.37c-.4-.4-.92-.59-1.43-.59-.52 0-1.04.2-1.43.59L10.3 9.45l-7.72 7.72c-.78.78-.78 2.05 0 2.83L4 21.41c.39.39.9.59 1.41.59.51 0 1.02-.2 1.41-.59l7.78-7.78 2.81-2.81c.8-.78.8-2.07 0-2.86zM5.41 20L4 18.59l7.72-7.72 1.47 1.35L5.41 20z\"/>\n",
              "  </svg>\n",
              "      </button>\n",
              "\n",
              "\n",
              "\n",
              "    <div id=\"df-a3850919-0a6d-4495-8367-475911ffa5b3\">\n",
              "      <button class=\"colab-df-quickchart\" onclick=\"quickchart('df-a3850919-0a6d-4495-8367-475911ffa5b3')\"\n",
              "              title=\"Suggest charts.\"\n",
              "              style=\"display:none;\">\n",
              "\n",
              "<svg xmlns=\"http://www.w3.org/2000/svg\" height=\"24px\"viewBox=\"0 0 24 24\"\n",
              "     width=\"24px\">\n",
              "    <g>\n",
              "        <path d=\"M19 3H5c-1.1 0-2 .9-2 2v14c0 1.1.9 2 2 2h14c1.1 0 2-.9 2-2V5c0-1.1-.9-2-2-2zM9 17H7v-7h2v7zm4 0h-2V7h2v10zm4 0h-2v-4h2v4z\"/>\n",
              "    </g>\n",
              "</svg>\n",
              "      </button>\n",
              "    </div>\n",
              "\n",
              "<style>\n",
              "  .colab-df-quickchart {\n",
              "    background-color: #E8F0FE;\n",
              "    border: none;\n",
              "    border-radius: 50%;\n",
              "    cursor: pointer;\n",
              "    display: none;\n",
              "    fill: #1967D2;\n",
              "    height: 32px;\n",
              "    padding: 0 0 0 0;\n",
              "    width: 32px;\n",
              "  }\n",
              "\n",
              "  .colab-df-quickchart:hover {\n",
              "    background-color: #E2EBFA;\n",
              "    box-shadow: 0px 1px 2px rgba(60, 64, 67, 0.3), 0px 1px 3px 1px rgba(60, 64, 67, 0.15);\n",
              "    fill: #174EA6;\n",
              "  }\n",
              "\n",
              "  [theme=dark] .colab-df-quickchart {\n",
              "    background-color: #3B4455;\n",
              "    fill: #D2E3FC;\n",
              "  }\n",
              "\n",
              "  [theme=dark] .colab-df-quickchart:hover {\n",
              "    background-color: #434B5C;\n",
              "    box-shadow: 0px 1px 3px 1px rgba(0, 0, 0, 0.15);\n",
              "    filter: drop-shadow(0px 1px 2px rgba(0, 0, 0, 0.3));\n",
              "    fill: #FFFFFF;\n",
              "  }\n",
              "</style>\n",
              "\n",
              "    <script>\n",
              "      async function quickchart(key) {\n",
              "        const containerElement = document.querySelector('#' + key);\n",
              "        const charts = await google.colab.kernel.invokeFunction(\n",
              "            'suggestCharts', [key], {});\n",
              "      }\n",
              "    </script>\n",
              "\n",
              "      <script>\n",
              "\n",
              "function displayQuickchartButton(domScope) {\n",
              "  let quickchartButtonEl =\n",
              "    domScope.querySelector('#df-a3850919-0a6d-4495-8367-475911ffa5b3 button.colab-df-quickchart');\n",
              "  quickchartButtonEl.style.display =\n",
              "    google.colab.kernel.accessAllowed ? 'block' : 'none';\n",
              "}\n",
              "\n",
              "        displayQuickchartButton(document);\n",
              "      </script>\n",
              "      <style>\n",
              "    .colab-df-container {\n",
              "      display:flex;\n",
              "      flex-wrap:wrap;\n",
              "      gap: 12px;\n",
              "    }\n",
              "\n",
              "    .colab-df-convert {\n",
              "      background-color: #E8F0FE;\n",
              "      border: none;\n",
              "      border-radius: 50%;\n",
              "      cursor: pointer;\n",
              "      display: none;\n",
              "      fill: #1967D2;\n",
              "      height: 32px;\n",
              "      padding: 0 0 0 0;\n",
              "      width: 32px;\n",
              "    }\n",
              "\n",
              "    .colab-df-convert:hover {\n",
              "      background-color: #E2EBFA;\n",
              "      box-shadow: 0px 1px 2px rgba(60, 64, 67, 0.3), 0px 1px 3px 1px rgba(60, 64, 67, 0.15);\n",
              "      fill: #174EA6;\n",
              "    }\n",
              "\n",
              "    [theme=dark] .colab-df-convert {\n",
              "      background-color: #3B4455;\n",
              "      fill: #D2E3FC;\n",
              "    }\n",
              "\n",
              "    [theme=dark] .colab-df-convert:hover {\n",
              "      background-color: #434B5C;\n",
              "      box-shadow: 0px 1px 3px 1px rgba(0, 0, 0, 0.15);\n",
              "      filter: drop-shadow(0px 1px 2px rgba(0, 0, 0, 0.3));\n",
              "      fill: #FFFFFF;\n",
              "    }\n",
              "  </style>\n",
              "\n",
              "      <script>\n",
              "        const buttonEl =\n",
              "          document.querySelector('#df-894985ec-e65f-4c41-a5ca-3e60d5654d70 button.colab-df-convert');\n",
              "        buttonEl.style.display =\n",
              "          google.colab.kernel.accessAllowed ? 'block' : 'none';\n",
              "\n",
              "        async function convertToInteractive(key) {\n",
              "          const element = document.querySelector('#df-894985ec-e65f-4c41-a5ca-3e60d5654d70');\n",
              "          const dataTable =\n",
              "            await google.colab.kernel.invokeFunction('convertToInteractive',\n",
              "                                                     [key], {});\n",
              "          if (!dataTable) return;\n",
              "\n",
              "          const docLinkHtml = 'Like what you see? Visit the ' +\n",
              "            '<a target=\"_blank\" href=https://colab.research.google.com/notebooks/data_table.ipynb>data table notebook</a>'\n",
              "            + ' to learn more about interactive tables.';\n",
              "          element.innerHTML = '';\n",
              "          dataTable['output_type'] = 'display_data';\n",
              "          await google.colab.output.renderOutput(dataTable, element);\n",
              "          const docLink = document.createElement('div');\n",
              "          docLink.innerHTML = docLinkHtml;\n",
              "          element.appendChild(docLink);\n",
              "        }\n",
              "      </script>\n",
              "    </div>\n",
              "  </div>\n"
            ]
          },
          "metadata": {},
          "execution_count": 10
        }
      ],
      "source": [
        "train.head()"
      ]
    },
    {
      "cell_type": "code",
      "execution_count": 28,
      "metadata": {
        "id": "7Erw58HeYP-k"
      },
      "outputs": [],
      "source": [
        "train = train.drop_duplicates()"
      ]
    },
    {
      "cell_type": "code",
      "execution_count": 29,
      "metadata": {
        "id": "lod_Dhw9P-9O",
        "colab": {
          "base_uri": "https://localhost:8080/"
        },
        "outputId": "b4ff11a4-a15d-4ed0-d84d-ad319072f29f"
      },
      "outputs": [
        {
          "output_type": "execute_result",
          "data": {
            "text/plain": [
              "dtype('O')"
            ]
          },
          "metadata": {},
          "execution_count": 29
        }
      ],
      "source": [
        "train['invoice_date'].dtype"
      ]
    },
    {
      "cell_type": "code",
      "execution_count": 30,
      "metadata": {
        "id": "XSd7pEsNSI1S",
        "colab": {
          "base_uri": "https://localhost:8080/"
        },
        "outputId": "d5768055-9ffd-40a9-b7e8-a9d9b96fbd83"
      },
      "outputs": [
        {
          "output_type": "execute_result",
          "data": {
            "text/plain": [
              "(4471461, 24)"
            ]
          },
          "metadata": {},
          "execution_count": 30
        }
      ],
      "source": [
        "## convert invoice date from object to int datatype\n",
        "train['invoice_date'] = pd.to_datetime(train['invoice_date'] , format= \"%Y/%m/%d\")\n",
        "train['invoice_year'] = train['invoice_date'].dt.year\n",
        "train['invoice_month'] = train['invoice_date'].dt.month\n",
        "train['invoice_day'] = train['invoice_date'].dt.day\n",
        "train = train.drop('invoice_date' , axis = 1)\n",
        "\n",
        "## convert invoice date from object to int datatype\n",
        "train['creation_date'] = pd.to_datetime(train['creation_date'] , format = \"%d/%m/%Y\")\n",
        "train['creation_year'] = train['creation_date'].dt.year\n",
        "train['creation_month'] = train['creation_date'].dt.month\n",
        "train['creation_day'] = train['creation_date'].dt.day\n",
        "train = train.drop('creation_date' , axis = 1)\n",
        "train.shape"
      ]
    },
    {
      "cell_type": "code",
      "execution_count": 14,
      "metadata": {
        "id": "sYXOO4ggTR4O",
        "colab": {
          "base_uri": "https://localhost:8080/",
          "height": 300
        },
        "outputId": "d8266e58-16a3-40a7-c3d9-2c1c31844cd9"
      },
      "outputs": [
        {
          "output_type": "execute_result",
          "data": {
            "text/plain": [
              "   tarif_type  counter_number counter_statue  counter_code  reading_remarque  \\\n",
              "0          11         1335667              0           203                 8   \n",
              "1          11         1335667              0           203                 6   \n",
              "2          11         1335667              0           203                 8   \n",
              "3          11         1335667              0           207                 8   \n",
              "4          11         1335667              0           207                 9   \n",
              "\n",
              "   counter_coefficient  consommation_level_1  consommation_level_2  \\\n",
              "0                    1                    82                     0   \n",
              "1                    1                  1200                   184   \n",
              "2                    1                   123                     0   \n",
              "3                    1                   102                     0   \n",
              "4                    1                   572                     0   \n",
              "\n",
              "   consommation_level_3  consommation_level_4  ...  disrict  client_catg  \\\n",
              "0                     0                     0  ...       60           11   \n",
              "1                     0                     0  ...       60           11   \n",
              "2                     0                     0  ...       60           11   \n",
              "3                     0                     0  ...       60           11   \n",
              "4                     0                     0  ...       60           11   \n",
              "\n",
              "   region target  invoice_year  invoice_month  invoice_day  creation_year  \\\n",
              "0     101    0.0          2014              3           24           1994   \n",
              "1     101    0.0          2013              3           29           1994   \n",
              "2     101    0.0          2015              3           23           1994   \n",
              "3     101    0.0          2015              7           13           1994   \n",
              "4     101    0.0          2016             11           17           1994   \n",
              "\n",
              "   creation_month  creation_day  \n",
              "0              12            31  \n",
              "1              12            31  \n",
              "2              12            31  \n",
              "3              12            31  \n",
              "4              12            31  \n",
              "\n",
              "[5 rows x 24 columns]"
            ],
            "text/html": [
              "\n",
              "\n",
              "  <div id=\"df-9358e6ca-bc2c-41ad-9088-c9d83069f1e1\">\n",
              "    <div class=\"colab-df-container\">\n",
              "      <div>\n",
              "<style scoped>\n",
              "    .dataframe tbody tr th:only-of-type {\n",
              "        vertical-align: middle;\n",
              "    }\n",
              "\n",
              "    .dataframe tbody tr th {\n",
              "        vertical-align: top;\n",
              "    }\n",
              "\n",
              "    .dataframe thead th {\n",
              "        text-align: right;\n",
              "    }\n",
              "</style>\n",
              "<table border=\"1\" class=\"dataframe\">\n",
              "  <thead>\n",
              "    <tr style=\"text-align: right;\">\n",
              "      <th></th>\n",
              "      <th>tarif_type</th>\n",
              "      <th>counter_number</th>\n",
              "      <th>counter_statue</th>\n",
              "      <th>counter_code</th>\n",
              "      <th>reading_remarque</th>\n",
              "      <th>counter_coefficient</th>\n",
              "      <th>consommation_level_1</th>\n",
              "      <th>consommation_level_2</th>\n",
              "      <th>consommation_level_3</th>\n",
              "      <th>consommation_level_4</th>\n",
              "      <th>...</th>\n",
              "      <th>disrict</th>\n",
              "      <th>client_catg</th>\n",
              "      <th>region</th>\n",
              "      <th>target</th>\n",
              "      <th>invoice_year</th>\n",
              "      <th>invoice_month</th>\n",
              "      <th>invoice_day</th>\n",
              "      <th>creation_year</th>\n",
              "      <th>creation_month</th>\n",
              "      <th>creation_day</th>\n",
              "    </tr>\n",
              "  </thead>\n",
              "  <tbody>\n",
              "    <tr>\n",
              "      <th>0</th>\n",
              "      <td>11</td>\n",
              "      <td>1335667</td>\n",
              "      <td>0</td>\n",
              "      <td>203</td>\n",
              "      <td>8</td>\n",
              "      <td>1</td>\n",
              "      <td>82</td>\n",
              "      <td>0</td>\n",
              "      <td>0</td>\n",
              "      <td>0</td>\n",
              "      <td>...</td>\n",
              "      <td>60</td>\n",
              "      <td>11</td>\n",
              "      <td>101</td>\n",
              "      <td>0.0</td>\n",
              "      <td>2014</td>\n",
              "      <td>3</td>\n",
              "      <td>24</td>\n",
              "      <td>1994</td>\n",
              "      <td>12</td>\n",
              "      <td>31</td>\n",
              "    </tr>\n",
              "    <tr>\n",
              "      <th>1</th>\n",
              "      <td>11</td>\n",
              "      <td>1335667</td>\n",
              "      <td>0</td>\n",
              "      <td>203</td>\n",
              "      <td>6</td>\n",
              "      <td>1</td>\n",
              "      <td>1200</td>\n",
              "      <td>184</td>\n",
              "      <td>0</td>\n",
              "      <td>0</td>\n",
              "      <td>...</td>\n",
              "      <td>60</td>\n",
              "      <td>11</td>\n",
              "      <td>101</td>\n",
              "      <td>0.0</td>\n",
              "      <td>2013</td>\n",
              "      <td>3</td>\n",
              "      <td>29</td>\n",
              "      <td>1994</td>\n",
              "      <td>12</td>\n",
              "      <td>31</td>\n",
              "    </tr>\n",
              "    <tr>\n",
              "      <th>2</th>\n",
              "      <td>11</td>\n",
              "      <td>1335667</td>\n",
              "      <td>0</td>\n",
              "      <td>203</td>\n",
              "      <td>8</td>\n",
              "      <td>1</td>\n",
              "      <td>123</td>\n",
              "      <td>0</td>\n",
              "      <td>0</td>\n",
              "      <td>0</td>\n",
              "      <td>...</td>\n",
              "      <td>60</td>\n",
              "      <td>11</td>\n",
              "      <td>101</td>\n",
              "      <td>0.0</td>\n",
              "      <td>2015</td>\n",
              "      <td>3</td>\n",
              "      <td>23</td>\n",
              "      <td>1994</td>\n",
              "      <td>12</td>\n",
              "      <td>31</td>\n",
              "    </tr>\n",
              "    <tr>\n",
              "      <th>3</th>\n",
              "      <td>11</td>\n",
              "      <td>1335667</td>\n",
              "      <td>0</td>\n",
              "      <td>207</td>\n",
              "      <td>8</td>\n",
              "      <td>1</td>\n",
              "      <td>102</td>\n",
              "      <td>0</td>\n",
              "      <td>0</td>\n",
              "      <td>0</td>\n",
              "      <td>...</td>\n",
              "      <td>60</td>\n",
              "      <td>11</td>\n",
              "      <td>101</td>\n",
              "      <td>0.0</td>\n",
              "      <td>2015</td>\n",
              "      <td>7</td>\n",
              "      <td>13</td>\n",
              "      <td>1994</td>\n",
              "      <td>12</td>\n",
              "      <td>31</td>\n",
              "    </tr>\n",
              "    <tr>\n",
              "      <th>4</th>\n",
              "      <td>11</td>\n",
              "      <td>1335667</td>\n",
              "      <td>0</td>\n",
              "      <td>207</td>\n",
              "      <td>9</td>\n",
              "      <td>1</td>\n",
              "      <td>572</td>\n",
              "      <td>0</td>\n",
              "      <td>0</td>\n",
              "      <td>0</td>\n",
              "      <td>...</td>\n",
              "      <td>60</td>\n",
              "      <td>11</td>\n",
              "      <td>101</td>\n",
              "      <td>0.0</td>\n",
              "      <td>2016</td>\n",
              "      <td>11</td>\n",
              "      <td>17</td>\n",
              "      <td>1994</td>\n",
              "      <td>12</td>\n",
              "      <td>31</td>\n",
              "    </tr>\n",
              "  </tbody>\n",
              "</table>\n",
              "<p>5 rows × 24 columns</p>\n",
              "</div>\n",
              "      <button class=\"colab-df-convert\" onclick=\"convertToInteractive('df-9358e6ca-bc2c-41ad-9088-c9d83069f1e1')\"\n",
              "              title=\"Convert this dataframe to an interactive table.\"\n",
              "              style=\"display:none;\">\n",
              "\n",
              "  <svg xmlns=\"http://www.w3.org/2000/svg\" height=\"24px\"viewBox=\"0 0 24 24\"\n",
              "       width=\"24px\">\n",
              "    <path d=\"M0 0h24v24H0V0z\" fill=\"none\"/>\n",
              "    <path d=\"M18.56 5.44l.94 2.06.94-2.06 2.06-.94-2.06-.94-.94-2.06-.94 2.06-2.06.94zm-11 1L8.5 8.5l.94-2.06 2.06-.94-2.06-.94L8.5 2.5l-.94 2.06-2.06.94zm10 10l.94 2.06.94-2.06 2.06-.94-2.06-.94-.94-2.06-.94 2.06-2.06.94z\"/><path d=\"M17.41 7.96l-1.37-1.37c-.4-.4-.92-.59-1.43-.59-.52 0-1.04.2-1.43.59L10.3 9.45l-7.72 7.72c-.78.78-.78 2.05 0 2.83L4 21.41c.39.39.9.59 1.41.59.51 0 1.02-.2 1.41-.59l7.78-7.78 2.81-2.81c.8-.78.8-2.07 0-2.86zM5.41 20L4 18.59l7.72-7.72 1.47 1.35L5.41 20z\"/>\n",
              "  </svg>\n",
              "      </button>\n",
              "\n",
              "\n",
              "\n",
              "    <div id=\"df-e7130c08-b9ad-4534-8568-e085250777f8\">\n",
              "      <button class=\"colab-df-quickchart\" onclick=\"quickchart('df-e7130c08-b9ad-4534-8568-e085250777f8')\"\n",
              "              title=\"Suggest charts.\"\n",
              "              style=\"display:none;\">\n",
              "\n",
              "<svg xmlns=\"http://www.w3.org/2000/svg\" height=\"24px\"viewBox=\"0 0 24 24\"\n",
              "     width=\"24px\">\n",
              "    <g>\n",
              "        <path d=\"M19 3H5c-1.1 0-2 .9-2 2v14c0 1.1.9 2 2 2h14c1.1 0 2-.9 2-2V5c0-1.1-.9-2-2-2zM9 17H7v-7h2v7zm4 0h-2V7h2v10zm4 0h-2v-4h2v4z\"/>\n",
              "    </g>\n",
              "</svg>\n",
              "      </button>\n",
              "    </div>\n",
              "\n",
              "<style>\n",
              "  .colab-df-quickchart {\n",
              "    background-color: #E8F0FE;\n",
              "    border: none;\n",
              "    border-radius: 50%;\n",
              "    cursor: pointer;\n",
              "    display: none;\n",
              "    fill: #1967D2;\n",
              "    height: 32px;\n",
              "    padding: 0 0 0 0;\n",
              "    width: 32px;\n",
              "  }\n",
              "\n",
              "  .colab-df-quickchart:hover {\n",
              "    background-color: #E2EBFA;\n",
              "    box-shadow: 0px 1px 2px rgba(60, 64, 67, 0.3), 0px 1px 3px 1px rgba(60, 64, 67, 0.15);\n",
              "    fill: #174EA6;\n",
              "  }\n",
              "\n",
              "  [theme=dark] .colab-df-quickchart {\n",
              "    background-color: #3B4455;\n",
              "    fill: #D2E3FC;\n",
              "  }\n",
              "\n",
              "  [theme=dark] .colab-df-quickchart:hover {\n",
              "    background-color: #434B5C;\n",
              "    box-shadow: 0px 1px 3px 1px rgba(0, 0, 0, 0.15);\n",
              "    filter: drop-shadow(0px 1px 2px rgba(0, 0, 0, 0.3));\n",
              "    fill: #FFFFFF;\n",
              "  }\n",
              "</style>\n",
              "\n",
              "    <script>\n",
              "      async function quickchart(key) {\n",
              "        const containerElement = document.querySelector('#' + key);\n",
              "        const charts = await google.colab.kernel.invokeFunction(\n",
              "            'suggestCharts', [key], {});\n",
              "      }\n",
              "    </script>\n",
              "\n",
              "      <script>\n",
              "\n",
              "function displayQuickchartButton(domScope) {\n",
              "  let quickchartButtonEl =\n",
              "    domScope.querySelector('#df-e7130c08-b9ad-4534-8568-e085250777f8 button.colab-df-quickchart');\n",
              "  quickchartButtonEl.style.display =\n",
              "    google.colab.kernel.accessAllowed ? 'block' : 'none';\n",
              "}\n",
              "\n",
              "        displayQuickchartButton(document);\n",
              "      </script>\n",
              "      <style>\n",
              "    .colab-df-container {\n",
              "      display:flex;\n",
              "      flex-wrap:wrap;\n",
              "      gap: 12px;\n",
              "    }\n",
              "\n",
              "    .colab-df-convert {\n",
              "      background-color: #E8F0FE;\n",
              "      border: none;\n",
              "      border-radius: 50%;\n",
              "      cursor: pointer;\n",
              "      display: none;\n",
              "      fill: #1967D2;\n",
              "      height: 32px;\n",
              "      padding: 0 0 0 0;\n",
              "      width: 32px;\n",
              "    }\n",
              "\n",
              "    .colab-df-convert:hover {\n",
              "      background-color: #E2EBFA;\n",
              "      box-shadow: 0px 1px 2px rgba(60, 64, 67, 0.3), 0px 1px 3px 1px rgba(60, 64, 67, 0.15);\n",
              "      fill: #174EA6;\n",
              "    }\n",
              "\n",
              "    [theme=dark] .colab-df-convert {\n",
              "      background-color: #3B4455;\n",
              "      fill: #D2E3FC;\n",
              "    }\n",
              "\n",
              "    [theme=dark] .colab-df-convert:hover {\n",
              "      background-color: #434B5C;\n",
              "      box-shadow: 0px 1px 3px 1px rgba(0, 0, 0, 0.15);\n",
              "      filter: drop-shadow(0px 1px 2px rgba(0, 0, 0, 0.3));\n",
              "      fill: #FFFFFF;\n",
              "    }\n",
              "  </style>\n",
              "\n",
              "      <script>\n",
              "        const buttonEl =\n",
              "          document.querySelector('#df-9358e6ca-bc2c-41ad-9088-c9d83069f1e1 button.colab-df-convert');\n",
              "        buttonEl.style.display =\n",
              "          google.colab.kernel.accessAllowed ? 'block' : 'none';\n",
              "\n",
              "        async function convertToInteractive(key) {\n",
              "          const element = document.querySelector('#df-9358e6ca-bc2c-41ad-9088-c9d83069f1e1');\n",
              "          const dataTable =\n",
              "            await google.colab.kernel.invokeFunction('convertToInteractive',\n",
              "                                                     [key], {});\n",
              "          if (!dataTable) return;\n",
              "\n",
              "          const docLinkHtml = 'Like what you see? Visit the ' +\n",
              "            '<a target=\"_blank\" href=https://colab.research.google.com/notebooks/data_table.ipynb>data table notebook</a>'\n",
              "            + ' to learn more about interactive tables.';\n",
              "          element.innerHTML = '';\n",
              "          dataTable['output_type'] = 'display_data';\n",
              "          await google.colab.output.renderOutput(dataTable, element);\n",
              "          const docLink = document.createElement('div');\n",
              "          docLink.innerHTML = docLinkHtml;\n",
              "          element.appendChild(docLink);\n",
              "        }\n",
              "      </script>\n",
              "    </div>\n",
              "  </div>\n"
            ]
          },
          "metadata": {},
          "execution_count": 14
        }
      ],
      "source": [
        "train.head()"
      ]
    },
    {
      "cell_type": "code",
      "execution_count": 15,
      "metadata": {
        "id": "EIhRZJDxUWxn",
        "colab": {
          "base_uri": "https://localhost:8080/"
        },
        "outputId": "4ce9953c-2d2b-41b8-d70f-dd669eb81b45"
      },
      "outputs": [
        {
          "output_type": "execute_result",
          "data": {
            "text/plain": [
              "array([0, 1, 5, 4, 3, 2, 769, '0', '5', '1', '4', 'A', 618, 269375, 46,\n",
              "       420], dtype=object)"
            ]
          },
          "metadata": {},
          "execution_count": 15
        }
      ],
      "source": [
        "\n",
        "train['counter_statue'].unique()"
      ]
    },
    {
      "cell_type": "code",
      "execution_count": 16,
      "metadata": {
        "id": "GTvASwa4UhRq",
        "colab": {
          "base_uri": "https://localhost:8080/"
        },
        "outputId": "622222c0-50a1-4241-eac1-6bca8c24ea15"
      },
      "outputs": [
        {
          "output_type": "execute_result",
          "data": {
            "text/plain": [
              "0         4342374\n",
              "1           73041\n",
              "0           32048\n",
              "5           20248\n",
              "4            2706\n",
              "1             540\n",
              "3             258\n",
              "5             144\n",
              "2              32\n",
              "4              23\n",
              "46             14\n",
              "A              13\n",
              "618            12\n",
              "769             6\n",
              "269375          1\n",
              "420             1\n",
              "Name: counter_statue, dtype: int64"
            ]
          },
          "metadata": {},
          "execution_count": 16
        }
      ],
      "source": [
        "train['counter_statue'].value_counts()"
      ]
    },
    {
      "cell_type": "code",
      "execution_count": 31,
      "metadata": {
        "id": "PXtcoSi9Xctz"
      },
      "outputs": [],
      "source": [
        "train.loc[train['counter_statue'] == '0', 'counter_statue'] = 0\n",
        "train.loc[train['counter_statue'] == '1', 'counter_statue'] = 1\n",
        "train.loc[train['counter_statue'] == '5', 'counter_statue'] = 5\n",
        "train.loc[train['counter_statue'] == '4', 'counter_statue'] = 4"
      ]
    },
    {
      "cell_type": "code",
      "execution_count": 32,
      "metadata": {
        "id": "BMYG6PNeaDt7"
      },
      "outputs": [],
      "source": [
        "train = train[train['counter_statue'] != 420]\n",
        "train = train[train['counter_statue'] != 269375]\n",
        "train = train[train['counter_statue'] != 46]\n",
        "train = train[train['counter_statue'] != 'A']\n",
        "train = train[train['counter_statue'] != 618]\n",
        "train = train[train['counter_statue'] != 769]"
      ]
    },
    {
      "cell_type": "code",
      "execution_count": 19,
      "metadata": {
        "id": "bLqLyIoJlWV8",
        "colab": {
          "base_uri": "https://localhost:8080/"
        },
        "outputId": "9654c70a-40af-4f46-bf39-4b908e8e8341"
      },
      "outputs": [
        {
          "output_type": "execute_result",
          "data": {
            "text/plain": [
              "11    2679823\n",
              "40    1374482\n",
              "10     276210\n",
              "15      72409\n",
              "45      17552\n",
              "13      11656\n",
              "14      11611\n",
              "12      11345\n",
              "29      10090\n",
              "9        6039\n",
              "21        104\n",
              "8          43\n",
              "30         35\n",
              "24          9\n",
              "18          4\n",
              "42          1\n",
              "27          1\n",
              "Name: tarif_type, dtype: int64"
            ]
          },
          "metadata": {},
          "execution_count": 19
        }
      ],
      "source": [
        "train['tarif_type'].value_counts()"
      ]
    },
    {
      "cell_type": "code",
      "execution_count": 33,
      "metadata": {
        "id": "hl7b8qrxmNkS"
      },
      "outputs": [],
      "source": [
        "# train = train[train['tarif_type'] != 27]\n",
        "train = train[train['tarif_type'] != 18]\n",
        "# train = train[train['tarif_type'] != 42]\n",
        "train = train[train['tarif_type'] != 24]"
      ]
    },
    {
      "cell_type": "code",
      "execution_count": 21,
      "metadata": {
        "id": "_LN1ILp5--Sd",
        "colab": {
          "base_uri": "https://localhost:8080/"
        },
        "outputId": "e98d1e2c-0e77-4b94-8280-ea7948606769"
      },
      "outputs": [
        {
          "output_type": "execute_result",
          "data": {
            "text/plain": [
              "0                37908\n",
              "2786               251\n",
              "630317             230\n",
              "162709             226\n",
              "963                220\n",
              "                 ...  \n",
              "2175800088952        1\n",
              "2185705285400        1\n",
              "1003064              1\n",
              "753803               1\n",
              "2188700002781        1\n",
              "Name: counter_number, Length: 201891, dtype: int64"
            ]
          },
          "metadata": {},
          "execution_count": 21
        }
      ],
      "source": [
        "train['counter_number'].value_counts()"
      ]
    },
    {
      "cell_type": "code",
      "execution_count": 34,
      "metadata": {
        "id": "H4sj0DXjLK6W",
        "colab": {
          "base_uri": "https://localhost:8080/"
        },
        "outputId": "1d8fc70f-1870-4a69-f8a1-8f778e96e2b6"
      },
      "outputs": [
        {
          "output_type": "stream",
          "name": "stdout",
          "text": [
            "Number of keys has value = 1 is :  7983\n",
            "The key that has value = 1 is :  [2195700341936, 6973881, 1176972, 2178700012182, 404494, 591890, 27171100411284, 2165700087885, 2168700024556, 27181100460028, 4284602, 40623, 7014019, 27181150130800, 2185709235800, 181813, 52315107, 8228, 26576, 27181100449205, 593689, 24916774, 52589, 27181100491875, 27191100622347, 415817, 179397, 752553, 586149, 2165703386700, 2155700057673, 7667471, 989607, 126742, 27191150920300, 21615, 1157371, 177749, 23829, 230413, 248740, 935589, 2178700600300, 2185702849200, 2165701680900, 2168700007521, 8619093, 491621, 2185707502900, 3003652, 27191150109500, 66291, 41864, 8399289, 138360, 404460, 27181100458892, 30236, 111554, 7049, 215463, 27181148885100, 4258410, 293108, 27181150104700, 1056723, 9647, 440965, 352623, 562913, 4534739, 2188700433900, 181211, 2188700019220, 785321, 521145, 1123775, 1134318, 2095700146251, 1256757, 966984, 15332, 2085700082623, 753550, 669276, 27191153138600, 2188700021140, 501381, 2175700015060, 2185700049343, 573436, 27181150107300, 67205, 2185707566600, 2178712510500, 356069, 510546, 584268, 543923, 2168701793700, 2185700049251, 17094, 10353, 3001818, 475067, 2198802510500, 370509, 7208632, 60357, 14314, 2095700146241, 27191150068900, 955960, 37261, 7669142, 512512, 4919135, 128494, 27191150106500, 23063994, 279355, 2185700055800, 996220, 305041, 2158700018612, 371423, 2185705289800, 2155731749000, 209096, 27191150125800, 6706173, 498442, 855, 174074, 695915, 1352918, 37649, 2251220, 134304, 500427, 7180516, 2185707598200, 146150, 1251338, 1748762, 124423, 370475, 5688, 2115969, 31222, 314216, 2175709175700, 96331, 127662, 16072, 76433, 1167341, 2195750932800, 2165800088069, 4868393, 27161100352244, 2185707566800, 81887, 620588, 573457, 2175700086502, 27191153144000, 1334, 27191150998300, 942596, 58400, 718368, 8398504, 119104, 1306897, 777794, 303113, 1141840, 27181100427109, 142028, 9531535, 417431, 27181100491814, 4880350, 8857564, 61060, 466862, 4536561, 754767, 27131100225594, 2188700013110, 27181144199000, 36039, 44468765, 8541316, 2641428, 4873123, 297933, 325332, 6614, 6778845, 2165700101619, 629877, 6783161, 65903, 49503, 1644655, 145089, 444080, 6704893, 2168700023513, 2185700079499, 338041, 1804337, 26414208, 304356, 2185700049420, 2125700365657, 193188, 27171100388714, 1748565, 248122, 138112, 2185700079571, 81686, 248533, 777921, 2185744114300, 316929, 546552, 6860513, 2620, 1643525, 37292, 284388, 2122115, 4197427, 10720, 539376, 1013716, 2188700004607, 2185701906900, 469108, 582938, 419676, 27191152349700, 1315363, 251065, 611518, 533851, 134282, 676750, 27181143905500, 60787, 27191100522970, 250445, 2185707572100, 74145, 198419, 27171100393757, 476530, 27171142224400, 1098136, 266529, 2168700008084, 52335064, 1247316, 326568, 6780968, 434495, 1067370, 340383, 369073, 20431248, 56891, 2178702719700, 7004581, 505579, 4134, 2118700120835, 2168700025475, 27181150136600, 582773, 27181150117200, 991121, 560399, 426371, 1077788, 67208, 27161100387958, 1049829, 77127, 45170, 491248, 1533670, 7928412, 27181100448012, 171165, 89291, 782469, 1051903, 27191152196900, 333218, 6785313, 14842312, 300502, 4193240, 4918991, 185825, 27171139900600, 2175741331100, 662868, 27181150116900, 27171100422583, 20851866, 778582, 247269, 2185705290700, 949795, 2185700027477, 239828, 534818, 1027198, 27181100866300, 637561, 6708811, 7056102, 65365, 2188700002814, 63879, 49325, 27181150106700, 2185800025689, 27181150112700, 1324529, 2165700090742, 7775035, 798447, 4365049, 884524, 697635, 1054294, 877608, 2175705525500, 40284, 7949072, 2185702804000, 8513246, 56220974, 1197937, 806874, 7654006, 2728751, 712472, 14842004, 27181100447911, 1147135, 125918, 27181100478128, 27181100471999, 5880, 6875415, 196491, 82051, 8634479, 1900752, 4826804, 418752, 509170, 2168700015200, 464208, 93912, 2185800025694, 27181146921900, 83072, 503591, 367643, 1284693, 8363274, 337984, 44786, 789094, 27181100458130, 157467, 120275, 2178700006689, 56221626, 83812, 634297, 10132, 8624982, 740883, 2195709717900, 2185800044841, 1170836, 27153403121100, 27161137962700, 512073, 27161136953100, 67278, 27171100386939, 471711, 204749, 129556, 2195700115319, 837193, 27181149273800, 2188700415900, 4539860, 31550, 2188700013005, 66997, 2185700079586, 70971, 27171100388288, 690821, 798506, 87506, 2503356, 16472, 4170559, 29049, 516930, 1370178, 11843, 811829, 441254, 9519818, 9530598, 247375, 512184, 7522350, 141558, 573078, 27171100388728, 688374, 27181149356200, 370117, 326520, 579341, 83059, 27181149335000, 425883, 27181144118100, 385682, 774872, 9506901, 8618286, 2148763815100, 677713, 27171100388390, 1093695, 185332, 132821, 2117295, 2175700089775, 311636, 159824, 52321717, 518119, 2019, 385237, 584248, 4523958, 2117542, 27927, 4811612, 616549, 129010, 15539010, 4059165, 554661, 2158700005581, 27181100458423, 2118893, 27181100470987, 897908, 234482, 37921, 2185800044840, 315073, 2115541, 26414216, 27161135915800, 27141100287356, 27181100452093, 8802202, 14022, 2165706163700, 256397, 4873553, 1048013, 2185707577300, 2641426, 27181100471986, 712288, 2188700004393, 2185707566500, 2188700003069, 356478, 63191, 27181100457998, 2185700058288, 16765, 8619956, 12776, 27163400001420, 326619, 2138763408700, 27171100382654, 142643, 4164257, 1157411, 4275472, 766074, 3270, 4877467, 7056122, 1045368, 3001119, 69054, 433304, 364266, 38589, 8524953, 27181142887600, 6976173, 1280032, 523004, 2185708509500, 134573, 27191150153300, 166665, 2175700043902, 2165700806800, 644605, 227826, 2165700406765, 318146, 2185700004858, 83288, 27171142259000, 28353, 6872464, 690540, 112530, 1140652, 27181100483938, 3122275, 27171139831800, 27171100388971, 2178800020942, 142648, 868764, 608505, 923083, 2195709324000, 4256830, 980281, 566965, 608684, 235137, 187133, 309792, 430667, 79165, 4882953, 810330, 95804, 38249, 1291810, 2168700009932, 503052, 1142091, 9533626, 2168700021224, 542076, 27171100388743, 2188700431100, 2185700092275, 25140424, 1040536, 1328200, 130856, 27181150113500, 244255, 2175739902900, 61741, 66900, 428647, 1033932, 6978476, 518976, 578321, 53057, 536095, 27181150094600, 7004563, 802570, 8753052, 532, 662354, 226265, 1371728, 8631487, 711889, 8158245, 2178800013747, 170080, 523510, 27181150126800, 97636, 2168700019742, 2188700014318, 18641, 528107, 7000491, 798249, 96489, 2178701800700, 2185707573300, 1253767, 6841818, 17956, 372849, 2188700014988, 1019488, 27161100343034, 27181150061600, 533783, 691426, 298037, 4811824, 684958, 27181146875900, 2175700015394, 330748, 2185800460723, 9505919, 288077, 219027, 2188700015132, 19484, 907067, 198833, 1187188, 27191100533472, 53231, 27181109320000, 511445, 410094, 1082799, 27181145160100, 545461, 510124, 2188700008464, 2168700020176, 4539458, 48692, 523150, 4832300, 593434, 2178700594400, 739700, 27181144112000, 27171141528300, 2185700087500, 4894900, 1363104, 481973, 130613, 501456, 646475, 1026552, 27171100387224, 1101819, 516986, 2175701403100, 194051, 2185709226400, 7926442, 156303, 1338905, 1259489, 4920126, 27181149368000, 9537571, 1746760, 815008, 9511647, 1002104, 134905, 7058244, 189142, 815208, 2158700023726, 2188700021080, 7657639, 4272295, 27181142726800, 27161100341363, 687225, 2178700025725, 189099, 204585, 314693, 397187, 21725, 245339, 69029, 3967725, 435521, 1180726, 2175738627000, 432520, 8338189, 98000096, 27181100458213, 872100, 360305, 31187, 1158710, 163787, 7667947, 588036, 72277, 569603, 63782, 2502779, 27081107, 854693, 7032821, 5138344, 2178700007583, 659390, 27191146770100, 6300860, 27181153132000, 44231, 8631049, 326580, 2185700044018, 4287031, 709649, 2168700000269, 444366, 29661, 27161100346120, 1155003, 645313, 2175703624300, 644572, 406891, 2185700025990, 458951, 2195709268100, 27191100522671, 1194063, 2185707581100, 93132, 4884078, 309949, 2178700025696, 197684, 74957, 85696, 1418381, 6973875, 4893507, 2158700302700, 251510, 1065717, 6846963, 119696, 37410, 132747, 4463177, 1258997, 2175745583000, 2185700257700, 53326, 2175706111100, 4877549, 883134, 397634, 14840106, 854895, 2065426, 2165706126400, 170296, 644721, 27171100386482, 2178701205700, 1040363, 27161100379017, 2195709350300, 221296, 4288305, 77154, 2185704558300, 2175706695400, 2426, 2178700006332, 12381, 2185800018385, 27181144116200, 282765, 27171100423216, 2185700092031, 6818721, 2178701799900, 4182083, 2168702863800, 663901, 679347, 1321897, 141199, 27161137527600, 27171100387443, 2185700018021, 27181147880400, 732064, 286556, 7002253, 1367233, 7673675, 1209811, 1883, 1514880, 27181100492639, 420180, 173236, 3961634, 2185705290800, 955879, 80217, 4173829, 2178702723300, 27181141426100, 44158, 1328422, 251832, 44466669, 27181142670200, 2114175, 2068700161345, 2185705830100, 325282, 27171100379979, 2195709337000, 2148763964300, 2188700002906, 11679, 579783, 4290640, 2175709070800, 2185700028352, 113357, 23540, 167515, 9521775, 938925, 720099, 623046, 640509, 1246254, 4338, 19548, 6973902, 27181143056800, 2185700087614, 259382, 27181100458354, 2178700574000, 6995379, 76803, 484069, 27171139433800, 138494, 338216, 18523, 423508, 310104, 2185707499600, 1250649, 431899, 27171100386472, 810191, 103001, 1028771, 417716, 687029, 762336, 29938, 251670, 524942, 2195709336700, 27181100446603, 2168700023824, 2185707602200, 11963, 543764, 7202, 338051, 2185704694900, 2165700087893, 2185705267800, 6978902, 223863, 27161100370306, 8316406, 2178700575600, 2188700013165, 1905649, 750021, 117713, 4166801005400, 561425, 234896, 164390, 6300170, 7768187, 27161100376032, 27181104559500, 465752, 85607100, 835901, 4437245, 52320116, 6785177, 27181146638700, 7928520, 2188700014222, 2165701715300, 6834442, 2188700022103, 111725, 281705, 1379349, 94328947, 6973936, 1209271, 8022771, 2185800017756, 118452, 774941, 810682, 315840, 6877410, 27181147002900, 2155702808300, 608091, 2155702806300, 93742, 199224, 2168800004172, 23501, 27161136922000, 238356, 803385, 2188700019229, 107141, 719875, 579893, 320675, 4478050, 494719, 27171100392162, 6893102, 404054, 27171100385862, 1026111, 513943, 2185709186700, 1991, 3306, 69179, 2168700000262, 4475439, 27171100387128, 2198700555173, 4521748, 24017, 183592, 172384, 27181100499907, 7983821, 262280, 546789, 517893, 1002806, 2185700066428, 160627, 314771, 950043, 454459, 27181148892300, 2185700092103, 19415, 2165700102143, 92351, 2185800008930, 15242315, 459038, 666940, 213992, 6895745, 2178701801200, 712313, 4260965, 120903, 209021, 403939, 1321332, 2175700025222, 536009, 3871, 2188800014924, 335246, 2175701092600, 2195709340900, 2195709324200, 287399, 5784, 523719, 824649, 27191151044100, 1026657, 578603, 2178700003771, 404021, 2120858, 6976214, 45212, 1700593, 562295, 329895, 562294, 20579, 501921, 1196115, 1359632, 155871, 83863, 133413, 27181149353700, 27191150794700, 27181100449223, 2165701719900, 195911, 27171139281700, 167811, 158851, 2165704234900, 585699, 56076, 4558098, 4524451, 650951, 1286839, 27181100488097, 2165700004030, 685372, 9504, 153622, 5288, 270097, 106166, 2984, 4497199, 2185705250300, 2165704249300, 2178700008247, 300164, 306230, 4522126, 2185709305500, 27181145150600, 6895781, 642140, 602999, 245506, 4197420, 18077, 2165700073248, 24916854, 188403, 7002468, 644870, 2185710078000, 2502039, 158019, 446332, 6858080, 593767, 2178700012029, 8623363, 79426, 27181149190200, 401933, 2185700004168, 623485, 7930666, 7812907, 526447, 27181100492642, 30285, 557346, 25239, 307817, 4883535, 2165700101774, 3907, 6736263, 2178700010853, 4541285, 257460, 4919144, 27181100500477, 27191100522343, 2175706688200, 4849698, 581857, 2145801961200, 2185705251200, 2195709350600, 276229, 9501266, 2185700044021, 632106, 6888744, 4369459, 8212, 27181147028200, 273889, 44467459, 452580, 27191100522633, 2185700004467, 6765, 317065, 31445, 37043, 448711, 7969371, 1112652, 6834220, 297568, 27181150153000, 55018853, 20851510, 27191153257900, 1054491, 1223060, 924576, 177131, 1102117, 27181147075100, 184307, 2168700019762, 6781046, 27181150154400, 127825, 424492, 2188700009376, 2178701433500, 2175700043701, 2165809162000, 27181100458334, 424366, 152845, 52321287, 27191152287600, 1090162, 586782, 3004192, 1803480, 1331343, 2165700101882, 20851476, 250139, 501623, 1360657, 340220, 340025, 246180, 725230, 109104, 5232197, 8631950, 338719, 259417, 27181100458208, 485148, 983332, 2188700857900, 2188701185400, 2195700115295, 369500, 27181146599900, 61453, 2185700004959, 20568, 2168700013448, 431827, 2168701823700, 102029, 329314, 296980, 200802, 7973383, 323532, 256025, 560304, 359425, 831703, 245496, 417921, 589470, 338740, 1185046, 9517310, 1074661, 118561, 2185705301400, 340371, 2185704781300, 16044, 2165700019707, 153570, 279104, 2168702884000, 27181149211100, 27171100387257, 118595, 710551, 2158700023908, 616367, 40017, 22579, 39273, 2188801519900, 2185700075047, 190225, 4526790, 2158700752568, 195321, 9093, 224203, 512722, 2155700039551, 402230, 586616, 1027409, 27171100392560, 201562, 695531, 1070644, 146172, 554571, 567894, 1055935, 4474692, 28832, 1081319, 2188700004636, 9525426, 16633, 7759913, 141657, 2185700087471, 27181150127000, 2185700049600, 4217304, 2185700500899, 7808479, 9340, 508664, 242999, 3766, 2175700005289, 2165700102134, 1014761, 6776676, 2185702845200, 63819, 541857, 2155733023800, 1379872, 27151111366487, 1636336, 5440, 4057756, 4156838542000, 177864, 401150, 17988, 8152, 182979, 2178700006475, 897556, 401415, 279183, 336229, 477566, 479027, 3967151, 4559171, 866636, 641676, 4173438, 430784, 61887, 4879410, 1089198, 2168700622334, 15912, 27181150090200, 295385, 91060, 703017, 14892, 2178700006487, 27181147813800, 27161135988200, 431866, 1251451, 8618240, 6860418, 155536, 720963, 27181100437912, 7764320, 15691, 1766061, 573418, 2165700062684, 2195709286300, 277043, 176584, 32041, 27181100449248, 4323143, 24493, 27181148889800, 113727, 27181146973700, 299726, 6974034, 2175700089061, 27171100391997, 2185800054558, 27181146637900, 27181100499975, 2175800089194, 922466, 27191100533137, 27181100412431, 52321109, 431231, 156101, 732758, 818804, 976484, 1154756, 810837, 27171150116800, 2503386, 27181149324400, 503386, 2158700015952, 1035354, 558503, 73667, 2178700108099, 242984, 5510590, 2148763962000, 2178700021040, 904525, 2185707504200, 6843737, 793857, 2175800089689, 32040, 606768, 477780, 7765885, 2175700004124, 158783, 70290, 2185709226200, 84566, 27191150932900, 33892, 614505, 101344, 104492, 2195709520400, 462276, 271166, 104029, 404709, 372118, 64913, 2188701504300, 6793926, 2185744123300, 27151130334500, 681990, 27171140052900, 1804436, 2165702981300, 405248, 713172, 7780016, 642375, 536433, 501669, 35062, 1054127, 941343, 642371, 251302, 16752, 8544190, 5361, 22092094, 4812963, 207673, 713648, 14483, 4920141, 582839, 4320829, 122961, 10896, 2178700012050, 2188700012725, 138082, 769192, 535211, 29593, 57202, 6776164, 27181142837000, 7756102, 138094, 536838, 407392, 1118339, 8349420, 1804408, 27161137019500, 2168700749800, 27191152351800, 52574, 27181149191100, 475063, 618720, 64475, 4716570, 9526530, 563196, 177439, 402314, 1002555, 8332029, 978980, 2188700014060, 2188700012188, 709123, 623072, 138404, 65503, 131275, 2185707584300, 73025, 4164395, 393187, 2178700007571, 39257, 2185800044844, 202455, 27181142669100, 4884205, 298848, 631548, 750357, 2195700091716, 390094, 867857, 187408, 1359402, 4873518, 11069, 415845, 19065, 1026739, 2168701539600, 409973, 307420, 21046, 160622, 23161, 189950, 210976, 1315089, 27183400247600, 913282, 184449, 459159, 2168700008168, 2188700013090, 27161135829400, 27181146550600, 512411, 4746276, 544421, 372960, 2178700007353, 168821, 1174066, 145754, 1353003, 1902373, 566076, 105239, 27181150104500, 2165708351800, 642454, 2165700100676, 9537107, 430731, 27181145235700, 12831, 2185705295700, 2178700008228, 521811, 2185705265900, 1045497, 7653001, 507599, 27163400601775, 551554, 15241910, 2145707367400, 4849717, 703223, 1903738, 949565, 2188700856400, 2185707600000, 23487, 275247, 25824961, 600681, 23433, 2185700442084, 425185, 9402, 510907, 12700, 20850818, 27191152370100, 537646, 554821, 98004696, 245453, 2188700853500, 417960, 137612, 114071, 8630541, 4915792, 395468, 628872, 2185705256600, 197689, 2185746592700, 4891788, 936591, 4197295, 4877489, 4891718, 7208828, 4558627, 2950, 4541395, 32902, 1370494, 452900, 52322345, 8332423, 6793920, 476234, 37600, 53449, 2178700012938, 2155706164300, 2188702200700, 54165, 663481, 977313, 308778, 221304, 74302, 321268, 27850, 2158700006620, 6995555, 4541, 958136, 511897, 2922242, 39441, 6889050, 116230, 2185800044815, 9520126, 168836, 2178700025828, 16427, 15240997, 2188700002787, 1157612, 8375481, 332298, 27181147958500, 9534555, 27181100438886, 27161136821000, 76932, 2188800012833, 277, 27171100423687, 27181144252000, 2165705915300, 104255, 2165700073746, 2165702808300, 38392, 4818, 359841, 7984525, 6780834, 63395, 713730, 650252, 2185800087021, 10080101, 2198710227900, 2195709346300, 602329, 319292, 537357, 27181142645200, 326527, 2185702809200, 27171145060700, 346433, 55846, 554588, 3659014, 27181142842100, 37399, 564266, 699614, 326531, 7956272, 177161, 114070, 6976213, 658710, 212905, 445162, 2185704724800, 27161100378806, 2165700031964, 2165700049701, 27171137880600, 2175700015739, 1251001, 797769, 131578, 27181150085700, 55017790, 8504438, 7785832, 2175800085194, 2026510, 10608899, 44633540, 630385, 2168700007830, 3938450, 130631, 443048, 179062, 2175700090482, 155056, 95896, 27191100511834, 27171100393702, 2175706134100, 190573, 27181146553500, 29379, 27151130310200, 2185800044868, 593747, 443303, 27181145124300, 695929, 52586, 617387, 830259, 85829, 4893656, 433259, 573234, 20544, 253902, 9505241, 2168700019890, 27181100438859, 27181146639300, 1906406, 122043, 470300, 2158700018623, 2165709087300, 251517, 96346, 775866, 36011, 2185742583300, 335005, 236340, 6772000, 801125, 481169, 415609, 4409, 27789, 54482, 2168700009201, 2195709287400, 5245, 1095777, 180372, 661101, 937271, 2128700593829, 52321066, 834810, 773696, 247872, 152671, 2185709204100, 27181141466900, 27181150139000, 27181145066000, 99554, 313901, 2185709192900, 288496, 2165800377406, 20167, 229640, 4241126, 6764839, 1133174, 2175703631000, 252305, 27181150114600, 2168700021971, 1043833, 322467, 29238, 36125, 27131122452500, 140194, 422423, 2178700008262, 1177077, 21819, 868649, 8520295, 1082196, 2168700020284, 68275, 27191152293200, 2185700079541, 22032, 689430, 2185705253200, 8621044, 8631569, 76056, 9535762, 242262, 2178701215600, 2165700060657, 27181100448933, 9510919, 2165700350240, 27181100447965, 642814, 53410, 9522762, 998964, 7920060, 27181144992600, 2185705254000, 102936, 64983, 6973883, 368222, 62119, 22092300, 55733, 3001768, 140805, 940336, 52802, 393415, 2073957, 933925, 60396, 711838, 35797, 3006479, 833460, 216869, 2185749349200, 10589724, 2185700089402, 2188700012772, 283993, 2165702800800, 27181100458013, 27161100353105, 27181142842200, 990460, 140655, 1747089, 1320523, 4896683, 568335, 27181142892500, 27171138383700, 4812883, 204902, 6875431, 8541626, 3000936, 695835, 151809, 27163400021502, 2158701426200, 5442234, 335861, 27171139268600, 2188700002788, 27181100457982, 27181100472877, 1241112, 269631, 27191100522565, 198205, 27161100363246, 110115, 54469, 681546, 27181100458397, 2175706675400, 2185800087499, 7052179, 63294, 2185800044781, 559986, 87479, 6877766, 1009213, 243534, 6973916, 40824, 895159, 4166801213900, 2165700065147, 2185700079680, 50237, 4241087, 602354, 405207, 690438, 3001287, 691393, 23063195, 1105923, 62235, 27181148973300, 1241532, 2185700053700, 2195709285000, 317562, 11112959, 653063, 2504286, 434364, 323235, 486552, 51808, 149885, 1169307, 546003, 2178700010778, 6738270, 2188700014453, 27171139967200, 205398, 641745, 2165700065448, 67075410, 2195800115915, 1747913, 762996, 40012, 536867, 750164, 1186583, 1900065, 27181150105200, 3001115, 406438, 2148700641112, 174413, 68771984, 7946053, 49700, 2195709336900, 24128, 6973894, 27181150106600, 102032, 6980693, 526637, 500263, 27181148892800, 6845945, 2188701499000, 330711, 1090236, 27181149299900, 27171100388634, 297039, 1074719, 27191100512195, 2168700021633, 17944, 4879270, 289106, 163469, 8630223, 1907266, 552, 57344, 957917, 1288595, 330949, 7004995, 183654, 99761, 2168700027664, 361405, 14844043, 298104, 74826, 1253499, 1173516, 2188702720000, 700589, 681801, 573568, 189145, 7058259, 2165709099900, 1285381, 2168702891600, 8396464, 550792, 2165700092828, 91559, 27171100423111, 1213286, 159783, 369195, 699301, 1256839, 2165706166300, 1177011, 2165700102131, 2188700844300, 27181145077100, 535108, 26523, 415880, 332360, 621419, 5749, 8883, 99389, 86665, 9501054, 55031, 2168701318400, 2185800052633, 911730, 2168700007689, 13198, 4905849, 251650, 6815796, 27171100387270, 118434, 2188700013047, 39358, 210581, 511638, 3650, 27161134586300, 577491, 1116204, 513937, 661247, 27171100393681, 582257, 775500, 410032, 284121, 1219713, 397349, 112671, 27191150105100, 27171141482500, 1026524, 1258314, 1092166, 27181100901218, 739588, 452355, 395328, 560871, 5441934, 27181105272000, 217770, 2068700001864, 2185700079585, 2158703063800, 2155700010940, 2165700102516, 1246294, 2158763538900, 27171100111617, 7968, 415814, 2165700006336, 418567, 97429, 27171100422868, 6893109, 799392, 7676284, 3004451, 2165704229500, 769730, 149085, 4065587, 8685, 114223, 166974, 4054325, 364623, 443172, 27191152342000, 2108700645241, 4552610, 957921, 290907, 5234789, 106654, 2145701978800, 6976239, 3074600, 1901207, 164882, 41842, 27151111328698, 2165700063442, 4169800407600, 27171100393704, 2185707599900, 472999, 2135700826400, 94116, 254757, 4910316, 516874, 437710, 27183402592700, 4873134, 685381, 4810811, 38356, 2121365, 9432624, 294680, 9534363, 2168700013479, 8538117, 402604, 4250383, 27181100444529, 14841303, 502610, 2165700102263, 27181153119400, 56221270, 442207, 19553, 4843713, 603147, 2178800013746, 2178700010930, 55018402, 512726, 481627, 20613, 2178800020564, 415020, 8634855, 2145700356526, 62270, 19397, 4558205, 492309, 27181146906000, 72160, 27181147961100, 46020, 1303460, 5939, 188072, 8349620, 56221501, 2165703198500, 693651, 27181100437924, 4373, 181335, 2185744123400, 164899, 936211, 555512, 32788, 27171100388732, 2175800085193, 27191150069700, 8500725, 1064154, 4193574, 13485, 817530, 4297739, 486245, 2185744111800, 618191, 2178700028020, 2195709323100, 2185700070400, 4811511, 1141738, 608963, 490485, 7795861, 509216, 2178700001660, 27171139939500, 55020904, 608697, 4500902, 27171139265600, 2185700066694, 2158700618067, 616706, 167178, 151984, 8334289, 52319593, 397694, 496, 27191150116200, 110361, 4918863, 2195710395900, 200480, 320546, 2185707579200, 2852907, 2168700019763, 27161100372997, 27171100391888, 9207931, 83204, 4166801151700, 27181150085000, 643426, 563316, 24954140, 807479, 6980589, 2165700064975, 739479, 8964, 168445, 4558212, 678595, 778386, 800229, 1173555, 8615523, 1904147, 311846, 532312, 121112, 532806, 251804, 4880120, 127520, 598672, 1134110, 1092709, 512106, 849077, 8527739, 23063660, 27181142904500, 478031, 1008323, 2185700822300, 765745, 27181100458097, 2185700019026, 27151174183200, 68812, 741832, 94237990, 2008700141621, 626078, 188089, 85154, 307443, 27191150821900, 1747795, 2188700019276, 392372, 183229, 27181100470963, 4058483, 995938, 8375906, 108181, 111788, 27171141464200, 27171100422143, 2188700066607, 1379529, 4956, 72324, 2168700009367, 4864772, 27191150968700, 383072, 4464404, 143888, 6995554, 27171139872000, 525077, 57937, 411450, 27171100367541, 29221, 2165700060311, 27181100458851, 2158700005578, 2165700060371, 2188702708200, 27181100449129, 354289, 2185700004230, 2185702815800, 27181100448003, 56223752, 505920, 18648083, 7803888, 7063840, 27181100482188, 199492, 4552709, 8270, 2175740721300, 684028, 2168700019752, 2138700608669, 27181146547800, 27171100387609, 2185701892600, 27171100388576, 82700, 45535, 425492, 6791258, 731203, 458158, 540043, 2175700000234, 14439, 2784275, 2165700087861, 2178700002712, 22545, 2175709095700, 2185704539200, 65722, 20431001, 2178700010736, 27181148978600, 457464, 42537, 2185709233600, 421149, 4542351, 317330, 46469, 678423, 2168700025793, 644794, 6775644, 440644, 1100239, 288362, 2185700004752, 14842423, 2185700079759, 316967, 832533, 2185800087009, 868357, 2185700043874, 1370969, 326515, 1082961, 326532, 1014197, 27171100393715, 32281, 822089, 593760, 2188702350600, 85314, 33326, 28959, 27191152298600, 898960, 27181100478137, 52314604, 27181150116300, 3892265, 139626, 52315553, 2168700004058, 2175709021700, 868755, 99698, 1307813, 27191152195400, 15949, 159372, 25823658, 135624, 3659093, 963344, 27181150075000, 784769, 4825329, 6982738, 1104234, 27181149332000, 6858483, 760653, 8519116, 2188700429600, 715955, 27161100343054, 27181142841800, 54696, 2185700079182, 567778, 595302, 495587, 2158700753737, 458804, 557942, 154699, 14840740, 283881, 27161136693500, 112079, 4552769, 11215873, 402664, 2178700008511, 260272, 6785875, 726006, 2165700031590, 8522192, 27171100382078, 393449, 2175706672400, 1083568, 43182, 14841210, 120829, 4474787, 169269, 84548, 8347513, 2873139, 19978, 213904, 1246300, 7006453, 400111, 1123799, 574172, 729103, 396272, 161692, 4442, 1335224, 1376316, 6773998, 33460, 79637, 27161100373376, 44005, 2165770166800, 1066326, 46954, 307853, 2178700012175, 7809406, 43176, 542907, 27181144866400, 4197344, 27181149310000, 8322099, 192204, 71476, 171188, 701127, 1233112, 52320504, 6301040, 8375488, 2185709187700, 965068, 120980, 2138761221600, 890109, 1047339, 2114833, 2185703746200, 315965, 1187875, 2185700066605, 4824097, 2185800025014, 472008, 32838, 17878, 472060, 27171146598100, 53723, 2185700501016, 32150, 27181146744300, 4284035, 553995, 4552531, 27181100482689, 138107, 27191150153700, 27171139901500, 6818221, 378991, 338131, 925004, 2644603, 1043140, 2195709343400, 709081, 576196, 40542, 1025456, 2175700087009, 401719, 2185707581300, 2185704914600, 27181100492656, 2195710262900, 896235, 52320406, 27181150154000, 1149968, 56038, 149388, 2188700009299, 429017, 360046, 1182504, 7949080, 378876, 27181146595700, 67887, 2195709252300, 27181100442576, 27181145125600, 27644, 61495, 4870239, 2168700002655, 2188700010135, 215175, 2158700006259, 283784, 283686, 569559, 6858975, 2178700025677, 27171146756900, 963187, 167179, 1376298, 563318, 2120253, 2168700019859, 2165700067460, 2185700027357, 329279, 168566, 50379, 2637737, 2135700826500, 27191150118300, 50532, 195198, 1074597, 27171100387824, 192144, 573424, 548394, 28493, 33159, 1378345, 141467, 59922, 57909, 4826159, 1241001, 777303, 1246844, 274757, 55018044, 1887577, 2195709292500, 27181146894800, 343897, 638216, 6705105, 2118840, 205163, 8509174, 2165761709000, 2168700007791, 2185705266500, 449666, 27171100393717, 1727, 641174, 182125, 337554, 2165701557300, 501954, 27181144307500, 116956, 143465, 143458, 27171100386740, 444827, 27171100423302, 2188700004458, 1056999, 8616411, 6778179, 164187, 506533, 53614, 110447, 10314040, 8539051, 1092440, 27181104532500, 611394, 977000, 129854, 183127, 167679, 2165700033600, 821253, 593741, 27171100387414, 27181149333000, 2188700021949, 2178700008328, 684032, 152393, 224862, 4751268, 149043, 2175800005640, 381074, 1197715, 106007, 8368881, 2158763224800, 421185, 27181149364200, 589606, 297829, 7074134, 1086876, 8379297, 2115820, 4362078, 197383, 478458, 49815, 192754, 512266, 537029, 2178710025651, 245464, 4026719, 38124, 1079533, 84496, 27161100344209, 970775, 4162298, 2165704786900, 27191152196100, 2168700009465, 27161146695900, 360821, 27181100442573, 500235, 84500951, 702608, 2185704927700, 4524370, 8390234, 4271495, 2185700087292, 27191150100300, 1905531, 1016460, 2168702212000, 643867, 27181149333600, 2185800075887, 300835, 216831, 4058377, 702763, 138640, 1749535, 2178700025724, 779605, 1172050, 1089333, 1320226, 113193, 27151130339300, 263361, 4877589, 8372486, 28536, 39232, 2178700043858, 1002811, 588297, 23062182, 538466, 66443, 964397, 827367, 160273, 642586, 160213, 1171725, 27181153084100, 2178700355892, 165132, 2185700087605, 238770, 27191152196600, 222213, 27181100458436, 27171100392573, 6786213, 27171141326600, 7661265, 6170455, 456237, 4004761, 94010, 164543, 324703, 2185700027476, 55018477, 842312, 27191150125600, 536531, 2185744119400, 4745841, 40404, 450436, 8379298, 4880370, 819393, 2121264, 27181100458159, 11849, 52333267, 166690, 9502888, 4896645, 202527, 361157, 264, 2188700560411, 2185701782600, 2165700060065, 14099, 1131918, 6860155, 8624926, 325876, 2158764329200, 27181100459538, 7180783, 2195710328900, 27171100388123, 2178700010800, 594930, 715671, 124346, 2175739804000, 10222, 6301888, 478854, 304713, 879043, 746154, 27181149480600, 4173595, 496075, 27181149234500, 6976246, 507173, 940886, 8588, 49970235, 8329355, 27181149300000, 2117066, 2185800025639, 291926, 1352417, 408092, 522338, 933534, 27181146691100, 251385, 2185700346112, 4214784, 213348, 2175700824800, 17221, 5501741, 160826, 2188700002931, 27171139310000, 56690, 542794, 657152, 32544, 14084, 2185700027455, 256365, 255437, 400071, 3008801, 27191150123200, 4524299, 304653, 752098, 186147, 5017741, 223448, 622752, 7654361, 2168700012913, 4255540, 2065700188717, 4240964, 911996, 2121246, 2185800018087, 27181149191500, 8354434, 7971038, 2155735447400, 2175701218200, 144113, 9840, 680419, 475987, 721871, 27181150104900, 27191150070900, 106098, 27181149336000, 27191150119300, 317642, 27181144358200, 8623827, 2175700060439, 27131100300082, 351547, 335646, 1040015, 375249, 52531, 4272598, 954458, 2195709343600, 2178701803400, 538696, 27181100447919, 21147, 492481, 2195700116217, 1214573, 6857034, 51159, 475052, 313513, 193169, 27161136365100, 561680, 3976238, 4621, 1271129, 4541350, 27191150781900, 4879039, 159899, 8626859, 189439, 8502814, 7932152, 478891, 544784, 4915820, 873549, 363222, 8634769, 2168700013515, 4829448, 1027690, 27191150934000, 2185704826500, 187815, 2175700044131, 4524452, 884559, 4861553, 4182082, 27181150069300, 49491, 2175704295600, 3966615, 547799, 413, 2175703913900, 27171139414500, 7960969, 2168700021591, 4879652, 7932205, 27181100459419, 2178700012074, 759732, 16529, 3966797, 2168700008045, 9528169, 121884, 1217981, 441300, 2185700017632, 104686, 4920150, 199689, 1140975, 2188700409000, 2185800087393, 1252040, 2168701827800, 27181146671000, 1026080, 410046, 415891, 2168701818500, 581858, 475585, 2168700029000, 867323, 16216, 27171139904200, 6793972, 2185800018109, 843720, 323960, 1107464, 117930, 2185744374300, 405715, 24443, 4288413, 4196054, 2185707584100, 371156, 2185700075014, 800043, 8504778, 8624905, 304666, 27191152296800, 539196, 517991, 40520, 989162, 271124, 6973907, 6983032, 131112, 27181142793400, 28749, 2165700050029, 6706227, 463580, 6860682, 500666, 867417, 2168700021462, 657704, 507401, 806772, 27181109265900, 27171100387954, 53513, 570088, 407131, 2128700588418, 2185705315600, 1370187, 236563, 1887749, 411014, 138874, 27181100449074, 2175709039300, 27181150127100, 333708, 14841302, 27181100470979, 2168800007726, 27181100458884, 39853, 623197, 310553, 27091, 27171100388088, 8501641, 582051, 697327, 2175700089193, 436306, 6976245, 870098, 812752, 27191151032900, 275560, 27171100393748, 4178292, 2178700012137, 98002511, 46223, 4524074, 2175700777600, 574738, 452932, 1353814, 1313539, 2178700003819, 27191150074000, 7785667, 2168700023816, 225446, 7973395, 493759, 8536935, 40648, 548707, 6302364, 2188701505500, 808984, 215455, 9527516, 1024092, 2175704243700, 307436, 309613, 2188700407500, 27191152351700, 27181143007400, 76673, 3925, 4905959, 27181150105600, 8512557, 27181100472006, 2175700095100, 456372, 27171146640200, 27181150129400, 6973849, 2168700023941, 2188700011119, 794484, 55110488, 6849475, 59133, 914811, 1278311, 14840674, 771530, 330458, 181276, 2188700066610, 810616, 27181142837600, 586863, 717369, 1140216, 7984378, 2188700420900, 27181100444543, 2168700023527, 1639999, 2165800088084, 2178700009378, 616438, 2185700079452, 153338, 805805, 444505, 189940, 311894, 465863, 2178700006425, 1007181, 10236, 513255, 31039, 432205, 2185700028477, 446172, 6847527, 2185744114100, 27161134227800, 27181100425895, 2165700059810, 849140, 2175793782900, 326499, 127195, 3299, 486439, 28173, 1230888, 232634, 27712, 1210918, 7957535, 954755, 938869, 560434, 27181142969200, 55017922, 2178700025960, 27171100388332, 614166, 27181150152700, 740531, 6894424, 8627278, 7952163, 2175703662000, 232872, 27171139968700, 819022, 4500390, 1252984, 76694500, 2185704904000, 9509935, 181495, 2188700865800, 2188700006326, 461588, 2168702875200, 856377, 2026436, 27181148820900, 31694, 110145, 2185800058356, 222103, 2168700003788, 19124, 27181146550500, 2175700187952, 2148763963900, 84155, 2185700087015, 108910, 27181144178600, 2026618, 6304082, 2165700059880, 2178702723100, 94494, 6973933, 425073, 484930, 854610, 27181100459022, 508064, 8510845, 556251, 2165709204100, 2165800043852, 329170, 2175741462600, 25072, 419120, 535449, 9500298, 23061907, 2155807454500, 926197, 27151102179300, 2185709204500, 959715, 2148763815200, 1014323, 27181100469890, 75850, 2165700087284, 1056864, 8520170, 7676465, 24230, 2178702354400, 254560, 22749, 394057, 27171141588400, 296220, 166148, 1185555, 180854, 2175700086701, 27171100386432, 58615, 2185702884700, 399630, 7756685, 93427916, 2188700425500, 631527, 6973848, 27191153130800, 41679223, 4162357, 402577, 309268, 30397, 641525, 404037, 1126326, 2188700428900, 330192, 27981145458733, 27181145074300, 2158701274200, 68644, 779510, 865562, 402731, 27181149300300, 1195276, 6170370, 710888, 2705701, 2175740723500, 1173071, 403272, 27191150841600, 681511, 2155739692900, 312551, 776293, 352193, 690450, 12850, 2185701773800, 2195709350400, 2175740722800, 8394533, 2165708681600, 2155702937700, 325648, 79006, 418623, 4499414, 59670, 111, 1644036, 6789360, 4880452, 318155, 27181144118000, 8616417, 303290, 3677739, 27171100138806, 15477, 400573, 313937, 8540356, 8386395, 2195800532949, 8526206, 396565, 2116885, 504864, 1177112, 71577, 2175701674000, 411983, 1289829, 673179, 290358, 27181149369000, 9522203, 80487, 4198434, 129000, 7196, 582834, 4827361, 836799, 612897, 4475153, 2994, 2165809303100, 275682, 174534, 606586, 2155733032700, 27171100391932, 11588, 1145052, 31183, 2188701207100, 63725, 688109, 6841446, 391699, 29948, 1225670, 2185709185800, 27181146874100, 345471, 125370, 118567, 947703, 4438372, 493627, 1376038, 8238, 27191150127900, 8328750, 641430, 1258389, 9507299, 801059, 2168700027669, 6986567, 2188701800900, 299532, 9532198, 288367, 15241730, 912928, 4538214, 168344, 146461, 215735, 602422, 701403, 22885, 854768, 657598, 164864, 8514246, 4811615, 81096, 2175700090616, 132472, 10938, 554505, 6790264, 8501859, 4556, 582025, 869986, 316505, 1259403, 2185700004239, 475088, 1104050, 102389, 124575, 1004109, 762854, 216536, 457520, 1624357, 202660, 27181100456951, 2188700002880, 2168800020219, 27181100442700, 725016, 36437, 287290, 2168700003957, 923143, 4180575, 2175742666800, 252837, 2185707581400, 27181145086200, 346415, 2188701204100, 40766, 2165700063431, 2168700010028, 2185700027351, 27171100391907, 962897, 352942, 2165705666700, 16735, 4735450, 2175706106500, 2178702334100, 114360, 523151, 20523, 27181100427788, 2185701876300, 664532, 106642, 6973870, 27181150104800, 563048, 2195709343800, 631410, 983997, 1045857, 2168700027685, 27161100365406, 566666, 493279, 1278097, 475212, 6771426, 811437, 2178700581600, 480958, 2165807840800, 27181149355400, 1255237, 1051301, 2185700058194, 2185800087794, 1327802, 27181143904800, 846784, 27181149358800, 8622440, 147199, 18798, 1208453, 2185709234900, 7430, 9494, 1040477, 2185703767500, 1907677, 1192443, 94328572, 1011800, 742931, 1286865, 27181149204400, 546920, 27181147950800, 31779, 408085, 27181100468117, 80021, 62785, 149656, 4061036, 27161135399700, 1108447, 2175701092200, 302834, 709916, 1906065, 27181100460166, 27181144305800, 2178701810000, 1254915, 27171100386281, 229598, 4879132, 248214, 92579, 2165800088083, 2175700268200, 121407, 338683, 27171139912100, 2602928, 244783, 1605315891, 2185800019185, 420386, 482229, 4218813, 6976231, 2168700019867, 2119678, 57563, 792588, 2165704327000, 3961061, 27161100253500, 535402, 819370, 253537, 708331, 27181150115400, 992079, 85277, 576027, 427367, 4136802477539, 7917646, 18543, 2165805822900, 4829356, 27181100459945, 2168700006080, 27173400387815, 33193, 7962736, 2175700749500, 333122, 742028, 27151132993000, 668899, 699062, 8500060, 1253546, 849296, 125395, 404059, 2185700077804, 247827, 2175700060425, 27181150103900, 9523582, 4195418, 2185702851400, 2155723928200, 46686, 2168700023818, 709900, 52333861, 2165700011696, 6848815, 311847, 228113, 27181100458907, 598610, 27181100460161, 23062654, 4879837, 2165700065360, 639923, 359082, 2185800087497, 384770, 2165700060358, 7931323, 2165701214200, 2168700013467, 451723, 2185709212300, 501981, 8881849, 678651, 27181100449707, 22786, 4879804, 578330, 28691, 96849, 4879167, 8520282, 2195709349700, 287257, 2168701925400, 1906091, 156164, 2119080, 2165709740000, 2178800013848, 698201, 4539460, 2195700067434, 674661, 2138763410800, 2168802178200, 973863, 2188700019203, 70975, 27191100516631, 707403, 1259344, 170676, 2602003, 2185705295900, 2185705284300, 27161100364456, 988663, 28968, 27161103559065, 2185700075609, 161980, 6892621, 27181100459768, 164544, 27181100491043, 2195709337100, 4881308, 605344, 58, 88412, 803635, 631928, 2165700067596, 1179099, 463825, 6302044, 351205, 2185700039571, 1901354, 47314, 23240, 2168701790000, 2168700001288, 2165702779800, 2168700010076, 80180, 8336296, 27181144111000, 710130, 1331061, 166978, 2120759, 27171139390600, 311900, 27171139241100, 72259, 10589339, 272917, 7032700, 4825834, 410253, 364523, 17480, 443008, 793469, 538078, 2168700022980, 27181100473649, 2185703742700, 27181100469270, 10524, 7808681, 1331453, 339660, 6973878, 2178700012170, 625999, 27181144132700, 27191100522963, 2185800044978, 514409, 27181144865800, 109744, 93353, 477800, 958765, 6815265, 673657, 7002023, 289202, 334821, 213704, 8626118, 12982, 404299, 521916, 359496, 155046, 922487, 433062, 27161100034027, 301579, 2188700001345, 27171139287800, 604804, 27181147724600, 4036111, 308556, 27151100332102, 81170, 179605, 499804, 184976, 27181100449259, 955997, 562697, 6878443, 400648, 227100, 174856, 27151130386900, 2195709383700, 17279, 159285, 2185800019095, 2178700008196, 472552, 12208, 311605, 439071, 1138631, 6983870, 4463574, 27181150070100, 802004, 2158701987400, 610124, 89622, 72381, 27171100387426, 202687, 151108, 103119, 516239, 27171100386804, 288500, 3009850, 54571, 121907, 29647, 45203062, 537620, 106000, 411595, 574567, 146236, 625344, 774154, 2185707576100, 6736400, 4524877, 21201, 540252, 27191150125100, 7004549, 317567, 785401, 1252007, 612345, 4146800467848, 8323296, 158197, 27171139341500, 2178700006438, 254667, 2188700004621, 8221, 335878, 331140, 27161132505700, 5705293, 2178800020656, 679408, 90859, 2185701942900, 79938, 33842, 138299, 2185700004315, 2185701755600, 41092, 101556, 6847688, 1232, 2185800087392, 2178800002754, 27191150836000, 1104614, 2178700007577, 6973833, 27161100367021, 94329131, 658228, 516850, 27171100387185, 639997, 601476, 52315500, 710772, 357835, 2168710028669, 2158700001297, 8397724, 317226, 615768, 4474711, 1358180, 755235, 2185700039572, 105912, 27171100395821, 42265, 326537, 508578, 181636, 503451, 1119893, 384561, 94325382, 6764851, 230295, 891255, 1305239, 2178700012252, 27181147911800, 4166801153100, 27181100458345, 27161100339704, 773233, 2188700866200, 27163400615100, 110150, 27181147968900, 391250, 7811854, 2168700168500, 326557, 588404, 4039793, 27171141473600, 685203, 12551, 2175700043695, 2188700019201, 2125700394511, 1112644, 22092423, 2185703787500, 261912, 27181148831900, 7988965, 2165700100350, 72029, 2922265, 616550, 2175701739500, 4811579, 27181100469272, 2168702540100, 223264, 324896, 6973898, 27151133074700, 326516, 123877, 54322, 44738, 2165700091427, 13540, 3968513, 1026497, 374735, 2165700050259, 643422, 27181100496584, 8522590, 2185700004310, 27171100423328, 27191150114400, 2165700060154, 836935, 1605290750, 194353, 2114383, 95023, 6303423, 644594, 2115528, 2175800089363, 6736598, 2165809067100, 326562, 7920538, 4813531, 2165700049151, 1253925, 66147, 4827448, 2175705507500, 276029, 2185703799400, 2158702468300, 6976198, 2165709948200, 29243, 959705, 338743, 2306206, 2362069, 23062069, 7032826, 2195709261500, 2188700014342, 380328, 2165705615700, 27171100387572, 978886, 52323, 203675, 21885, 2185800025632, 383738, 62202, 4880068, 187260, 48619, 252732, 849638, 55249, 4444636, 27181100438008, 9524396, 630406, 797407, 2155700060278, 2185800017525, 8382052, 303668, 416103, 1324958, 77320, 650919, 2185707581600, 4166801166300, 8621158, 7007225, 2178700007409, 2347492, 2158702529100, 512650, 39860, 38425, 259895, 2178702348000, 27181146670700, 4009, 2165700088076, 4010267, 2185700019052, 27181100452106, 62099, 2185704922200, 1232688, 820345, 57625, 7953565, 27171100386533, 869285, 21369, 1180899, 27181100478741, 2188700012867, 2830457, 27153462866100, 503162, 6984975, 2119461, 441991, 1267644, 6992244, 2185800087353, 7808870, 436881, 6991533, 6879310, 2168700031877, 2158700001797, 199431, 465759, 191490, 233402, 4864586, 2178700025730, 87567, 643010, 880112, 450707, 633597, 203, 2185700275700, 2185702820900, 27181146836600, 258927, 2185707560400, 30213, 2185749325800, 8982, 71439, 471607, 7949907, 27181147043300, 4553085, 635420, 27181146820300, 64207, 27181100427162, 891321, 138102, 144847, 758019, 801627, 4558141, 2175706674000, 102347, 27161136723300, 8525542, 7660498, 52320035, 4593, 6174, 4915823, 926739, 915780, 27181100469697, 475172, 616573, 875143, 27181148892100, 61926, 481893, 27181100437948, 99459, 142850, 2175800004468, 776705, 27171142209800, 15546129, 4920158, 2185700087474, 27171100386570, 306104, 27181150126400, 403164, 192552, 27181149319900, 4475238, 2218701821400, 99358, 75016, 19986, 86037, 4255906, 27181146906100, 5235376, 2188701271500, 431951, 2178700007396, 976026, 4463810, 2178700028017, 130972, 1184413, 27181146757200, 27181100460656, 61558, 2185800017522, 253138, 1766495, 4156800240900, 2168700010202, 143251, 935003, 2978521, 804997, 913546, 2155704359400, 8316102, 2188700014335, 93254, 185617, 521769, 1075, 484603, 8901425, 27161100378736, 141553, 2158700003915, 2185707586100, 693175, 6782384, 302533, 618924, 7980290, 28630, 55018476, 10559909, 801145, 457515, 2185707503600, 9537592, 2178700058100, 598956, 27091108252600, 2168702591000, 837360, 6976191, 514450, 9533081, 2188700014430, 23063949, 2188700109564, 27181150107000, 1102151, 452453, 4257118, 304861, 785277, 940808, 6776678, 27181100472689, 437181, 103048, 1750851, 528983, 25445, 404003, 6818189, 2195709260100, 789875, 7976896, 481366, 825012, 27181142796400, 311022, 8347045, 110603, 27181148889500, 2185700039625, 500863, 27161100332965, 27161134444400, 68218, 4059030, 2188700019247, 300209, 57598, 2068700002384, 76495, 2185700075625, 189135, 82443, 93876, 2165700008372, 219957, 824084, 1360776, 27191147027000, 2158703052800, 27181141329200, 740485, 189138, 334338, 2122936, 2185800058091, 425115, 8633394, 65612, 7004204, 2185700043943, 2178700012241, 493112, 277118, 7053246, 2195800115249, 636625, 2185705249300, 1184310, 44487, 406653, 41850, 4877570, 425246, 562303, 15911, 2195710346400, 452433, 2185707576500, 714778, 2175705484200, 255921, 4879026, 27171145067700, 127656, 973084, 41708, 27181142642800, 425027, 628549, 26412035, 2185700027323, 27191150068100, 2165704229900, 2122488, 1259392, 1806293, 2188701520100, 2188700002815, 82335005, 27191150066900, 4879908, 535491, 164894, 2185704820200, 959652, 27227, 480135, 2168700014190, 2168700633100, 8630847, 15593, 625581, 215350, 2158761244900, 5234881, 251033, 27181149329000, 56647, 422699, 6976201, 1197429, 2185700059000, 798971, 1005468, 2185700005035, 88128, 94326595, 2195709879300, 1278023, 106632, 2198700031047, 664539, 404757, 557206, 123816, 820242, 6860987, 2188700004618, 216794, 4879388, 41018, 78804, 139081, 54467, 710549, 82284, 7978123, 8860, 66102, 476553, 27113400001264, 2178800012251, 224659, 2166, 2148700419708, 4368993, 1747659, 27191150091400, 18877, 500448, 44702, 139260, 445357, 335357, 763392, 581718, 245734, 151820, 27181146960100, 270745, 11861, 27191150839300, 600778, 475167, 4936866, 753723, 6707969, 162201, 700920, 27171139381800, 55019274, 221292, 876552, 36562, 481281, 147911, 55012420, 54192, 496968, 599075, 239222, 170091, 68993, 27181100459397, 6888670, 27181144354300, 955064, 849677, 302578, 513942, 306406, 27171139391900, 290556, 1435, 2148700755403, 2188700013033, 337929, 15844, 618664, 255082, 30861, 7959912, 174095, 4893805, 468833, 2185700075060, 454679, 27181100447603, 137185, 27191146642500, 326554, 566881, 23063627, 27181117976500, 426447, 27163400021504, 2165704295300, 4243024, 296864, 2168700025764, 495510, 27171100458919, 412391, 27171100387437, 27181142679100, 215210, 4286272, 326491, 2178700012039, 2195700039573, 52335701, 96570, 593492, 1123806, 1182052, 127955, 27181145087300, 1008107, 935523, 595967, 56223204, 2185704900900, 2188700012657, 9524188, 2168700023522, 1030792, 2185707570200, 225581, 2185701941600, 11090301, 6790350, 502638, 1914268, 78179, 2195700116339, 154670, 52288, 27171100387165, 1253643, 124507, 9528662, 4829269, 2188700014383, 2178700602100, 6876856, 301983, 2185744111200, 139997, 164369, 439115, 2188700002942, 18669444, 2158703181400, 217830, 454593, 855926, 237568, 4873481, 164379, 478556, 2165835184700, 2168700021892, 617420, 697412, 27171100388306, 27181145172400, 27181150132500, 103705, 1324068, 9508920, 2168700028985, 27191151053400, 505229, 2168700003327, 303911, 6973886, 27161100373471, 158343, 2165702807900, 27171142216100, 2168702586700, 47813, 2185705244500, 980019, 25755, 784865, 2185701897100, 126080, 156868, 1240614, 258914, 5233487, 2185701875000, 2168700022256, 27191150983400, 141197, 2185700086974, 2178701805800, 253659, 9983, 3963140, 2165700050022, 519211, 645288, 8532657, 56222061, 588564, 2168701153600, 63976, 9374, 168088, 455081, 6708780, 161477, 27181100441402, 27181149278200, 1903429, 3677989, 325379, 27161100367657, 8512061, 692084, 139233, 317896, 782454, 2178700582700, 27181145216900, 4362767, 61644, 2175709018500, 2185707550700, 2185800044817, 27181100448674, 52582, 2185707574000, 641175, 328837, 251481, 856502, 2165700088088, 673508, 251736, 614311, 2168700001515, 989306, 188996, 245415, 544074, 2168700621600, 16985, 2155700031734, 699067, 2168700112100, 603865, 1034750, 471773, 307786, 1298, 2185800044979, 1105736, 27181145230700, 27181100452167, 1092087, 4883532, 3004607, 4237215, 4275794, 87945, 1371159, 2121920, 1132079, 8315387, 2165700087641, 2175700009069, 2185749335700, 27282, 1037521, 936147, 1245469, 525946, 639610, 2168700019711, 291896, 27191150152500, 7808882, 4812921, 4814166, 7663760, 2158700063803, 6858090, 76172, 128156, 801095, 2178700012579, 2165805622400, 2185800057823, 592952, 251538, 27161100372416, 2155700059900, 1067109, 188997, 298632, 98001238, 260208, 2185702802000, 143064, 402003, 992227, 6913, 1904093, 14825, 4064890, 2178800013337, 172491, 4198067, 111395, 891973, 2188700002905, 2178700001913, 124502, 27181100449117, 1074731, 2165700038322, 11000233, 645014, 2175701678600, 8628440, 752400, 8536501, 299570, 27181100448020, 2188700022063, 618371, 1347272, 27181148831500, 51294, 2195709391700, 319378, 551050, 175175, 4465254, 995716, 4331, 2185700267300, 68656, 2178700595300, 189386, 16227, 561226, 111786, 2165700031042, 285174, 2168700003836, 7991322, 207595, 13045, 1007186, 27181146637500, 174774, 518465, 30962, 56223397, 778303, 473940, 134618, 2165800103794, 2195700115312, 8654, 2188700424200, 27171100387096, 805208, 672090, 157919, 23747, 119842, 4218255, 4265811, 2188700101500, 488097, 6979782, 71161, 114442, 635485, 7932523, 2168700237100, 6995338, 3009785, 154622, 27161100341204, 19577, 2155700057953, 1153947, 527831, 94325397, 2165700091189, 539524, 204661, 27163400985500, 2168700021141, 104591, 318374, 27151130229100, 25823801, 3009749, 1620, 261645, 8627463, 773243, 2175800088943, 979280, 61913, 6973912, 1179727, 27171100387378, 2188700014408, 535630, 7766608, 938235, 41174, 823479, 419010, 27181149278700, 4880197, 25086, 4893658, 2178702702200, 331853, 11236572, 1781283, 138171, 156365, 819601, 215238, 27181146695000, 2165700031379, 415797, 27181142839800, 454861, 948125, 573617, 401058, 828715, 638749, 8732, 27181142975300, 1175074, 2175706141900, 593694, 203237, 9521930, 8633579, 518860, 27181100471389, 27171100388783, 2185700087603, 27181100449045, 285518, 27161134422500, 237110, 521590, 2178700025704, 254369, 735670, 400125, 2185746657400, 27181150104000, 2188700018976, 1251396, 441478, 9370, 2504458, 775329, 8623575, 2168700157700, 8500886, 438137, 12855, 1056108, 27181144360600, 1088246, 6854940, 719876, 1214757, 3677777, 2185703743900, 1045848, 937988, 1750663, 309614, 4552548, 5207, 4868036, 262443, 29001, 229645, 27181149325200, 7662888, 1296795, 27191151071600, 2185700298100, 17351, 269992, 889969, 2195709290800, 124458, 1246564, 236794, 4545, 19768, 110283, 27171100386830, 844772, 205720, 623604, 2502163, 496710, 3970190, 127506, 2185709193400, 1026171, 276842, 769650, 2165700059907, 27171139964700, 673813, 2185700086957, 1259853, 1242715, 125586, 8398965, 115423, 5338, 850769, 27181142675700, 31315, 27181142870900, 27171100386821, 306383, 73529, 415813, 4541756, 6973862, 27181147950200, 1749495, 172865, 2185707504600, 5892247, 677410, 27171100388589, 2185700039549, 777134, 423182, 128656, 4409979, 244980, 653056, 142051, 94047, 4866885, 445270, 27151100325850, 27181146694600, 27161109103600, 4880978, 2175800430901, 253806, 27181100483434, 20709, 7003140, 52315723, 4870174, 818323, 439765, 2185700085895, 38738, 2175700853800, 7800884, 27171100392552, 897948, 8543932, 6834475, 2165702802100, 329832, 316647, 74739, 6816450, 27171100388649, 24829, 2178700011764, 9508817, 568546, 622161, 27181146669600, 9520470, 332503, 2168700012803, 27181100478609, 62682, 69494, 2185700025785, 4274635, 784694, 10901, 2185700019024, 40839, 2168700020011, 2178700010674, 2185800002018, 70967, 887170, 454200, 181377, 7970520, 2155732471300, 39976, 292767, 2066712, 15546785, 15747, 9517944, 7943430, 27181146744600, 56221479, 2175700003705, 27171139306900, 2188700002944, 1365299, 4918080, 1904963, 253102, 6860426, 27171100388038, 27161100374103, 2158700022733, 2185800087019, 261061, 2185700087610, 2158700007812, 4870607, 334607, 2185702825600, 2185700005005, 814398, 4500582, 2178700003472, 738314, 1157452, 938622, 1748531, 8623326, 310044, 8617022, 77229, 4369428, 6976218, 6774084, 90804, 1065601, 4219589, 1167075, 2113632, 819029, 262980, 1634253, 29774, 4290831, 4272569, 158825, 27161135946000, 151549, 689545, 32360, 27181100458437, 185392, 84567, 544225, 837192, 27181150150700, 52313297, 539050, 27191151017500, 6815553, 873721, 715573, 180260, 8321369, 163403, 2195709268000, 2178701818900, 7180692, 27181142758700, 27181100458391, 708438, 40268, 4552608, 1019849, 799567, 537081, 2188700027662, 732391, 162308, 338583, 456915, 8632013, 7659580, 4363153, 2168700394600, 9503742, 4550311, 27171100387548, 4870802, 1179831, 93610, 15524, 4881315, 612303, 2165700013725, 27181146550700, 8331919, 2008700751671, 4281274, 557892, 7980904, 2185700087010, 2168700012617, 1070806, 27171100412407, 987192, 294455, 53557, 4241584, 866714, 2185709225900, 8331575, 82838, 318517, 50048069, 2185703698600, 4514063, 14416, 162290, 2185747693900, 2195710272600, 151483, 125519, 1201562, 404058, 810512, 4284551, 7059215, 11111650, 460765, 5111069, 842449, 34214, 27171135401300, 101250, 1906221, 161781, 27181149313000, 366000, 902457, 138999, 7987818, 27191153127800, 205683, 1094862, 481162, 34640, 14249, 27163402283100, 1251548, 2165700078580, 27181145125400, 27191100533144, 258953, 1138693, 2168700023762, 483881, 937514, 704458, 482597, 533972, 27181100444555, 6333722, 109637, 438872, 13921, 27181148890300, 2118252, 4478212, 983449, 2178700025821, 2188700418200, 314747, 128153, 807845, 7779919, 216804, 2185707577200, 12871, 94326331, 508357, 9535988, 522320, 4542445, 95382, 403884, 149101, 27181142842300, 3659247, 27181149348700, 120612, 9515632, 2175700090685, 170470, 4059009, 6783062, 2158700005897, 223134, 4877586, 27161100341229, 2185700078251, 27181100458332, 223705, 2185704936300, 1026245, 62052, 4274585, 27181146755900, 2165700065372, 2188700003020, 27181142572400, 7759376, 1112925, 4497301, 2168700020161, 696793, 2175800006162, 27181100483449, 398555, 968069, 636658, 557794, 90538, 658926, 751191, 2145735895600, 1484022, 2188700021604, 2168700000927, 2185700066719, 1378248, 2175702894800, 4271533, 207867, 100414, 2185700075580, 1338508, 2188700011723, 6872414, 485362, 9522518, 1070541, 158452, 2188700002796, 32226, 703897, 27181150151000, 1148029, 6850140, 42953, 24710, 2168700012568, 20430782, 27181149355100, 118547, 8634683, 42352892, 27181149358100, 2195752221300, 1802546, 640164, 1359290, 14139, 72800, 2175700392558, 27181100458795, 593979, 510929, 966, 431012, 169621, 2185707584800, 4158, 323755, 1324645, 4215639, 528105, 122971, 2185700039862, 411423, 247477, 222177, 27191146643600, 250720, 83639, 7973415, 551530, 27181100427086, 2175700090747, 27181149342000, 2185700274700, 3856, 112179, 354738, 776630, 444209, 27181146491600, 27181147925100, 636254, 6817285, 614203, 4811020, 27181143905300, 8356984, 27181150115100, 2185800014911, 628717, 1223156, 40423, 27151130307700, 4856925, 2178700006724, 1158924, 8524031, 316176, 64620, 27161100341340, 24954059, 2185700027282, 81001, 1323316, 210212, 2188700012172, 27171100386059, 190952, 1115274, 872935, 409325, 2165709248800, 132027, 578503, 174719, 1747171, 603735, 132916, 108847, 2178700008352, 764842, 8361643, 4868565, 20851855, 225443, 8882455, 2185744119000, 784861, 193478, 508353, 6878484, 2185700039730, 27181142755500, 2188700855000, 12195, 2195709507600, 2185749338500, 6860821, 6792828, 206077, 27181100479097, 27161100372138, 155455, 2158702282500, 2165800002058, 5243023, 564345, 119531, 3000867, 544800, 1170023, 151960, 55290, 5127, 168090, 2188701203600, 2185700079872, 188343, 6831136, 1246328, 216607, 523112, 65719, 2185744115000, 637794, 14932, 436996, 9207168, 27161136353400, 2188700005119, 906, 40496, 15240740, 2165700063651, 999894, 448009, 3004152, 739860, 2185700075620, 27181100501200, 289927, 27181149166200, 27181142796100, 631066, 27181143008900, 7669248, 2165700073613, 297714, 6409, 453211, 254909, 2165707064500, 16477, 2185700066320, 306144, 404903, 209662, 784304, 176731, 7000503, 988998, 27181148995200, 155082, 2165700092874, 52552, 2185700156000, 7055743, 302953, 27191152298500, 2165700084458, 2158763366200, 2175708576200, 650972, 98285, 125248, 2185800017753, 1164497, 7922329, 411379, 1181930, 2155703836900, 27191146641300, 1047708, 41657, 27181147761000, 27171100386169, 27181143007900, 1094847, 7985231, 2185800029602, 2168702568600, 814465, 53049, 835266, 142656, 14290, 469733, 4524696, 27181147963400, 52293, 232345, 31854, 6773932, 15736, 535435, 619405, 2185700087721, 571781, 8877410, 8548777, 270869, 174207, 27191151045100, 422450, 1169532, 810922, 477777, 37643, 159592, 39848, 62501, 1278017, 2185700087506, 136085, 2165700063645, 2188800006054, 111304, 1254665, 27171141323600, 840947, 45197, 1114094, 222844, 2185705454800, 241177, 2195709293900, 293568, 415355, 2185709221800, 9508752, 4259094, 2175706119700, 649, 512241, 810647, 522972, 800348, 2125700427085, 2125700427065, 2185744113000, 223908, 2185700087268, 2158700018614, 6995631, 2185705276200, 1175346, 27161137321200, 7975857, 2188800006312, 11026428, 468602, 2135700878000, 2168710010076, 27181100459971, 2165700060474, 411826, 27181150092500, 27181100482387, 6778364, 905994, 27181100482819, 8319821, 198738, 2185709193800, 27181100458967, 4054478, 4361321, 27181149396500, 2158700642400, 304254, 992032, 605039, 81610, 32470, 68235, 599078, 1643685, 135588, 163728, 4173475, 1748457, 912044, 77176, 2185800001774, 7006221, 2185705245900, 457682, 1058192, 8318666, 2185707518100, 1082909, 849044, 4872697, 100015, 425627, 29772, 2188700018994, 215440, 166452, 1018798, 608688, 27191150067000, 64100, 2121256, 301534, 25140226, 562360, 17315, 93327, 512713, 189944, 601858, 27181100469265, 297368, 579542, 2138763419300, 1903666, 27191100517289, 2165700008737, 793059, 4879168, 27181149185900, 6776546, 116585, 1197555, 27181148889600, 2168700019727, 2185744239900, 54538, 4197394, 48775, 488722, 128214, 6834462, 2195710239900, 975709, 459985, 2145700052696, 438764, 663338, 247109, 351502, 2188800011024, 283940, 2178700001957, 484447, 8543225, 252664, 1240225, 536118, 479030, 904571, 435594, 2155701216400, 2188700003872, 611607, 27181149286900, 1802574, 417901, 27191153132300, 113583, 956382, 58750, 424559, 488579, 308826, 27181100478853, 80742, 2168800024541, 2178700010896, 2165700883500, 27171142180800, 2178700810100, 27171100393722, 643660, 78362, 27181100468213, 47738, 2185704783400, 47867, 2158702265900, 27181149354100, 139644, 1278266, 693955, 27171139904700, 144377, 6848782, 376887, 42349863, 2168700003879, 4864678, 41910, 3006078, 1624981, 7076670, 2185700039575, 9538042, 212793, 2185744118700, 579145, 34796, 1252163, 2188700014340, 4260985, 425571, 1043246, 36915, 77389, 987, 288226, 28534, 27181100483099, 128363, 553387, 27171141326800, 339071, 206603, 27181146909200, 147802, 645893, 810947, 1185647, 8633761, 507860, 10738, 27171100382075, 189850, 6857044, 607244, 618773, 4552696, 2503143, 156323, 1162030, 1140929, 316676, 340572, 2185700039772, 27171100392574, 242868, 1243936, 9521865, 873141, 181546, 131079, 1015281, 1331204, 132443, 6777459, 850357, 757123, 166029, 404073, 1026653, 77939, 2185707596800, 1251605, 92084, 177287, 4879058, 843999, 4818912, 617297, 6976187, 710234, 27121102786700, 52315193, 8324850, 656873, 4873148, 9519426, 307882, 556452, 297542, 2168700161083, 15546598, 432890, 2175700091519, 2185707578000, 27191146756400, 9532936, 326521, 3643, 420323, 27161100378148, 927696, 2622, 673083, 2185800018886, 4880884, 850516, 1415, 196954, 2165735985200, 745206, 18369, 2185707577400, 773682, 2209226, 368474, 22092260, 2178700007442, 631672, 40760, 617681, 752359, 15377, 8618125, 505429, 1101233, 2165703898800, 886902, 55288, 495651, 555625, 1886237, 2672, 52375, 2165703695600, 4022, 955063, 27131100191791, 27131100191579, 64336, 555007, 102339, 63458, 14393, 27171139940400, 27181148889000, 94326756, 425796, 36001960, 536136, 824643, 58803, 304918, 873332, 263264, 457030, 50781, 308381, 1056739, 395930, 6971, 729686, 6872623, 2155700059889, 2178700012037, 381133, 27181100438017, 937597, 1887475, 210657, 417604, 2185705295600, 593437, 557548, 27181100478134, 4478202, 169739, 533414, 726257, 701152, 71035, 2165705652900, 710117, 1258873, 640104, 928479, 168978, 27181149406500, 727584, 255505, 8524397, 573137, 7061018, 4539473, 6300581, 7757922, 13556, 11015149, 225369, 27181144137600, 2178700011839, 48931, 2168700009317, 111684, 2168700025500, 714939, 80717, 8522579, 544281, 202763, 7073227, 2165705429000, 11205, 7062789, 911787, 4445320, 340432, 183329, 766255, 1363071, 27181144209700, 27181147809300, 130133, 27191152294600, 2185746669300, 1114256, 159787, 508843, 52337, 147424, 6888883, 7002037, 521918, 4524389, 801442, 27181149332800, 6303265, 1804397, 1331936, 9513764, 2148700645514, 2168700222200, 1324341, 2185700039521, 552177, 82099, 426692, 2188800014649, 7956309, 643278, 6785844, 2168700640700, 533834, 2502227, 678607, 151143, 247, 690020, 15556993, 2188700001389, 171910, 164883, 6973852, 4257186, 638834, 130798, 729568, 2175705465400, 37836, 1215629, 67507, 637697, 2165700050013, 2185700044121, 2165703190500, 150290, 2178800003577, 95957, 2175700015510, 784442, 141482, 1027, 644601, 27, 6779783, 287089, 2175700005270, 469720, 2185700025280, 27171100388696, 2117279, 7652331, 4266, 27171100395269, 2122025, 28396, 117088, 924980, 8261, 2185800458704, 692541, 232714, 2114606, 185305, 2185800002094, 1147772, 955556, 1098534, 32404, 94326783, 40234, 4861667, 27161111366617, 190839, 486442, 9531935, 9521837, 94381, 116522, 27171139390400, 351775, 4274846, 4272813, 164891, 646621, 554926, 2185700004308, 4257472, 27191150968600, 953435, 955211, 27181149089400, 72205, 205024, 213547, 52320013, 606600, 4879117, 74323, 2165735727000, 416287, 27181100492629, 313511, 293295, 2155804110100, 27161135463600, 2490434, 350757, 2185800087784, 2258, 301741, 2188700588100, 27181100441804, 485912, 277872, 2188700004624, 2168701438700, 2188700013038, 4048008, 409856, 159489, 133142, 6995617, 516330, 84500159, 595253, 6973179, 27171100387401, 696090, 59752, 481074, 27181100438074, 4918158, 53624, 2018700827216, 3068, 27171138626400, 1078034, 27181100452180, 2188700846851, 69094, 7008124, 23559, 7808440, 773813, 2118700000632, 591888, 1347342, 1379833, 1114839, 395474, 395574, 23058, 298471, 226347, 556355, 2155700005959, 2175700090290, 331876, 48, 27181149037000, 224281, 458677, 447154, 370939, 27181100458126, 2175700059847, 248165, 590066, 658719, 824253, 7772781, 145483, 452603, 1056194, 787256, 1018571, 2165807958300, 2185700019501, 70270, 1276626, 27151130362500, 8371705, 566181, 77263, 2178702344500, 694095, 6976188, 481177, 397514, 27181144862200, 1749801, 2185700066432, 2175704260200, 12040, 27181142871100, 1074187, 2188700545905, 27181143026700, 2175800085232, 63000, 966307, 27191153132400, 9522866, 2155700057641, 2385954, 56492, 8378291, 239255, 27181142678300, 2165702503600, 830033, 110230, 957287, 2185800025011, 1168473, 699697, 544183, 27181148892400, 50394, 2178702335300, 4896672, 685513, 94328218, 2185704644200, 315939, 936507, 37768, 4879910, 4826165, 123337, 52414, 614303, 2178700003473, 48675, 26733, 290334, 227396, 1158609, 152346, 13236, 170691, 788259, 1376280, 2185700075061, 897679, 147335, 606464, 7609, 1068593, 27181100456903, 94326152, 2185707576800, 27161100379020, 2165700087913, 4260945, 1104216, 27171100422760, 3080, 7180738, 56221695, 6978283, 125772, 702751, 6973842, 472082, 845098, 1289482, 27171100393686, 2178700013771, 1747448, 2123386, 4172731, 2478700006066, 454210, 2185703788000, 27181149351600, 297377, 27161136602900, 384454, 2188700004654, 448537, 2178800013948, 2148757139500, 2178700020673, 27161136730900, 27171139242500, 27171101388306, 132466, 53213, 297611, 303291, 4199331, 617309, 651218, 794643, 632367, 131266, 4463169, 1160623, 25012338, 2185744114600, 2185800018002, 728876, 2175700015186, 813737, 767223, 4868934, 6854909, 116005, 47948, 8623730, 2351814, 719397, 349646, 673686, 4010232, 2158702531900, 15958, 204109, 27181142883100, 4779, 759472, 526456, 605289, 71673, 469461, 585498, 443034, 914206, 1903975, 7985936, 7940089, 1352051, 2185700029877, 186006, 27181145023100, 381260, 215863, 27181150124100, 2158700320200, 430750, 303315, 337461, 5020896, 777772, 27181147779400, 292472, 907389, 6780995, 628944, 4257748, 62689, 449329, 267887, 39667, 314626, 4048212, 2175741447900, 1932811, 2168800020003, 146415, 2185800018692, 171792, 27171100393723, 315571, 2185800019530, 824838, 862001, 10424, 923655, 338910, 27181142989500, 6767560, 27181149054600, 25012229, 1365054, 456322, 16534, 1900778, 491298, 6302136, 568004, 4915325, 92261, 2168700990100, 924870, 2216, 2155701649300, 671465, 4497358, 27181146635900, 3229271, 665868, 3109446, 2175700085023, 160258, 331198, 62144, 634978, 2185700043875, 739297, 774339, 98000488, 6976186, 2168800007439, 748536, 2165700102532, 513359, 603105, 27171100391966, 106750, 837105, 1347157, 826390, 2178700007444, 844825, 31929, 2185705256300, 74276, 962028, 189937, 27151100387304, 27171100387340, 20431002, 2185744374100, 370679, 485694, 4866389, 396471, 7057159, 1172361, 7763613, 2178702704100, 2195710440400, 40201, 2185700058147, 138161, 27181100457927, 47324, 49582, 2178700592700, 2830298, 2185709224700, 923556, 824130, 366654, 452572, 55022689, 384855, 27181148971400, 8362867, 639163, 2188700006348, 721891, 94581, 138883, 2188700001844, 513926, 6893063, 3519668, 330669, 92760, 582275, 1346, 2185700366945, 65109, 1256061, 249588, 2027, 27181146598900, 481628, 625889, 27191150806300, 27181100460675, 27191100522551, 908764, 94546, 27191150797200, 543350, 42628, 12089116, 196616, 1033013, 27161134226100, 27181100458225, 27171140001500, 334562, 14608043, 2158700554300, 2185800017667, 331891, 1227732, 27181100470622, 227236, 24106, 2188701217200, 1071290, 329821, 6831312, 2165701184400, 27191151001100, 28730, 29057, 36465, 2185700027418, 2185800087582, 358478, 2178700003373, 6772581, 27191150869400, 618354, 49436, 41235, 2165735261300, 7968540, 55020302, 2266, 3004581, 593752, 24515, 5564, 2168700009313, 351245, 138859, 760664, 27181100431557, 6829015, 417458, 1198475, 176778, 205215, 2185700087504, 4109, 196906, 27191100511182, 631253, 27181100468189, 593739, 6873106, 2178701197500, 27181100427094, 1267071, 2165708705700, 625304, 494717, 57739, 11000954, 510726, 939874, 6976197, 277859, 4539419, 64088, 2165702004900, 27181100458014, 406158, 29870, 2185700000672, 1264082, 995318, 15654, 2185704820100, 2175709045700, 2178700007418, 326226, 184747, 4524363, 94392, 595918, 598100, 4159802278200, 2158700005845, 323067, 2185800025648, 277785, 1148513, 587502, 6706218, 434468, 33915, 49446, 4873154, 42, 52320107, 164936, 30513, 6834145, 2185744114700, 2185700004580, 607171, 479588, 469173, 27171140058000, 41122, 769777, 845073, 4746407, 561930, 485111, 2195709252400, 348610, 142550, 4918978, 142644, 2138763398900, 27181142876700, 1234367, 155070, 491306, 1277238, 1030815, 952566, 2188700003753, 1280917, 960450, 27181149334200, 7916821, 708025, 493252, 249667, 573334, 68533, 584316, 2516336, 2165806287800, 2165802197800, 708522, 2168700014062, 66203, 14910, 711578, 7671670, 735478, 2158701942700, 374392, 485878, 415835, 538495, 27113400001748, 64301, 160005, 2188700014360, 882532, 9838, 2165800050030, 5896673, 2178700007486, 2165700050015, 27181100433278, 2188700012185, 310906, 752067, 27181149191800, 2138761216100, 2195709339200, 183231, 39332, 25135, 317610, 27191146756600, 11092501, 27181100431568, 7054404, 798883, 2188700008376, 44990, 2158700001811, 4166801168200, 4879265, 612409, 260977, 7784024, 575158, 9509483, 953489, 480871, 807867, 2195709292600, 804183, 2168700023687, 1124720, 2185700086958, 2165800868200, 7002174, 1225586, 265747, 27153400630800, 7575, 4849793, 27181149243800, 1014116, 2188800014819, 1015557, 485812, 1267914, 6992269, 545624, 8627007, 27181100469289, 581832, 6775054, 7923604, 1148592, 870149, 2188700013000, 492466, 2185700075231, 2148700642515, 439100, 6303923, 26947, 195282, 459827, 27161100342798, 5442309, 847054, 27191152295700, 2185707503700, 476473, 600736, 27151100286357, 6833243, 27191153149800, 71745, 7056044, 6920321, 1014461, 2165703338600, 175477, 2178700012698, 2185700004193, 32335, 217922, 320167, 332438, 9500446, 518955, 201663, 263304, 758127, 494712, 27181142969500, 27181145162200, 674227, 885351, 595391, 2195700115303, 2188700013313, 13984, 57520, 27181144235700, 27181100477224, 71716, 703333, 402854, 729635, 27181145120000, 205351, 338646, 309551, 501746, 6778754, 272605, 803716, 87029, 2143, 475415, 5485, 588461, 4523558, 27191153132500, 426782, 297491, 593603, 6777396, 95275, 822786, 624974, 484567, 2185700004957, 928506, 2175739394400, 51371, 2165700065371, 384192, 367103, 501118, 2188700415400, 26858, 340440, 6974519, 27181150105000, 672789, 27171100422582, 392859, 145645, 148457, 2168700015238, 938390, 169044, 6859476, 309065, 1166919, 16865, 27181144448500, 798184, 107735, 6300346, 667690, 2185744112700, 155411, 712760, 2155702980400, 2188701504100, 2195709266200, 481135, 27171100422601, 339895, 27191100522142, 6986179, 374459, 27171100405523, 84179, 27181149334100, 84142, 40347, 45717, 2178700012228, 459280, 2145700661135, 72802, 562895, 123315, 114857, 4881898, 3033, 1208959, 1335243, 4524468, 8966, 562795, 8632028, 2178700663800, 27181149342100, 27181149164200, 2185700078931, 638601, 431887, 27181100481856, 682440, 21693, 381530, 476376, 82439, 6995635, 300822, 2145700287350, 434701, 595252, 712576, 28122, 4524832, 4745310, 867108, 2185707579300, 317580, 1323312, 2175706706300, 27151130260900, 27111101147548, 52333034, 708140, 434420, 2185705289200, 2135700490498, 52320043, 1167696, 441263, 27151130255200, 2165705618300, 5234958, 880, 167788, 27181149196600, 2145700071544, 27171141459700, 7966603, 26837, 494896, 3760, 418592, 2158761245000, 417101, 28509, 171922, 27161100343042, 803039, 27191100512691, 308247, 1219583, 124696, 2165702319400, 52321277, 891812, 222210, 239646, 99334, 553351, 430320, 8543340, 2165701556000, 15560, 2175801556000, 769119, 1251217, 27181100448321, 27181149324200, 7002020, 2188701201900, 4877575, 154538, 8758832, 2188700066592, 27181100478301, 6773940, 884504, 923518, 27171141448400, 1093511, 4903564, 332306, 2168700019784, 1042653, 2185749327900, 2185704531500, 562674, 2185800054688, 2185700087359, 3012242, 981372, 2198800247800, 823471, 823432, 14841979, 9500996, 2175700090337, 9518311, 6973934, 818454, 4156804928700, 2185700044826, 2185702834500, 1886670, 1237798, 330614, 102670, 4567331, 8624977, 27181149312600, 369747, 27191150121900, 78133, 221349, 778513, 336450, 2165700073374, 193693, 48104, 27181108593900, 9508521, 1239565, 7011137, 4873568, 1174958, 581861, 6969395, 1283724, 45660, 493307, 27181100473037, 33032924, 2168701507900, 2178700013739, 2185704637500, 6986740, 830509, 9507795, 2185700079568, 303566, 253, 68856, 27191104092900, 8317655, 34637, 27153400029600, 222019, 1200441, 311141, 657660, 2175700003387, 27181146594100, 27181100459801, 2155700005958, 27181142557000, 2185700442150, 27171100387905, 635523, 2185702895500, 2168700025711, 2175800089208, 102404, 882448, 27191149189500, 578419, 450788, 2165700046765, 2185704899700, 27161100344484, 27171100380330, 2185700058340, 2116158, 139202, 2175700040424, 27161100378260, 119010, 27181150177600, 802464, 27181144140400, 720350, 38174, 53797, 1070516, 357412, 3601763, 55843, 25824953, 32897, 486340, 20850420, 671513, 540510, 6920564, 940903, 2165700049999, 93444, 679947, 731012, 27171100405764, 56697, 44572, 27171100412557, 2185704547300, 4746254, 332919, 26967, 7065663, 7583, 27181100458346, 6892233, 460035, 339993, 267088, 4869627, 27181149373400, 2178702731700, 2185702838100, 300406, 320604, 1077858, 6973853, 7769727, 6973155, 485893, 27181150067400, 876006, 2168800021022, 1164335, 697993, 2185704909000, 672224, 1180615, 2135700830600, 991837, 618774, 398081, 27181147969500, 2198802102900, 216035, 113505, 8506813, 547681, 183441, 2168700009860, 170766, 4915340, 108768, 249679, 2185800058309, 77516, 24916995, 304557, 105729, 511902, 237417, 4867293, 65915, 493377, 2135700824900, 27171139960800, 27181100456965, 115341, 317046, 48851, 2165704980300, 47197, 741623, 3666049, 847138, 55765, 581595, 98190, 30585, 755700, 7666475, 429003, 7964293, 4551958, 169068, 4513, 27181100478201, 56144, 27191150154200, 488818, 9502579, 8633618, 30872, 94325344, 4219669, 8633592, 27181148977500, 2185702847200, 15546804, 61512, 7953869, 4829968, 512186, 77819, 2168701515400, 27191150833900, 68161, 25170, 1050793, 2188700013115, 8348802, 3518593, 626757, 475613, 645249, 7958551, 8349893, 27151130239400, 876449, 2155700220100, 482437, 6763017, 59586, 4271742, 2175700043730, 211538, 27191153130100, 1211921, 732694, 549192, 2114928, 64815, 8543490, 2185800075216, 4870221, 250640, 27191150070000, 2175708684300, 2165701184100, 645278, 2185800001874, 23043, 800446, 2185744344100, 590817, 45886, 417368, 93304, 2168700009388, 602663, 2185800044827, 438862, 528237, 692704, 27161137527700, 2185744375900, 2168700005837, 27141100191791, 876849, 124845, 105102, 2165702490700, 27161137806100, 8518664, 27191153138000, 186371, 1147669, 2178700025661, 143198, 7089, 320719, 27181150094000, 296611, 89510, 8508585, 1203883, 415826, 25409, 563410, 2165707038213, 11077298, 2178700013179, 9207252, 235646, 4477633, 6973400, 78049, 1746168, 27171100034033, 16410, 1250732, 765347, 196386, 27181146741800, 308784, 855701, 603274, 2158700410400, 4861, 4049553, 4918755, 272402, 307857, 27171100386612, 27191150108000, 27191110221300, 2148775202100, 44435, 332286, 248941, 8634154, 48812, 2175700003495, 545583, 150119, 550885, 2175700043804, 593010, 59411, 2175700003960, 9500772, 540828, 2145701944600, 2188701216300, 2188700013854, 32957, 6776707, 2188700414500, 610367, 113417, 2165700062971, 115340, 2185705254300, 198900, 36507, 737642, 220499, 76399, 4826225, 198215, 472035, 132576, 7292376, 1167460, 877473, 93407, 27191150923800, 1805495, 851309, 742902, 778319, 2185702832200, 82530, 601350, 618337, 27163400606600, 2185700039629, 27151100331242, 95353, 1624549, 262836, 484836, 2185700039793, 135411, 6888991, 877441, 27171100387311, 6970229, 415655, 77090, 8620001, 2185800008469, 120794, 164871, 27181100493085, 703831, 846707, 484566, 2795510, 51056, 206826, 2195710388800, 27181100478189, 2185700005001, 351026, 2185700087362, 35090, 1220278, 4474774, 27181100449065, 221990, 76095, 597501, 27181100491866, 7062821, 4873133, 59856, 4873606, 2178700008264, 840941, 266117, 134423, 217935, 2185705268100, 95040, 582179, 27171139304500, 2178700012032, 600884, 27181100458869, 151219, 95321, 55644, 37103, 313615, 2168700006008, 269264, 59923, 2185707558300, 199829, 4173584, 586978, 27191151039700, 162050, 2125700426786, 4818920, 617290, 8624648, 96572, 27171100386941, 27161136011600, 1031565, 523306, 11077311, 2188700022313, 1255612, 27181100458170, 411830, 397666, 20246, 126846, 517033, 977280, 6819227, 1169319, 27181100460057, 27181146549800, 10914, 697077, 988228, 9500589, 3505, 8534136, 415803, 544609, 711870, 230626, 96450, 79212, 27161100377654, 2178701810300, 2175700043686, 287592, 27191153146900, 23476, 27191146756800, 76911, 2120845, 251782, 114228, 2175705497500, 3735, 4915197, 199868, 2158700006087, 947927, 772029, 537139, 563349, 406374, 1253687, 2185703763500, 471965, 27171100387877, 2168700010073, 2168700014087, 2168700099188, 27161100393731, 2195752374300, 129750, 49672, 9525649, 6829007, 1054337, 27171100423320, 27181100458889, 146060, 2175706681200, 700270, 27210, 8522189, 27161100359223, 27181141363500, 2188701449300, 7614, 604814, 788250, 11026614, 512193, 1086863, 8540814, 1387085, 7951311, 1203024, 27181148842200, 4880962, 2178702361800, 224783, 475148, 235792, 2168700994300, 1196873, 27191153192700, 804345, 298600, 205777, 476963, 427318, 10995, 2168700008154, 27161100340695, 11892888, 2185700075017, 8627154, 13392, 136874, 183549, 915212, 126098, 7967443, 114558, 343972, 27181148817600, 557824, 2178700592600, 9512170, 27181142858500, 27171100385883, 457539, 9207410, 2195709260600, 703269, 253394, 23062695, 62693, 2158703174100, 438853, 2185749330300, 612848, 2874, 2165706145700, 4918929, 2165701318900, 679396, 2178700012013, 411483, 776576, 6984165, 8526427, 532376, 4175813, 2178800021043, 35336, 27191152196700, 6304345, 236952, 232876, 144423, 806911, 27161100109142, 2155700010942, 914202, 2188700002955, 2185700054603, 2168700007829, 740975, 2175800088708, 2178700025939, 2188700003778, 2188700022243, 384918, 237660, 526508, 2188700013067, 27161100341012, 709784, 6646, 198673, 27181100459034, 557632, 579676, 2188700854600, 11823, 2067076, 23063652, 9519242, 300855, 2185704548000, 684595, 11211, 11199, 56523, 76668, 361844, 11072530, 27181144839200, 97330, 43454, 36611, 5692573, 27181146876000, 2185700057859, 403712, 66587, 618322, 62091, 637404, 4193587, 2178700025818, 2178702735700, 4693398, 578299, 721288, 1207514, 400142, 27171129071200, 12974, 18847, 222284, 1155813, 2165700031448, 14841420, 4284568, 2185709224600, 27181149345900, 563471, 27181150102000, 317488, 2185709198500, 191531, 2068700061365, 584148, 212835, 311909, 60644, 145903, 1083647, 1232910, 50593, 2185700019023, 27181146637100, 72725, 27161100492619, 2175700059995, 53751, 4237288, 891407, 6768603, 837427, 84516, 1112634, 1054731, 828570, 170536, 30733, 86372, 51377, 1156756, 2195700099354, 1382891, 954911, 25436, 16180, 2188701511700, 672563, 2178700025660, 2175703682200, 57894, 270141, 6766195, 4551473, 27171147692200, 66149, 66159, 27161135395000, 117258, 850236, 25412, 415782, 220837, 5085, 473947, 27191150070700, 88159, 149126, 8634149, 1303092, 24688, 90437, 4237334, 297068, 2165704249100, 27181142975900, 313928, 2185700087236, 27161108689800, 991003, 661234, 6876352, 4241482, 792789, 27181149196300, 430555, 1331322, 27171100449075, 976337, 27151100317942, 459331, 551679, 537058, 27181144378200, 2185709219600, 4825797, 1212765, 401265, 27161100492618, 4497275, 59589, 707463, 6844172, 100497, 6973860, 83854, 182389, 27161100339744, 2175700393708, 100471, 199113, 2178700012566, 7988870, 27171100387811, 6789403, 239336, 421135, 2185700029884, 14463, 14376, 98295, 1242510, 106693, 538807, 4214833, 797537, 1850, 2195700115307, 94325402, 7919205, 2185744373300, 486451, 8347531, 2168700012842, 56491, 2178700141282, 721838, 721304, 2043676, 116989, 92155, 749839, 11870, 1100225, 1745867, 7930561, 925139, 2165700073270, 112814, 796870, 184512, 441568, 1263943, 38838, 44656, 2165700049870, 244105, 136244, 4549340, 11400, 2114118, 2185700004283, 4049690, 2195709242600, 1214862, 82555, 2175709111300, 168589, 643919, 2175800005953, 6073459, 200530, 2168700021452, 9697, 11116243, 6982631, 72907, 2188701509200, 452409, 2195800116266, 779050, 2168700019686, 2195709325100, 420494, 4051794, 1238612, 27181148890000, 18284, 2178700008299, 2185700307200, 9537020, 45217, 27161100287257, 27181144229800, 2168700021146, 27171141464600, 2198825098000, 96180, 2178702509800, 27161100372336, 360406, 6892322, 608698, 200396, 27171100423486, 2185800087950, 118331, 50552, 383938, 6973829, 2185700066625, 1092088, 2165700059945, 2185700075585, 714282, 364087, 2185800001836, 1748122, 12549, 826218, 29966, 2165705418300, 454019, 625619, 4476347, 825200, 2175700006359, 4175635, 566106, 2165708327700, 2195709323500, 40710, 227250, 2185700005006, 2188701803300, 1098829, 2188700008626, 503030, 2165800088065, 2188701197000, 2165809132600, 7391, 6973173, 56223011, 19842, 57121, 367800, 8336972, 13091, 2185700027298, 117983, 152233, 611147, 664813, 282383, 2185700086977, 209725, 595339, 25139564, 545075, 1379161, 328482, 703839, 7020900, 93379, 6304027, 39539, 5894, 158800, 631977, 373390, 621725, 98289, 205041, 2288, 27181100478204, 418984, 27181149230100, 2155700017802, 731043, 4549652, 27191100052079, 978837, 318818, 983620, 69402, 183472, 2195709284600, 79386, 27181100442099, 2185707580800, 7054409, 2165700078245, 2188700005011, 77540, 9501365, 2185704732800, 12811, 137618, 112897, 628441, 2737857, 824015, 318313, 184960, 141640, 467962, 8357656, 2185800018005, 1280836, 530983, 2188700430500, 2195710378900, 4259080, 1050835, 8336287, 27181146917600, 633955, 758779, 974719, 408368, 98259, 455995, 15621, 7001946, 434768, 27141100287467, 27141100286357, 204254, 143597, 395026, 2158700018648, 273759, 1106714, 4276326, 7000498, 66862, 247983, 304945, 44001, 27191100522394, 96850, 480804, 315967, 201031, 85707, 27181100448675, 580093, 2188700002255, 2178700012259, 70292, 2185700075068, 102402, 776751, 2155700024846, 411438, 1044948, 402280, 2178700028770, 98075, 27191152195600, 619073, 2188700437800, 74741, 198656, 2175740707900, 4462161, 27181100448402, 2165700102945, 4461630, 1352785, 474664, 2185700079440, 27181142903000, 537082, 2185703760800, 1156094, 27191100522629, 894881, 4832409, 255852, 6976222, 331178, 273, 290259, 2165762109100, 7208752, 20851285, 17688, 2165702938100, 110761, 167180, 14840148, 1212437, 101887, 2185707599500, 106242, 4166801010100, 667481, 7487, 27181149315000, 22091905, 564991, 4177835, 1359729, 199088, 821633, 8530331, 14129, 669408, 24916898, 308350, 251703, 42653, 669545, 495619, 2185744122600, 2490990, 2175705513000, 332609, 2165700065109, 27171100412411, 523392, 27153400031100, 205715, 403068, 8503480, 409952, 2178700023447, 324768, 571706, 27181100478188, 127826, 95094, 617493, 258822, 5283, 27181100453563, 2165700050164, 66390, 690866, 70490, 5134546, 769993, 146109, 1255655, 363565, 531851, 11092822, 12057, 2369970, 134771, 2185746638400, 2185704745800, 1073473, 216148, 2185700091942, 4559218, 8546191, 50849, 2185701892900, 371887, 4982, 2118925, 47861, 24917112, 2165706256700, 113920, 1746651, 6893059, 625656, 2155700057923, 176074, 27161100370274, 9531719, 153619, 6977936, 3858484, 27181144304500, 369358, 4877497, 717847, 2188800002774, 4746491, 207617, 27181144170300, 814051, 147835, 53505, 2777, 130624, 1029335, 638751, 625940, 27161134564300, 1186856, 55021803, 20850961, 551874, 2155750199900, 111716, 27181100438076, 2362413, 27181149331600, 27161100358659, 27181100442144, 495292, 340011, 27161138593700, 23063826, 1016154, 2195709338800, 1196633, 4818935, 64155, 481586, 617831, 195788, 442248, 229699, 5233092, 316015, 6973906, 2175705540700, 2165700062986, 1887791, 2195709291200, 27161100376461, 692088, 76552, 195815, 10511817, 684834, 2175700386448, 254448, 704288, 633949, 13366, 2145701978500, 557701, 615343, 411836, 4215845, 27171140054700, 2185800087496, 9445, 1634220, 2185709184700, 1745165, 8382317, 878219, 6218, 27161100378200, 2178700011757, 2178701806300, 329160, 13838, 212385, 27181100444546, 266428, 77304, 221287, 145046, 851431, 27181100469710, 117609, 2178702704800, 2175709120800, 27181100500218, 6976234, 2178702729700, 819211, 326524, 107700, 2168700153600, 57377, 4524808, 9120, 599451, 2165700059975, 2185700004488, 2068700002820, 4044789, 2165700738700, 296550, 27181150107900, 713202, 114163, 199769, 1052841, 39291, 318038, 80587, 187823, 794591, 29650, 85839, 2185700262200, 149278, 2185704928100, 82571, 27181150105900, 265857, 27181149352000, 556429, 46687, 6986574, 7805975, 2185700086951, 259909, 68625, 13885, 27181100458365, 27181100458844, 147219, 2165703003700, 793389, 3290, 509045, 4745340, 1244543, 3785, 5134325, 27151100045899, 55799, 4241475, 88289, 805704, 103609, 25128, 2175800088952, 2185705285400, 1003064, 753803, 2188700002781]\n"
          ]
        },
        {
          "output_type": "execute_result",
          "data": {
            "text/plain": [
              "(4463418, 24)"
            ]
          },
          "metadata": {},
          "execution_count": 34
        }
      ],
      "source": [
        "train_value_counts = train['counter_number'].value_counts()\n",
        "count_1_keys = len(train_value_counts[train_value_counts == 1])\n",
        "print(\"Number of keys has value = 1 is : \",count_1_keys)\n",
        "\n",
        "train_value_counts = train['counter_number'].value_counts()\n",
        "keys_with_count_1 = train_value_counts[train_value_counts == 1].index.tolist()\n",
        "print(\"The key that has value = 1 is : \",keys_with_count_1)\n",
        "\n",
        "train = train[~train['counter_number'].isin(train['counter_number'].value_counts()[train['counter_number'].value_counts() == 1].index)]\n",
        "train.shape"
      ]
    },
    {
      "cell_type": "code",
      "execution_count": 23,
      "metadata": {
        "id": "QNdUhZtIAUtq",
        "colab": {
          "base_uri": "https://localhost:8080/"
        },
        "outputId": "5b0e52c4-bef0-47ab-b0d4-0c9bac2f18df"
      },
      "outputs": [
        {
          "output_type": "execute_result",
          "data": {
            "text/plain": [
              "0                37908\n",
              "2786               251\n",
              "630317             230\n",
              "162709             226\n",
              "963                220\n",
              "                 ...  \n",
              "2175800088952        1\n",
              "2185705285400        1\n",
              "1003064              1\n",
              "753803               1\n",
              "2188700002781        1\n",
              "Name: counter_number, Length: 201891, dtype: int64"
            ]
          },
          "metadata": {},
          "execution_count": 23
        }
      ],
      "source": [
        "train['counter_number'].value_counts()"
      ]
    },
    {
      "cell_type": "code",
      "source": [
        "test['counter_number'].value_counts()"
      ],
      "metadata": {
        "id": "jEpMZYtxH9ek",
        "colab": {
          "base_uri": "https://localhost:8080/"
        },
        "outputId": "d589850f-1439-4f03-ef97-d475cfa1ed99"
      },
      "execution_count": 24,
      "outputs": [
        {
          "output_type": "execute_result",
          "data": {
            "text/plain": [
              "0           18455\n",
              "84501054      203\n",
              "26876         199\n",
              "60711         196\n",
              "60393         195\n",
              "            ...  \n",
              "497041          1\n",
              "65589           1\n",
              "154191          1\n",
              "1039710         1\n",
              "55017735        1\n",
              "Name: counter_number, Length: 91966, dtype: int64"
            ]
          },
          "metadata": {},
          "execution_count": 24
        }
      ]
    },
    {
      "cell_type": "code",
      "execution_count": 25,
      "metadata": {
        "id": "R-3YRm9preBR",
        "colab": {
          "base_uri": "https://localhost:8080/"
        },
        "outputId": "d2d51814-01e2-436a-e67e-f702d5a33fa0"
      },
      "outputs": [
        {
          "output_type": "execute_result",
          "data": {
            "text/plain": [
              "203    1516833\n",
              "5      1346775\n",
              "207     555623\n",
              "413     378912\n",
              "202     343234\n",
              "420      98270\n",
              "410      69080\n",
              "433      34447\n",
              "10       27732\n",
              "442      17041\n",
              "25       14934\n",
              "407      13768\n",
              "204      12427\n",
              "453       8290\n",
              "201       7672\n",
              "467       7302\n",
              "506       3389\n",
              "483       2830\n",
              "214       2643\n",
              "40        2482\n",
              "532       1982\n",
              "565       1082\n",
              "403       1070\n",
              "450       1059\n",
              "600        807\n",
              "210        789\n",
              "102        313\n",
              "227        178\n",
              "101         74\n",
              "65          74\n",
              "16          73\n",
              "310         51\n",
              "307         50\n",
              "305         44\n",
              "222         42\n",
              "317         16\n",
              "303          5\n",
              "333          4\n",
              "367          3\n",
              "325          1\n",
              "Name: counter_code, dtype: int64"
            ]
          },
          "metadata": {},
          "execution_count": 25
        }
      ],
      "source": [
        "train['counter_code'].value_counts()"
      ]
    },
    {
      "cell_type": "code",
      "source": [
        "train = train[train['counter_code'] != 1]\n",
        "train = train[train['counter_code'] != 0]\n",
        "train = train[train['counter_code'] != 325]\n",
        "train = train[train['counter_code'] != 367]\n"
      ],
      "metadata": {
        "id": "Dbd6nVm7Ij6o"
      },
      "execution_count": 35,
      "outputs": []
    },
    {
      "cell_type": "code",
      "execution_count": 27,
      "metadata": {
        "id": "T9Jpn4EOs7_T",
        "colab": {
          "base_uri": "https://localhost:8080/"
        },
        "outputId": "2ae07837-229f-4015-886c-c0c541c7dbcb"
      },
      "outputs": [
        {
          "output_type": "execute_result",
          "data": {
            "text/plain": [
              "6    2225627\n",
              "9    1416987\n",
              "8     828122\n",
              "7        661\n",
              "Name: reading_remarque, dtype: int64"
            ]
          },
          "metadata": {},
          "execution_count": 27
        }
      ],
      "source": [
        "train['reading_remarque'].value_counts()"
      ]
    },
    {
      "cell_type": "code",
      "execution_count": 28,
      "metadata": {
        "id": "ZG2Fj0vTtbCN",
        "colab": {
          "base_uri": "https://localhost:8080/"
        },
        "outputId": "ef32d6af-d294-4b3a-bf5c-af6b4f7faf9e"
      },
      "outputs": [
        {
          "output_type": "execute_result",
          "data": {
            "text/plain": [
              "1     4469784\n",
              "2         886\n",
              "3         321\n",
              "40        197\n",
              "30        137\n",
              "0          46\n",
              "4          12\n",
              "10          6\n",
              "20          3\n",
              "50          2\n",
              "33          1\n",
              "5           1\n",
              "11          1\n",
              "Name: counter_coefficient, dtype: int64"
            ]
          },
          "metadata": {},
          "execution_count": 28
        }
      ],
      "source": [
        "train['counter_coefficient'].value_counts()"
      ]
    },
    {
      "cell_type": "code",
      "execution_count": 36,
      "metadata": {
        "id": "guSPDwbvu2Rj"
      },
      "outputs": [],
      "source": [
        "train = train[train['counter_coefficient'] != 11]\n",
        "train = train[train['counter_coefficient'] != 50]\n",
        "train = train[train['counter_coefficient'] != 33]\n",
        "train = train[train['counter_coefficient'] != 5]\n",
        "train = train[train['counter_coefficient'] != 20]\n",
        "train = train[train['counter_coefficient'] != 10]"
      ]
    },
    {
      "cell_type": "code",
      "execution_count": 30,
      "metadata": {
        "id": "LfzpqDzRHac3",
        "colab": {
          "base_uri": "https://localhost:8080/"
        },
        "outputId": "ee229f3e-5c80-47be-a950-8af9c1f9091f"
      },
      "outputs": [
        {
          "output_type": "execute_result",
          "data": {
            "text/plain": [
              "62    1332035\n",
              "69    1076904\n",
              "63    1072570\n",
              "60     989874\n",
              "Name: disrict, dtype: int64"
            ]
          },
          "metadata": {},
          "execution_count": 30
        }
      ],
      "source": [
        "train['disrict'].value_counts()"
      ]
    },
    {
      "cell_type": "code",
      "execution_count": 31,
      "metadata": {
        "id": "biCCwQBDzA7e",
        "colab": {
          "base_uri": "https://localhost:8080/"
        },
        "outputId": "ef55d1c5-1d09-4b32-9c22-3a3225002dec"
      },
      "outputs": [
        {
          "output_type": "execute_result",
          "data": {
            "text/plain": [
              "array([101, 107, 301, 105, 303, 103, 309, 311, 304, 104, 312, 305, 306,\n",
              "       308, 372, 307, 313, 310, 371, 302, 106, 379, 399, 206, 199])"
            ]
          },
          "metadata": {},
          "execution_count": 31
        }
      ],
      "source": [
        "train['region'].unique()"
      ]
    },
    {
      "cell_type": "code",
      "execution_count": 32,
      "metadata": {
        "id": "_00oIs2mfRIk",
        "colab": {
          "base_uri": "https://localhost:8080/"
        },
        "outputId": "613ed116-486b-4754-85c4-e1ed506af8b0"
      },
      "outputs": [
        {
          "output_type": "execute_result",
          "data": {
            "text/plain": [
              "ELEC    3079318\n",
              "GAZ     1392065\n",
              "Name: counter_type, dtype: int64"
            ]
          },
          "metadata": {},
          "execution_count": 32
        }
      ],
      "source": [
        "train['counter_type'].value_counts()"
      ]
    },
    {
      "cell_type": "code",
      "execution_count": 33,
      "metadata": {
        "id": "0seBuV2UDQL7",
        "colab": {
          "base_uri": "https://localhost:8080/"
        },
        "outputId": "655d775b-5b44-4a32-8252-438b98112a3c"
      },
      "outputs": [
        {
          "output_type": "execute_result",
          "data": {
            "text/plain": [
              "4         3675807\n",
              "8          278692\n",
              "2          270350\n",
              "1          113266\n",
              "12          54327\n",
              "           ...   \n",
              "45882           1\n",
              "39927           1\n",
              "53227           1\n",
              "69016           1\n",
              "463554          1\n",
              "Name: months_number, Length: 1351, dtype: int64"
            ]
          },
          "metadata": {},
          "execution_count": 33
        }
      ],
      "source": [
        "train['months_number'].value_counts()"
      ]
    },
    {
      "cell_type": "code",
      "execution_count": 37,
      "metadata": {
        "id": "McRoe0PLDz2Y",
        "colab": {
          "base_uri": "https://localhost:8080/"
        },
        "outputId": "b778d592-62fd-4316-848d-6ae4437687fb"
      },
      "outputs": [
        {
          "output_type": "execute_result",
          "data": {
            "text/plain": [
              "(4439855, 24)"
            ]
          },
          "metadata": {},
          "execution_count": 37
        }
      ],
      "source": [
        "train = train[train['months_number'] <= 12]\n",
        "train.shape"
      ]
    },
    {
      "cell_type": "code",
      "execution_count": null,
      "metadata": {
        "colab": {
          "base_uri": "https://localhost:8080/",
          "height": 996
        },
        "id": "MYQONnkyBFlZ",
        "outputId": "0e2cf5c0-fd56-4aea-df3f-a50d1c9afd77"
      },
      "outputs": [
        {
          "output_type": "stream",
          "name": "stderr",
          "text": [
            "<ipython-input-153-c7df0ba9c4b7>:1: FutureWarning: The default value of numeric_only in DataFrame.corr is deprecated. In a future version, it will default to False. Select only valid columns or specify the value of numeric_only to silence this warning.\n",
            "  correl = train.corr()\n"
          ]
        },
        {
          "output_type": "execute_result",
          "data": {
            "text/plain": [
              "<Axes: >"
            ]
          },
          "metadata": {},
          "execution_count": 153
        },
        {
          "output_type": "display_data",
          "data": {
            "text/plain": [
              "<Figure size 2200x1400 with 2 Axes>"
            ],
            "image/png": "[encoded data removed]"
          },
          "metadata": {}
        }
      ],
      "source": [
        "correl = train.corr()\n",
        "plt.figure(figsize=(22,14),dpi=100)\n",
        "sns.heatmap(correl , annot = True , cmap='PiYG')"
      ]
    },
    {
      "cell_type": "code",
      "execution_count": null,
      "metadata": {
        "colab": {
          "base_uri": "https://localhost:8080/",
          "height": 489
        },
        "id": "HNIXeBEA591C",
        "outputId": "9641dc6b-974b-473c-8826-47b0c468ae91"
      },
      "outputs": [
        {
          "output_type": "execute_result",
          "data": {
            "text/plain": [
              "<Axes: title={'center': 'The effect of the two largest values that have an impact on the target'}, xlabel='disrict', ylabel='client_catg'>"
            ]
          },
          "metadata": {},
          "execution_count": 35
        },
        {
          "output_type": "display_data",
          "data": {
            "text/plain": [
              "<Figure size 640x480 with 1 Axes>"
            ],
            "image/png": "[encoded data removed]"
          },
          "metadata": {}
        }
      ],
      "source": [
        "plt.title (\"The effect of the two largest values that have an impact on the target\")\n",
        "sns.barplot( data = train, x = 'disrict' , y = 'client_catg', hue ='target' )"
      ]
    },
    {
      "cell_type": "code",
      "execution_count": null,
      "metadata": {
        "colab": {
          "base_uri": "https://localhost:8080/",
          "height": 489
        },
        "id": "vNcyyZXGKiMc",
        "outputId": "71be9034-5a85-4a68-ca72-b0ab6bcce47b"
      },
      "outputs": [
        {
          "output_type": "execute_result",
          "data": {
            "text/plain": [
              "<Axes: title={'center': 'Histogram of Petal disrict, by target'}, xlabel='disrict', ylabel='months_number'>"
            ]
          },
          "metadata": {},
          "execution_count": 34
        },
        {
          "output_type": "display_data",
          "data": {
            "text/plain": [
              "<Figure size 640x480 with 1 Axes>"
            ],
            "image/png": "[encoded data removed]"
          },
          "metadata": {}
        }
      ],
      "source": [
        "plt.Figure(figsize = (15 , 10))\n",
        "plt.title('Histogram of Petal disrict, by target')\n",
        "sns.scatterplot(data = train, x = 'disrict' , y = 'months_number' ,hue ='target' )"
      ]
    },
    {
      "cell_type": "code",
      "execution_count": null,
      "metadata": {
        "colab": {
          "base_uri": "https://localhost:8080/",
          "height": 489
        },
        "id": "g3M2EiLrZevy",
        "outputId": "8f3153f0-cc6b-4078-c783-c4e82d612b33"
      },
      "outputs": [
        {
          "output_type": "execute_result",
          "data": {
            "text/plain": [
              "<Axes: title={'center': 'Histogram of Petal client catg, by target'}, xlabel='client_catg', ylabel='Density'>"
            ]
          },
          "metadata": {},
          "execution_count": 37
        },
        {
          "output_type": "display_data",
          "data": {
            "text/plain": [
              "<Figure size 640x480 with 1 Axes>"
            ],
            "image/png": "[encoded data removed]"
          },
          "metadata": {}
        }
      ],
      "source": [
        "plt.title('Histogram of Petal client catg, by target')\n",
        "sns.kdeplot(data = train , x = 'client_catg', hue ='target')"
      ]
    },
    {
      "cell_type": "code",
      "execution_count": 38,
      "metadata": {
        "id": "2KaJSZkj9Zab"
      },
      "outputs": [],
      "source": [
        "train['region']= encode.fit_transform(train['region'])\n",
        "# train['disrict']= encode.fit_transform(train['disrict'])\n",
        "train['counter_type']= encode.fit_transform(train['counter_type'])"
      ]
    },
    {
      "cell_type": "code",
      "execution_count": 39,
      "metadata": {
        "id": "i9LPKckfBZYT",
        "colab": {
          "base_uri": "https://localhost:8080/"
        },
        "outputId": "ecf06a49-f018-4687-da31-5935f46d7ba9"
      },
      "outputs": [
        {
          "output_type": "execute_result",
          "data": {
            "text/plain": [
              "(4439855, 24)"
            ]
          },
          "metadata": {},
          "execution_count": 39
        }
      ],
      "source": [
        "train.shape"
      ]
    },
    {
      "cell_type": "code",
      "source": [
        "print (train.shape)\n",
        "print(train['target'].value_counts())"
      ],
      "metadata": {
        "id": "ouugnOzKQCVF",
        "colab": {
          "base_uri": "https://localhost:8080/"
        },
        "outputId": "584a715a-8dcb-48a3-d5b9-8736575f6a89"
      },
      "execution_count": 22,
      "outputs": [
        {
          "output_type": "stream",
          "name": "stdout",
          "text": [
            "(4439855, 24)\n",
            "0.0    4089273\n",
            "1.0     350582\n",
            "Name: target, dtype: int64\n"
          ]
        }
      ]
    },
    {
      "cell_type": "code",
      "execution_count": 40,
      "metadata": {
        "id": "pkTbCVc3Fo2a",
        "colab": {
          "base_uri": "https://localhost:8080/"
        },
        "outputId": "4ae013b3-800e-4710-b277-2211f31c05d6"
      },
      "outputs": [
        {
          "output_type": "stream",
          "name": "stdout",
          "text": [
            "(4439855,)\n",
            "(4439855, 23)\n"
          ]
        }
      ],
      "source": [
        "y = train['target']\n",
        "x = train.drop(['target'] , axis = 1)\n",
        "# x = pd.get_dummies(x , drop_first=True)\n",
        "x = sc.fit_transform(x)\n",
        "print (y.shape)\n",
        "print (x.shape)"
      ]
    },
    {
      "cell_type": "code",
      "source": [
        "from imblearn.under_sampling import RandomUnderSampler\n",
        "rus = RandomUnderSampler(random_state=42)\n",
        "x_rus, y_rus = rus.fit_resample(x, y)\n",
        "print(x_rus.shape)\n",
        "print(y_rus.shape)"
      ],
      "metadata": {
        "id": "QmugJyCSVov3",
        "colab": {
          "base_uri": "https://localhost:8080/"
        },
        "outputId": "24159943-ba58-43b8-df85-c624cfc050ad"
      },
      "execution_count": 41,
      "outputs": [
        {
          "output_type": "stream",
          "name": "stdout",
          "text": [
            "(701164, 23)\n",
            "(701164,)\n"
          ]
        }
      ]
    },
    {
      "cell_type": "code",
      "execution_count": 42,
      "metadata": {
        "id": "ROMcpFXnJO0r"
      },
      "outputs": [],
      "source": [
        "x_train, x_test, y_train, y_test = train_test_split(x , y,test_size=0.2,shuffle=True, random_state=40)"
      ]
    },
    {
      "cell_type": "code",
      "execution_count": 20,
      "metadata": {
        "id": "312Qtb2EDezH"
      },
      "outputs": [],
      "source": [
        "y_train = np.array(y_train).reshape(-1, 1)\n",
        "y_test = np.array(y_test).reshape(-1, 1)"
      ]
    },
    {
      "cell_type": "code",
      "source": [
        "from sklearn.ensemble import RandomForestClassifier\n",
        "rfc = RandomForestClassifier(n_estimators=100, max_depth=45 , criterion = 'entropy')\n",
        "rfc.fit(x_train, y_train)\n",
        "rfc_train = rfc.predict(x_train)\n",
        "rfc_test = rfc.predict(x_test)\n",
        "RF_score = rfc.score(x_test, y_test)\n",
        "print(\"random forest train accu =\", rfc.score(x_train, y_train))\n",
        "print(\"random forest test accu =\", RF_score)\n",
        "print(\"RANDOM FOREST REPORT\\n\", classification_report(y_test, rfc_test))"
      ],
      "metadata": {
        "colab": {
          "base_uri": "https://localhost:8080/"
        },
        "id": "8-AJFr7QJRfm",
        "outputId": "98581ce7-f49d-4374-d309-8afae856275a"
      },
      "execution_count": 26,
      "outputs": [
        {
          "output_type": "stream",
          "name": "stderr",
          "text": [
            "<ipython-input-26-ac89c55fe57c>:3: DataConversionWarning: A column-vector y was passed when a 1d array was expected. Please change the shape of y to (n_samples,), for example using ravel().\n",
            "  rfc1.fit(x_train, y_train)\n"
          ]
        },
        {
          "output_type": "stream",
          "name": "stdout",
          "text": [
            "random forest train accu = 0.9994462093919734\n",
            "random forest test accu = 0.9477820784687788\n",
            "RANDOM FOREST REPORT\n",
            "               precision    recall  f1-score   support\n",
            "\n",
            "         0.0       0.95      1.00      0.97    818000\n",
            "         1.0       0.94      0.36      0.52     69971\n",
            "\n",
            "    accuracy                           0.95    887971\n",
            "   macro avg       0.94      0.68      0.75    887971\n",
            "weighted avg       0.95      0.95      0.94    887971\n",
            "\n"
          ]
        }
      ]
    },
    {
      "cell_type": "code",
      "execution_count": 24,
      "metadata": {
        "id": "d5PUqkTpKREZ",
        "colab": {
          "base_uri": "https://localhost:8080/"
        },
        "outputId": "082d08d4-0b60-451e-b03f-56f4b68070b8"
      },
      "outputs": [
        {
          "output_type": "stream",
          "name": "stdout",
          "text": [
            "xgBoost train accu = :  0.9255229055903853\n",
            "xgBoost test accu = :  0.9252351709684212\n",
            "XGBOOST REPORT\n",
            "               precision    recall  f1-score   support\n",
            "\n",
            "         0.0       0.93      1.00      0.96    818000\n",
            "         1.0       0.78      0.07      0.13     69971\n",
            "\n",
            "    accuracy                           0.93    887971\n",
            "   macro avg       0.85      0.53      0.55    887971\n",
            "weighted avg       0.92      0.93      0.90    887971\n",
            "\n"
          ]
        }
      ],
      "source": [
        "from xgboost import  XGBClassifier\n",
        "fbst = XGBClassifier(n_estimators = 100, max_depth = 11, learning_rate = 0.0001, eta = 0.1)\n",
        "fbst.fit(x_train , y_train)\n",
        "y_xgt = fbst.predict(x_train)\n",
        "y_xgb = fbst.predict(x_test)\n",
        "xgb_score = fbst.score(x_test,y_test)\n",
        "print (\"xgBoost train accu = : \" , fbst.score(x_train,y_train))\n",
        "print (\"xgBoost test accu = : \" ,xgb_score)\n",
        "print(\"XGBOOST REPORT\\n\",classification_report(y_test, y_xgb))"
      ]
    },
    {
      "cell_type": "code",
      "source": [
        "# from catboost import CatBoostClassifier\n",
        "# clf = CatBoostClassifier( iterations=3, random_seed=40, learning_rate=0.1, custom_loss=['Accuracy'])\n",
        "# clf.fit(x_train , y_train)\n",
        "# y_clf = clf.predict(x_train)\n",
        "# y_clf = clf.predict(x_test)\n",
        "# clf_score = fbst.score(x_test,y_test)\n",
        "# print (\"CatBoost train accu = : \" , clf.score(x_train,y_train))\n",
        "# print (\"CatBoost test accu = : \" ,clf_score)\n",
        "# print(\"CatBOOST REPORT\\n\",classification_report(y_test, y_clf))"
      ],
      "metadata": {
        "id": "JnwkdwJWVKpd"
      },
      "execution_count": null,
      "outputs": []
    },
    {
      "cell_type": "code",
      "source": [
        "from sklearn.linear_model import LogisticRegression\n",
        "lr = LogisticRegression(max_iter=4000, solver = 'liblinear' )\n",
        "lr.fit(x_train, y_train)\n",
        "lr_train = lr.predict(x_train)\n",
        "lr_test = lr.predict(x_test)\n",
        "lr_score = lr.score(x_test, y_test)\n",
        "print(\"Logistic Regression train accu =\", lr.score(x_train, y_train))\n",
        "print(\"Logistic Regression test accu =\", lr_score)\n",
        "print(\"Logistic Regression REPORT\\n\", classification_report(y_test, lr_test))"
      ],
      "metadata": {
        "colab": {
          "base_uri": "https://localhost:8080/"
        },
        "id": "fzKN-wSAcre3",
        "outputId": "596c5aa4-db35-4bbc-e465-23be28698f27"
      },
      "execution_count": 31,
      "outputs": [
        {
          "output_type": "stream",
          "name": "stderr",
          "text": [
            "/usr/local/lib/python3.10/dist-packages/sklearn/utils/validation.py:1143: DataConversionWarning: A column-vector y was passed when a 1d array was expected. Please change the shape of y to (n_samples, ), for example using ravel().\n",
            "  y = column_or_1d(y, warn=True)\n"
          ]
        },
        {
          "output_type": "stream",
          "name": "stdout",
          "text": [
            "Logistic Regression train accu = 0.9209853137095694\n",
            "Logistic Regression test accu = 0.9211731013738061\n",
            "Logistic Regression REPORT\n",
            "               precision    recall  f1-score   support\n",
            "\n",
            "         0.0       0.92      1.00      0.96    818000\n",
            "         1.0       0.25      0.00      0.00     69971\n",
            "\n",
            "    accuracy                           0.92    887971\n",
            "   macro avg       0.59      0.50      0.48    887971\n",
            "weighted avg       0.87      0.92      0.88    887971\n",
            "\n"
          ]
        }
      ]
    },
    {
      "cell_type": "code",
      "execution_count": null,
      "metadata": {
        "id": "mJpMDIV0Oz5F",
        "colab": {
          "base_uri": "https://localhost:8080/"
        },
        "outputId": "606b6c4e-cf3e-4f0c-c27b-81eafea6ba2f"
      },
      "outputs": [
        {
          "output_type": "stream",
          "name": "stderr",
          "text": [
            "/usr/local/lib/python3.10/dist-packages/sklearn/utils/validation.py:1143: DataConversionWarning: A column-vector y was passed when a 1d array was expected. Please change the shape of y to (n_samples, ), for example using ravel().\n",
            "  y = column_or_1d(y, warn=True)\n"
          ]
        },
        {
          "output_type": "stream",
          "name": "stdout",
          "text": [
            "QDA train accu :  0.8749058246271556\n",
            "QDA test accu :  0.8756818908704328\n",
            "QDA REPORT\n",
            "               precision    recall  f1-score   support\n",
            "\n",
            "         0.0       0.93      0.94      0.93    818140\n",
            "         1.0       0.16      0.14      0.15     69832\n",
            "\n",
            "    accuracy                           0.88    887972\n",
            "   macro avg       0.54      0.54      0.54    887972\n",
            "weighted avg       0.87      0.88      0.87    887972\n",
            "\n"
          ]
        }
      ],
      "source": [
        "from sklearn.discriminant_analysis import QuadraticDiscriminantAnalysis\n",
        "qda = QuadraticDiscriminantAnalysis(reg_param=0.0001)\n",
        "qda.fit (x_train , y_train)\n",
        "qda_train = qda.predict(x_train)\n",
        "qda_test  = qda.predict(x_test)\n",
        "qda_score = qda.score(x_test,y_test)\n",
        "print (\"QDA train accu : \" , qda.score(x_train,y_train))\n",
        "print (\"QDA test accu : \" ,qda_score)\n",
        "print(\"QDA REPORT\\n\",classification_report(y_test, qda_test))"
      ]
    },
    {
      "cell_type": "code",
      "execution_count": 36,
      "metadata": {
        "id": "IQY2nBZDPO7W",
        "colab": {
          "base_uri": "https://localhost:8080/"
        },
        "outputId": "37728bea-f6bf-461d-9d7e-2eb78bc30f42"
      },
      "outputs": [
        {
          "output_type": "stream",
          "name": "stderr",
          "text": [
            "/usr/local/lib/python3.10/dist-packages/sklearn/utils/validation.py:1143: DataConversionWarning: A column-vector y was passed when a 1d array was expected. Please change the shape of y to (n_samples, ), for example using ravel().\n",
            "  y = column_or_1d(y, warn=True)\n"
          ]
        },
        {
          "output_type": "stream",
          "name": "stdout",
          "text": [
            "LDA train accu: 0.9204667156922918\n",
            "LDA test accu: 0.9206133984105337\n",
            "LDA REPORT\n",
            "               precision    recall  f1-score   support\n",
            "\n",
            "         0.0       0.92      1.00      0.96    818000\n",
            "         1.0       0.32      0.01      0.01     69971\n",
            "\n",
            "    accuracy                           0.92    887971\n",
            "   macro avg       0.62      0.50      0.49    887971\n",
            "weighted avg       0.87      0.92      0.88    887971\n",
            "\n"
          ]
        }
      ],
      "source": [
        "from sklearn.discriminant_analysis import LinearDiscriminantAnalysis\n",
        "lda = LinearDiscriminantAnalysis(solver='svd', tol=0.001 )\n",
        "lda.fit(x_train, y_train)\n",
        "lda_train = lda.predict(x_train)\n",
        "lda_test = lda.predict(x_test)\n",
        "lda_score = lda.score(x_test, y_test)\n",
        "print(\"LDA train accu:\", lda.score(x_train, y_train))\n",
        "print(\"LDA test accu:\", lda_score)\n",
        "print(\"LDA REPORT\\n\", classification_report(y_test, lda_test))\n"
      ]
    },
    {
      "cell_type": "code",
      "execution_count": 38,
      "metadata": {
        "id": "uPlYJPOxAwC_",
        "colab": {
          "base_uri": "https://localhost:8080/"
        },
        "outputId": "8623f4e6-6dd8-41b3-9514-0c1c98959465"
      },
      "outputs": [
        {
          "metadata": {
            "tags": null
          },
          "name": "stderr",
          "output_type": "stream",
          "text": [
            "/usr/local/lib/python3.10/dist-packages/sklearn/ensemble/_bagging.py:802: DataConversionWarning: A column-vector y was passed when a 1d array was expected. Please change the shape of y to (n_samples, ), for example using ravel().\n",
            "  y = column_or_1d(y, warn=True)\n"
          ]
        },
        {
          "output_type": "stream",
          "name": "stdout",
          "text": [
            "Bagging train accu =  0.920996575338609\n",
            "Bagging test accu =  0.9212012554464053\n"
          ]
        },
        {
          "output_type": "stream",
          "name": "stderr",
          "text": [
            "/usr/local/lib/python3.10/dist-packages/sklearn/metrics/_classification.py:1344: UndefinedMetricWarning: Precision and F-score are ill-defined and being set to 0.0 in labels with no predicted samples. Use `zero_division` parameter to control this behavior.\n",
            "  _warn_prf(average, modifier, msg_start, len(result))\n",
            "/usr/local/lib/python3.10/dist-packages/sklearn/metrics/_classification.py:1344: UndefinedMetricWarning: Precision and F-score are ill-defined and being set to 0.0 in labels with no predicted samples. Use `zero_division` parameter to control this behavior.\n",
            "  _warn_prf(average, modifier, msg_start, len(result))\n"
          ]
        },
        {
          "output_type": "stream",
          "name": "stdout",
          "text": [
            "BAGGING REPORT\n",
            "               precision    recall  f1-score   support\n",
            "\n",
            "         0.0       0.92      1.00      0.96    818000\n",
            "         1.0       0.00      0.00      0.00     69971\n",
            "\n",
            "    accuracy                           0.92    887971\n",
            "   macro avg       0.46      0.50      0.48    887971\n",
            "weighted avg       0.85      0.92      0.88    887971\n",
            "\n"
          ]
        },
        {
          "output_type": "stream",
          "name": "stderr",
          "text": [
            "/usr/local/lib/python3.10/dist-packages/sklearn/metrics/_classification.py:1344: UndefinedMetricWarning: Precision and F-score are ill-defined and being set to 0.0 in labels with no predicted samples. Use `zero_division` parameter to control this behavior.\n",
            "  _warn_prf(average, modifier, msg_start, len(result))\n"
          ]
        }
      ],
      "source": [
        "from sklearn.ensemble import BaggingClassifier\n",
        "bc =  BaggingClassifier(n_estimators = 370 , max_samples = 31 , random_state =  40 , max_features=13)\n",
        "bc.fit(x_train , y_train)\n",
        "bc_train = bc.predict(x_train)\n",
        "bc_test = bc.predict(x_test)\n",
        "bagc_score = bc.score(x_test , y_test)\n",
        "print (\"Bagging train accu = \", bc.score(x_train , y_train))\n",
        "print (\"Bagging test accu = \", bagc_score)\n",
        "print(\"BAGGING REPORT\\n\",classification_report(y_test, bc_test))"
      ]
    },
    {
      "cell_type": "code",
      "source": [
        "from sklearn.tree import DecisionTreeClassifier\n",
        "model = DecisionTreeClassifier( criterion ='entropy', splitter = 'random' ,max_depth=71, min_samples_leaf=3, random_state=80)\n",
        "model.fit(x_train, y_train)\n",
        "model_train = model.predict(x_train)\n",
        "model_test = model.predict(x_test)\n",
        "dtc_score = model.score(x_test, y_test)\n",
        "print(\"Decision tree train accu = \",model.score(x_train, y_train))\n",
        "print(\"Decision tree test accu = \",dtc_score)\n",
        "print(\"DECISION TREE REPORT\\n\",classification_report(y_test, model_test))"
      ],
      "metadata": {
        "colab": {
          "base_uri": "https://localhost:8080/"
        },
        "id": "85pMFcqPIeSH",
        "outputId": "34d66283-5620-43de-dd60-0572da07bd1f"
      },
      "execution_count": 43,
      "outputs": [
        {
          "output_type": "stream",
          "name": "stdout",
          "text": [
            "Decision tree train accu =  0.9782881422929353\n",
            "Decision tree test accu =  0.952163978328121\n",
            "DECISION TREE REPORT\n",
            "               precision    recall  f1-score   support\n",
            "\n",
            "         0.0       0.97      0.98      0.97    818000\n",
            "         1.0       0.72      0.64      0.68     69971\n",
            "\n",
            "    accuracy                           0.95    887971\n",
            "   macro avg       0.84      0.81      0.83    887971\n",
            "weighted avg       0.95      0.95      0.95    887971\n",
            "\n"
          ]
        }
      ]
    },
    {
      "cell_type": "code",
      "execution_count": 28,
      "metadata": {
        "id": "k_9fe9IvPRs_",
        "colab": {
          "base_uri": "https://localhost:8080/",
          "height": 739
        },
        "outputId": "ed37c9b5-2b4b-4cc2-9b8c-658aa2b8b07c"
      },
      "outputs": [
        {
          "output_type": "display_data",
          "data": {
            "text/plain": [
              "<Figure size 1000x500 with 1 Axes>"
            ],
            "image/png": "[encoded data removed]"
          },
          "metadata": {}
        },
        {
          "output_type": "execute_result",
          "data": {
            "text/plain": [
              "           names     value\n",
              "0        xgboost  0.925235\n",
              "1   random force  0.947782\n",
              "2   Logistic Reg  0.921173\n",
              "3            QDA  0.875682\n",
              "4        Bagging  0.921201\n",
              "5            LDA  0.920613\n",
              "6  Decision Tree  0.954613"
            ],
            "text/html": [
              "\n",
              "\n",
              "  <div id=\"df-3a108f55-1363-4518-b56c-d3fc069d7b06\">\n",
              "    <div class=\"colab-df-container\">\n",
              "      <div>\n",
              "<style scoped>\n",
              "    .dataframe tbody tr th:only-of-type {\n",
              "        vertical-align: middle;\n",
              "    }\n",
              "\n",
              "    .dataframe tbody tr th {\n",
              "        vertical-align: top;\n",
              "    }\n",
              "\n",
              "    .dataframe thead th {\n",
              "        text-align: right;\n",
              "    }\n",
              "</style>\n",
              "<table border=\"1\" class=\"dataframe\">\n",
              "  <thead>\n",
              "    <tr style=\"text-align: right;\">\n",
              "      <th></th>\n",
              "      <th>names</th>\n",
              "      <th>value</th>\n",
              "    </tr>\n",
              "  </thead>\n",
              "  <tbody>\n",
              "    <tr>\n",
              "      <th>0</th>\n",
              "      <td>xgboost</td>\n",
              "      <td>0.925235</td>\n",
              "    </tr>\n",
              "    <tr>\n",
              "      <th>1</th>\n",
              "      <td>random force</td>\n",
              "      <td>0.947782</td>\n",
              "    </tr>\n",
              "    <tr>\n",
              "      <th>2</th>\n",
              "      <td>Logistic Reg</td>\n",
              "      <td>0.921173</td>\n",
              "    </tr>\n",
              "    <tr>\n",
              "      <th>3</th>\n",
              "      <td>QDA</td>\n",
              "      <td>0.875682</td>\n",
              "    </tr>\n",
              "    <tr>\n",
              "      <th>4</th>\n",
              "      <td>Bagging</td>\n",
              "      <td>0.921201</td>\n",
              "    </tr>\n",
              "    <tr>\n",
              "      <th>5</th>\n",
              "      <td>LDA</td>\n",
              "      <td>0.920613</td>\n",
              "    </tr>\n",
              "    <tr>\n",
              "      <th>6</th>\n",
              "      <td>Decision Tree</td>\n",
              "      <td>0.954613</td>\n",
              "    </tr>\n",
              "  </tbody>\n",
              "</table>\n",
              "</div>\n",
              "      <button class=\"colab-df-convert\" onclick=\"convertToInteractive('df-3a108f55-1363-4518-b56c-d3fc069d7b06')\"\n",
              "              title=\"Convert this dataframe to an interactive table.\"\n",
              "              style=\"display:none;\">\n",
              "\n",
              "  <svg xmlns=\"http://www.w3.org/2000/svg\" height=\"24px\"viewBox=\"0 0 24 24\"\n",
              "       width=\"24px\">\n",
              "    <path d=\"M0 0h24v24H0V0z\" fill=\"none\"/>\n",
              "    <path d=\"M18.56 5.44l.94 2.06.94-2.06 2.06-.94-2.06-.94-.94-2.06-.94 2.06-2.06.94zm-11 1L8.5 8.5l.94-2.06 2.06-.94-2.06-.94L8.5 2.5l-.94 2.06-2.06.94zm10 10l.94 2.06.94-2.06 2.06-.94-2.06-.94-.94-2.06-.94 2.06-2.06.94z\"/><path d=\"M17.41 7.96l-1.37-1.37c-.4-.4-.92-.59-1.43-.59-.52 0-1.04.2-1.43.59L10.3 9.45l-7.72 7.72c-.78.78-.78 2.05 0 2.83L4 21.41c.39.39.9.59 1.41.59.51 0 1.02-.2 1.41-.59l7.78-7.78 2.81-2.81c.8-.78.8-2.07 0-2.86zM5.41 20L4 18.59l7.72-7.72 1.47 1.35L5.41 20z\"/>\n",
              "  </svg>\n",
              "      </button>\n",
              "\n",
              "\n",
              "\n",
              "    <div id=\"df-6b039b3d-a4ef-410d-894b-b80f02fd77ed\">\n",
              "      <button class=\"colab-df-quickchart\" onclick=\"quickchart('df-6b039b3d-a4ef-410d-894b-b80f02fd77ed')\"\n",
              "              title=\"Suggest charts.\"\n",
              "              style=\"display:none;\">\n",
              "\n",
              "<svg xmlns=\"http://www.w3.org/2000/svg\" height=\"24px\"viewBox=\"0 0 24 24\"\n",
              "     width=\"24px\">\n",
              "    <g>\n",
              "        <path d=\"M19 3H5c-1.1 0-2 .9-2 2v14c0 1.1.9 2 2 2h14c1.1 0 2-.9 2-2V5c0-1.1-.9-2-2-2zM9 17H7v-7h2v7zm4 0h-2V7h2v10zm4 0h-2v-4h2v4z\"/>\n",
              "    </g>\n",
              "</svg>\n",
              "      </button>\n",
              "    </div>\n",
              "\n",
              "<style>\n",
              "  .colab-df-quickchart {\n",
              "    background-color: #E8F0FE;\n",
              "    border: none;\n",
              "    border-radius: 50%;\n",
              "    cursor: pointer;\n",
              "    display: none;\n",
              "    fill: #1967D2;\n",
              "    height: 32px;\n",
              "    padding: 0 0 0 0;\n",
              "    width: 32px;\n",
              "  }\n",
              "\n",
              "  .colab-df-quickchart:hover {\n",
              "    background-color: #E2EBFA;\n",
              "    box-shadow: 0px 1px 2px rgba(60, 64, 67, 0.3), 0px 1px 3px 1px rgba(60, 64, 67, 0.15);\n",
              "    fill: #174EA6;\n",
              "  }\n",
              "\n",
              "  [theme=dark] .colab-df-quickchart {\n",
              "    background-color: #3B4455;\n",
              "    fill: #D2E3FC;\n",
              "  }\n",
              "\n",
              "  [theme=dark] .colab-df-quickchart:hover {\n",
              "    background-color: #434B5C;\n",
              "    box-shadow: 0px 1px 3px 1px rgba(0, 0, 0, 0.15);\n",
              "    filter: drop-shadow(0px 1px 2px rgba(0, 0, 0, 0.3));\n",
              "    fill: #FFFFFF;\n",
              "  }\n",
              "</style>\n",
              "\n",
              "    <script>\n",
              "      async function quickchart(key) {\n",
              "        const containerElement = document.querySelector('#' + key);\n",
              "        const charts = await google.colab.kernel.invokeFunction(\n",
              "            'suggestCharts', [key], {});\n",
              "      }\n",
              "    </script>\n",
              "\n",
              "      <script>\n",
              "\n",
              "function displayQuickchartButton(domScope) {\n",
              "  let quickchartButtonEl =\n",
              "    domScope.querySelector('#df-6b039b3d-a4ef-410d-894b-b80f02fd77ed button.colab-df-quickchart');\n",
              "  quickchartButtonEl.style.display =\n",
              "    google.colab.kernel.accessAllowed ? 'block' : 'none';\n",
              "}\n",
              "\n",
              "        displayQuickchartButton(document);\n",
              "      </script>\n",
              "      <style>\n",
              "    .colab-df-container {\n",
              "      display:flex;\n",
              "      flex-wrap:wrap;\n",
              "      gap: 12px;\n",
              "    }\n",
              "\n",
              "    .colab-df-convert {\n",
              "      background-color: #E8F0FE;\n",
              "      border: none;\n",
              "      border-radius: 50%;\n",
              "      cursor: pointer;\n",
              "      display: none;\n",
              "      fill: #1967D2;\n",
              "      height: 32px;\n",
              "      padding: 0 0 0 0;\n",
              "      width: 32px;\n",
              "    }\n",
              "\n",
              "    .colab-df-convert:hover {\n",
              "      background-color: #E2EBFA;\n",
              "      box-shadow: 0px 1px 2px rgba(60, 64, 67, 0.3), 0px 1px 3px 1px rgba(60, 64, 67, 0.15);\n",
              "      fill: #174EA6;\n",
              "    }\n",
              "\n",
              "    [theme=dark] .colab-df-convert {\n",
              "      background-color: #3B4455;\n",
              "      fill: #D2E3FC;\n",
              "    }\n",
              "\n",
              "    [theme=dark] .colab-df-convert:hover {\n",
              "      background-color: #434B5C;\n",
              "      box-shadow: 0px 1px 3px 1px rgba(0, 0, 0, 0.15);\n",
              "      filter: drop-shadow(0px 1px 2px rgba(0, 0, 0, 0.3));\n",
              "      fill: #FFFFFF;\n",
              "    }\n",
              "  </style>\n",
              "\n",
              "      <script>\n",
              "        const buttonEl =\n",
              "          document.querySelector('#df-3a108f55-1363-4518-b56c-d3fc069d7b06 button.colab-df-convert');\n",
              "        buttonEl.style.display =\n",
              "          google.colab.kernel.accessAllowed ? 'block' : 'none';\n",
              "\n",
              "        async function convertToInteractive(key) {\n",
              "          const element = document.querySelector('#df-3a108f55-1363-4518-b56c-d3fc069d7b06');\n",
              "          const dataTable =\n",
              "            await google.colab.kernel.invokeFunction('convertToInteractive',\n",
              "                                                     [key], {});\n",
              "          if (!dataTable) return;\n",
              "\n",
              "          const docLinkHtml = 'Like what you see? Visit the ' +\n",
              "            '<a target=\"_blank\" href=https://colab.research.google.com/notebooks/data_table.ipynb>data table notebook</a>'\n",
              "            + ' to learn more about interactive tables.';\n",
              "          element.innerHTML = '';\n",
              "          dataTable['output_type'] = 'display_data';\n",
              "          await google.colab.output.renderOutput(dataTable, element);\n",
              "          const docLink = document.createElement('div');\n",
              "          docLink.innerHTML = docLinkHtml;\n",
              "          element.appendChild(docLink);\n",
              "        }\n",
              "      </script>\n",
              "    </div>\n",
              "  </div>\n"
            ]
          },
          "metadata": {},
          "execution_count": 28
        }
      ],
      "source": [
        "val = {'xgboost': xgb_score, 'random force': RF_score, 'Logistic reg': lr_score ,'QDA': qda_score,\n",
        "       'Bagging': bagc_score, 'LDA': lda_score , 'Decision Tree' : dtc_score}\n",
        "\n",
        "courses = list(val.keys())\n",
        "values = [val[model] if val[model] is not None else 0 for model in courses]\n",
        "\n",
        "fig = plt.figure(figsize=(10, 5))\n",
        "\n",
        "# creating the bar plot\n",
        "plt.bar(courses, values, color='navy', width=0.5)\n",
        "\n",
        "plt.xlabel(\"models\")\n",
        "plt.ylabel(\"accu / 100\")\n",
        "plt.title(\"The accuracy of testing the models\")\n",
        "plt.show()\n",
        "\n",
        "df = {'names': ['xgboost', 'random force', 'Logistic reg', 'QDA', 'Bagging', 'LDA' , 'Decision Tree'],\n",
        "      'value': [xgb_score, RF_score, lr_score, qda_score, bagc_score, lda_score , dtc_score]}\n",
        "pd.DataFrame(df)"
      ]
    },
    {
      "cell_type": "code",
      "execution_count": null,
      "metadata": {
        "id": "dVLesYsuq3SR",
        "colab": {
          "base_uri": "https://localhost:8080/",
          "height": 488
        },
        "outputId": "f0971412-3eea-471d-ad8e-8e345f181c00"
      },
      "outputs": [
        {
          "output_type": "execute_result",
          "data": {
            "text/plain": [
              "                client_id invoice_date  tarif_type  counter_number  \\\n",
              "0           test_Client_0   2018-03-16          11          651208   \n",
              "1           test_Client_0   2014-03-21          11          651208   \n",
              "2           test_Client_0   2014-07-17          11          651208   \n",
              "3           test_Client_0   2015-07-13          11          651208   \n",
              "4           test_Client_0   2016-07-19          11          651208   \n",
              "...                   ...          ...         ...             ...   \n",
              "1939725  test_Client_9999   2010-03-11          11          869269   \n",
              "1939726  test_Client_9999   2011-03-15          11          869269   \n",
              "1939727  test_Client_9999   2012-12-03          11          869269   \n",
              "1939728  test_Client_9999   2009-07-01          11          869269   \n",
              "1939729  test_Client_9999   2017-03-11          11          869269   \n",
              "\n",
              "         counter_statue  counter_code  reading_remarque  counter_coefficient  \\\n",
              "0                     0           203                 8                    1   \n",
              "1                     0           203                 8                    1   \n",
              "2                     0           203                 8                    1   \n",
              "3                     0           203                 9                    1   \n",
              "4                     0           203                 9                    1   \n",
              "...                 ...           ...               ...                  ...   \n",
              "1939725               0           203                 6                    1   \n",
              "1939726               0           203                 6                    1   \n",
              "1939727               0           203                 6                    1   \n",
              "1939728               0           203                 6                    1   \n",
              "1939729               0           203                 9                    1   \n",
              "\n",
              "         consommation_level_1  consommation_level_2  consommation_level_3  \\\n",
              "0                         755                     0                     0   \n",
              "1                        1067                     0                     0   \n",
              "2                           0                     0                     0   \n",
              "3                         410                     0                     0   \n",
              "4                         412                     0                     0   \n",
              "...                       ...                   ...                   ...   \n",
              "1939725                   248                     0                     0   \n",
              "1939726                   260                     0                     0   \n",
              "1939727                   312                     0                     0   \n",
              "1939728                   236                     0                     0   \n",
              "1939729                   800                   282                     0   \n",
              "\n",
              "         consommation_level_4  old_index  new_index  months_number  \\\n",
              "0                           0      19145      19900              8   \n",
              "1                           0      13725      14792              8   \n",
              "2                           0      14792      14792              4   \n",
              "3                           0      16122      16532              4   \n",
              "4                           0      17471      17883              4   \n",
              "...                       ...        ...        ...            ...   \n",
              "1939725                     0      21114      21362              4   \n",
              "1939726                     0      21362      21622              4   \n",
              "1939727                     0      22272      22584              4   \n",
              "1939728                     0      19909      20145              4   \n",
              "1939729                     0      32834      33916              4   \n",
              "\n",
              "        counter_type  disrict  client_catg  region creation_date  \n",
              "0               ELEC       62           11     307    28/05/2002  \n",
              "1               ELEC       62           11     307    28/05/2002  \n",
              "2               ELEC       62           11     307    28/05/2002  \n",
              "3               ELEC       62           11     307    28/05/2002  \n",
              "4               ELEC       62           11     307    28/05/2002  \n",
              "...              ...      ...          ...     ...           ...  \n",
              "1939725         ELEC       69           11     104    14/03/1990  \n",
              "1939726         ELEC       69           11     104    14/03/1990  \n",
              "1939727         ELEC       69           11     104    14/03/1990  \n",
              "1939728         ELEC       69           11     104    14/03/1990  \n",
              "1939729         ELEC       69           11     104    14/03/1990  \n",
              "\n",
              "[1939730 rows x 20 columns]"
            ],
            "text/html": [
              "\n",
              "\n",
              "  <div id=\"df-368b1d38-4d9b-4264-8d23-8fdfbf3e7dcf\">\n",
              "    <div class=\"colab-df-container\">\n",
              "      <div>\n",
              "<style scoped>\n",
              "    .dataframe tbody tr th:only-of-type {\n",
              "        vertical-align: middle;\n",
              "    }\n",
              "\n",
              "    .dataframe tbody tr th {\n",
              "        vertical-align: top;\n",
              "    }\n",
              "\n",
              "    .dataframe thead th {\n",
              "        text-align: right;\n",
              "    }\n",
              "</style>\n",
              "<table border=\"1\" class=\"dataframe\">\n",
              "  <thead>\n",
              "    <tr style=\"text-align: right;\">\n",
              "      <th></th>\n",
              "      <th>client_id</th>\n",
              "      <th>invoice_date</th>\n",
              "      <th>tarif_type</th>\n",
              "      <th>counter_number</th>\n",
              "      <th>counter_statue</th>\n",
              "      <th>counter_code</th>\n",
              "      <th>reading_remarque</th>\n",
              "      <th>counter_coefficient</th>\n",
              "      <th>consommation_level_1</th>\n",
              "      <th>consommation_level_2</th>\n",
              "      <th>consommation_level_3</th>\n",
              "      <th>consommation_level_4</th>\n",
              "      <th>old_index</th>\n",
              "      <th>new_index</th>\n",
              "      <th>months_number</th>\n",
              "      <th>counter_type</th>\n",
              "      <th>disrict</th>\n",
              "      <th>client_catg</th>\n",
              "      <th>region</th>\n",
              "      <th>creation_date</th>\n",
              "    </tr>\n",
              "  </thead>\n",
              "  <tbody>\n",
              "    <tr>\n",
              "      <th>0</th>\n",
              "      <td>test_Client_0</td>\n",
              "      <td>2018-03-16</td>\n",
              "      <td>11</td>\n",
              "      <td>651208</td>\n",
              "      <td>0</td>\n",
              "      <td>203</td>\n",
              "      <td>8</td>\n",
              "      <td>1</td>\n",
              "      <td>755</td>\n",
              "      <td>0</td>\n",
              "      <td>0</td>\n",
              "      <td>0</td>\n",
              "      <td>19145</td>\n",
              "      <td>19900</td>\n",
              "      <td>8</td>\n",
              "      <td>ELEC</td>\n",
              "      <td>62</td>\n",
              "      <td>11</td>\n",
              "      <td>307</td>\n",
              "      <td>28/05/2002</td>\n",
              "    </tr>\n",
              "    <tr>\n",
              "      <th>1</th>\n",
              "      <td>test_Client_0</td>\n",
              "      <td>2014-03-21</td>\n",
              "      <td>11</td>\n",
              "      <td>651208</td>\n",
              "      <td>0</td>\n",
              "      <td>203</td>\n",
              "      <td>8</td>\n",
              "      <td>1</td>\n",
              "      <td>1067</td>\n",
              "      <td>0</td>\n",
              "      <td>0</td>\n",
              "      <td>0</td>\n",
              "      <td>13725</td>\n",
              "      <td>14792</td>\n",
              "      <td>8</td>\n",
              "      <td>ELEC</td>\n",
              "      <td>62</td>\n",
              "      <td>11</td>\n",
              "      <td>307</td>\n",
              "      <td>28/05/2002</td>\n",
              "    </tr>\n",
              "    <tr>\n",
              "      <th>2</th>\n",
              "      <td>test_Client_0</td>\n",
              "      <td>2014-07-17</td>\n",
              "      <td>11</td>\n",
              "      <td>651208</td>\n",
              "      <td>0</td>\n",
              "      <td>203</td>\n",
              "      <td>8</td>\n",
              "      <td>1</td>\n",
              "      <td>0</td>\n",
              "      <td>0</td>\n",
              "      <td>0</td>\n",
              "      <td>0</td>\n",
              "      <td>14792</td>\n",
              "      <td>14792</td>\n",
              "      <td>4</td>\n",
              "      <td>ELEC</td>\n",
              "      <td>62</td>\n",
              "      <td>11</td>\n",
              "      <td>307</td>\n",
              "      <td>28/05/2002</td>\n",
              "    </tr>\n",
              "    <tr>\n",
              "      <th>3</th>\n",
              "      <td>test_Client_0</td>\n",
              "      <td>2015-07-13</td>\n",
              "      <td>11</td>\n",
              "      <td>651208</td>\n",
              "      <td>0</td>\n",
              "      <td>203</td>\n",
              "      <td>9</td>\n",
              "      <td>1</td>\n",
              "      <td>410</td>\n",
              "      <td>0</td>\n",
              "      <td>0</td>\n",
              "      <td>0</td>\n",
              "      <td>16122</td>\n",
              "      <td>16532</td>\n",
              "      <td>4</td>\n",
              "      <td>ELEC</td>\n",
              "      <td>62</td>\n",
              "      <td>11</td>\n",
              "      <td>307</td>\n",
              "      <td>28/05/2002</td>\n",
              "    </tr>\n",
              "    <tr>\n",
              "      <th>4</th>\n",
              "      <td>test_Client_0</td>\n",
              "      <td>2016-07-19</td>\n",
              "      <td>11</td>\n",
              "      <td>651208</td>\n",
              "      <td>0</td>\n",
              "      <td>203</td>\n",
              "      <td>9</td>\n",
              "      <td>1</td>\n",
              "      <td>412</td>\n",
              "      <td>0</td>\n",
              "      <td>0</td>\n",
              "      <td>0</td>\n",
              "      <td>17471</td>\n",
              "      <td>17883</td>\n",
              "      <td>4</td>\n",
              "      <td>ELEC</td>\n",
              "      <td>62</td>\n",
              "      <td>11</td>\n",
              "      <td>307</td>\n",
              "      <td>28/05/2002</td>\n",
              "    </tr>\n",
              "    <tr>\n",
              "      <th>...</th>\n",
              "      <td>...</td>\n",
              "      <td>...</td>\n",
              "      <td>...</td>\n",
              "      <td>...</td>\n",
              "      <td>...</td>\n",
              "      <td>...</td>\n",
              "      <td>...</td>\n",
              "      <td>...</td>\n",
              "      <td>...</td>\n",
              "      <td>...</td>\n",
              "      <td>...</td>\n",
              "      <td>...</td>\n",
              "      <td>...</td>\n",
              "      <td>...</td>\n",
              "      <td>...</td>\n",
              "      <td>...</td>\n",
              "      <td>...</td>\n",
              "      <td>...</td>\n",
              "      <td>...</td>\n",
              "      <td>...</td>\n",
              "    </tr>\n",
              "    <tr>\n",
              "      <th>1939725</th>\n",
              "      <td>test_Client_9999</td>\n",
              "      <td>2010-03-11</td>\n",
              "      <td>11</td>\n",
              "      <td>869269</td>\n",
              "      <td>0</td>\n",
              "      <td>203</td>\n",
              "      <td>6</td>\n",
              "      <td>1</td>\n",
              "      <td>248</td>\n",
              "      <td>0</td>\n",
              "      <td>0</td>\n",
              "      <td>0</td>\n",
              "      <td>21114</td>\n",
              "      <td>21362</td>\n",
              "      <td>4</td>\n",
              "      <td>ELEC</td>\n",
              "      <td>69</td>\n",
              "      <td>11</td>\n",
              "      <td>104</td>\n",
              "      <td>14/03/1990</td>\n",
              "    </tr>\n",
              "    <tr>\n",
              "      <th>1939726</th>\n",
              "      <td>test_Client_9999</td>\n",
              "      <td>2011-03-15</td>\n",
              "      <td>11</td>\n",
              "      <td>869269</td>\n",
              "      <td>0</td>\n",
              "      <td>203</td>\n",
              "      <td>6</td>\n",
              "      <td>1</td>\n",
              "      <td>260</td>\n",
              "      <td>0</td>\n",
              "      <td>0</td>\n",
              "      <td>0</td>\n",
              "      <td>21362</td>\n",
              "      <td>21622</td>\n",
              "      <td>4</td>\n",
              "      <td>ELEC</td>\n",
              "      <td>69</td>\n",
              "      <td>11</td>\n",
              "      <td>104</td>\n",
              "      <td>14/03/1990</td>\n",
              "    </tr>\n",
              "    <tr>\n",
              "      <th>1939727</th>\n",
              "      <td>test_Client_9999</td>\n",
              "      <td>2012-12-03</td>\n",
              "      <td>11</td>\n",
              "      <td>869269</td>\n",
              "      <td>0</td>\n",
              "      <td>203</td>\n",
              "      <td>6</td>\n",
              "      <td>1</td>\n",
              "      <td>312</td>\n",
              "      <td>0</td>\n",
              "      <td>0</td>\n",
              "      <td>0</td>\n",
              "      <td>22272</td>\n",
              "      <td>22584</td>\n",
              "      <td>4</td>\n",
              "      <td>ELEC</td>\n",
              "      <td>69</td>\n",
              "      <td>11</td>\n",
              "      <td>104</td>\n",
              "      <td>14/03/1990</td>\n",
              "    </tr>\n",
              "    <tr>\n",
              "      <th>1939728</th>\n",
              "      <td>test_Client_9999</td>\n",
              "      <td>2009-07-01</td>\n",
              "      <td>11</td>\n",
              "      <td>869269</td>\n",
              "      <td>0</td>\n",
              "      <td>203</td>\n",
              "      <td>6</td>\n",
              "      <td>1</td>\n",
              "      <td>236</td>\n",
              "      <td>0</td>\n",
              "      <td>0</td>\n",
              "      <td>0</td>\n",
              "      <td>19909</td>\n",
              "      <td>20145</td>\n",
              "      <td>4</td>\n",
              "      <td>ELEC</td>\n",
              "      <td>69</td>\n",
              "      <td>11</td>\n",
              "      <td>104</td>\n",
              "      <td>14/03/1990</td>\n",
              "    </tr>\n",
              "    <tr>\n",
              "      <th>1939729</th>\n",
              "      <td>test_Client_9999</td>\n",
              "      <td>2017-03-11</td>\n",
              "      <td>11</td>\n",
              "      <td>869269</td>\n",
              "      <td>0</td>\n",
              "      <td>203</td>\n",
              "      <td>9</td>\n",
              "      <td>1</td>\n",
              "      <td>800</td>\n",
              "      <td>282</td>\n",
              "      <td>0</td>\n",
              "      <td>0</td>\n",
              "      <td>32834</td>\n",
              "      <td>33916</td>\n",
              "      <td>4</td>\n",
              "      <td>ELEC</td>\n",
              "      <td>69</td>\n",
              "      <td>11</td>\n",
              "      <td>104</td>\n",
              "      <td>14/03/1990</td>\n",
              "    </tr>\n",
              "  </tbody>\n",
              "</table>\n",
              "<p>1939730 rows × 20 columns</p>\n",
              "</div>\n",
              "      <button class=\"colab-df-convert\" onclick=\"convertToInteractive('df-368b1d38-4d9b-4264-8d23-8fdfbf3e7dcf')\"\n",
              "              title=\"Convert this dataframe to an interactive table.\"\n",
              "              style=\"display:none;\">\n",
              "\n",
              "  <svg xmlns=\"http://www.w3.org/2000/svg\" height=\"24px\"viewBox=\"0 0 24 24\"\n",
              "       width=\"24px\">\n",
              "    <path d=\"M0 0h24v24H0V0z\" fill=\"none\"/>\n",
              "    <path d=\"M18.56 5.44l.94 2.06.94-2.06 2.06-.94-2.06-.94-.94-2.06-.94 2.06-2.06.94zm-11 1L8.5 8.5l.94-2.06 2.06-.94-2.06-.94L8.5 2.5l-.94 2.06-2.06.94zm10 10l.94 2.06.94-2.06 2.06-.94-2.06-.94-.94-2.06-.94 2.06-2.06.94z\"/><path d=\"M17.41 7.96l-1.37-1.37c-.4-.4-.92-.59-1.43-.59-.52 0-1.04.2-1.43.59L10.3 9.45l-7.72 7.72c-.78.78-.78 2.05 0 2.83L4 21.41c.39.39.9.59 1.41.59.51 0 1.02-.2 1.41-.59l7.78-7.78 2.81-2.81c.8-.78.8-2.07 0-2.86zM5.41 20L4 18.59l7.72-7.72 1.47 1.35L5.41 20z\"/>\n",
              "  </svg>\n",
              "      </button>\n",
              "\n",
              "\n",
              "\n",
              "    <div id=\"df-2c913c49-7c5d-4d11-8ad9-14cb80dd6b19\">\n",
              "      <button class=\"colab-df-quickchart\" onclick=\"quickchart('df-2c913c49-7c5d-4d11-8ad9-14cb80dd6b19')\"\n",
              "              title=\"Suggest charts.\"\n",
              "              style=\"display:none;\">\n",
              "\n",
              "<svg xmlns=\"http://www.w3.org/2000/svg\" height=\"24px\"viewBox=\"0 0 24 24\"\n",
              "     width=\"24px\">\n",
              "    <g>\n",
              "        <path d=\"M19 3H5c-1.1 0-2 .9-2 2v14c0 1.1.9 2 2 2h14c1.1 0 2-.9 2-2V5c0-1.1-.9-2-2-2zM9 17H7v-7h2v7zm4 0h-2V7h2v10zm4 0h-2v-4h2v4z\"/>\n",
              "    </g>\n",
              "</svg>\n",
              "      </button>\n",
              "    </div>\n",
              "\n",
              "<style>\n",
              "  .colab-df-quickchart {\n",
              "    background-color: #E8F0FE;\n",
              "    border: none;\n",
              "    border-radius: 50%;\n",
              "    cursor: pointer;\n",
              "    display: none;\n",
              "    fill: #1967D2;\n",
              "    height: 32px;\n",
              "    padding: 0 0 0 0;\n",
              "    width: 32px;\n",
              "  }\n",
              "\n",
              "  .colab-df-quickchart:hover {\n",
              "    background-color: #E2EBFA;\n",
              "    box-shadow: 0px 1px 2px rgba(60, 64, 67, 0.3), 0px 1px 3px 1px rgba(60, 64, 67, 0.15);\n",
              "    fill: #174EA6;\n",
              "  }\n",
              "\n",
              "  [theme=dark] .colab-df-quickchart {\n",
              "    background-color: #3B4455;\n",
              "    fill: #D2E3FC;\n",
              "  }\n",
              "\n",
              "  [theme=dark] .colab-df-quickchart:hover {\n",
              "    background-color: #434B5C;\n",
              "    box-shadow: 0px 1px 3px 1px rgba(0, 0, 0, 0.15);\n",
              "    filter: drop-shadow(0px 1px 2px rgba(0, 0, 0, 0.3));\n",
              "    fill: #FFFFFF;\n",
              "  }\n",
              "</style>\n",
              "\n",
              "    <script>\n",
              "      async function quickchart(key) {\n",
              "        const containerElement = document.querySelector('#' + key);\n",
              "        const charts = await google.colab.kernel.invokeFunction(\n",
              "            'suggestCharts', [key], {});\n",
              "      }\n",
              "    </script>\n",
              "\n",
              "      <script>\n",
              "\n",
              "function displayQuickchartButton(domScope) {\n",
              "  let quickchartButtonEl =\n",
              "    domScope.querySelector('#df-2c913c49-7c5d-4d11-8ad9-14cb80dd6b19 button.colab-df-quickchart');\n",
              "  quickchartButtonEl.style.display =\n",
              "    google.colab.kernel.accessAllowed ? 'block' : 'none';\n",
              "}\n",
              "\n",
              "        displayQuickchartButton(document);\n",
              "      </script>\n",
              "      <style>\n",
              "    .colab-df-container {\n",
              "      display:flex;\n",
              "      flex-wrap:wrap;\n",
              "      gap: 12px;\n",
              "    }\n",
              "\n",
              "    .colab-df-convert {\n",
              "      background-color: #E8F0FE;\n",
              "      border: none;\n",
              "      border-radius: 50%;\n",
              "      cursor: pointer;\n",
              "      display: none;\n",
              "      fill: #1967D2;\n",
              "      height: 32px;\n",
              "      padding: 0 0 0 0;\n",
              "      width: 32px;\n",
              "    }\n",
              "\n",
              "    .colab-df-convert:hover {\n",
              "      background-color: #E2EBFA;\n",
              "      box-shadow: 0px 1px 2px rgba(60, 64, 67, 0.3), 0px 1px 3px 1px rgba(60, 64, 67, 0.15);\n",
              "      fill: #174EA6;\n",
              "    }\n",
              "\n",
              "    [theme=dark] .colab-df-convert {\n",
              "      background-color: #3B4455;\n",
              "      fill: #D2E3FC;\n",
              "    }\n",
              "\n",
              "    [theme=dark] .colab-df-convert:hover {\n",
              "      background-color: #434B5C;\n",
              "      box-shadow: 0px 1px 3px 1px rgba(0, 0, 0, 0.15);\n",
              "      filter: drop-shadow(0px 1px 2px rgba(0, 0, 0, 0.3));\n",
              "      fill: #FFFFFF;\n",
              "    }\n",
              "  </style>\n",
              "\n",
              "      <script>\n",
              "        const buttonEl =\n",
              "          document.querySelector('#df-368b1d38-4d9b-4264-8d23-8fdfbf3e7dcf button.colab-df-convert');\n",
              "        buttonEl.style.display =\n",
              "          google.colab.kernel.accessAllowed ? 'block' : 'none';\n",
              "\n",
              "        async function convertToInteractive(key) {\n",
              "          const element = document.querySelector('#df-368b1d38-4d9b-4264-8d23-8fdfbf3e7dcf');\n",
              "          const dataTable =\n",
              "            await google.colab.kernel.invokeFunction('convertToInteractive',\n",
              "                                                     [key], {});\n",
              "          if (!dataTable) return;\n",
              "\n",
              "          const docLinkHtml = 'Like what you see? Visit the ' +\n",
              "            '<a target=\"_blank\" href=https://colab.research.google.com/notebooks/data_table.ipynb>data table notebook</a>'\n",
              "            + ' to learn more about interactive tables.';\n",
              "          element.innerHTML = '';\n",
              "          dataTable['output_type'] = 'display_data';\n",
              "          await google.colab.output.renderOutput(dataTable, element);\n",
              "          const docLink = document.createElement('div');\n",
              "          docLink.innerHTML = docLinkHtml;\n",
              "          element.appendChild(docLink);\n",
              "        }\n",
              "      </script>\n",
              "    </div>\n",
              "  </div>\n"
            ]
          },
          "metadata": {},
          "execution_count": 50
        }
      ],
      "source": [
        "test"
      ]
    },
    {
      "cell_type": "code",
      "execution_count": null,
      "metadata": {
        "id": "3JHbUpNeao3W",
        "colab": {
          "base_uri": "https://localhost:8080/"
        },
        "outputId": "6e174240-a852-4ff0-e334-680dfb1bb229"
      },
      "outputs": [
        {
          "output_type": "execute_result",
          "data": {
            "text/plain": [
              "dtype('O')"
            ]
          },
          "metadata": {},
          "execution_count": 59
        }
      ],
      "source": [
        "test['creation_date'].dtype"
      ]
    },
    {
      "cell_type": "code",
      "source": [
        "# convert invoice date from object to int datatype\n",
        "test['invoice_date'] = pd.to_datetime(test['invoice_date'], format=\"%Y/%m/%d\")\n",
        "test['invoice_year'] = test['invoice_date'].dt.year\n",
        "test['invoice_month'] = test['invoice_date'].dt.month\n",
        "test['invoice_day'] = test['invoice_date'].dt.day\n",
        "test = test.drop('invoice_date', axis=1)\n",
        "\n",
        "test['creation_date'] = pd.to_datetime(test['creation_date'], format=\"%d/%m/%Y\")\n",
        "test['creation_year'] = test['creation_date'].dt.year\n",
        "test['creation_month'] = test['creation_date'].dt.month\n",
        "test['creation_day'] = test['creation_date'].dt.day\n",
        "test = test.drop('creation_date', axis=1)"
      ],
      "metadata": {
        "id": "NXO_C7q1n4MC"
      },
      "execution_count": 44,
      "outputs": []
    },
    {
      "cell_type": "code",
      "source": [
        "test['counter_statue'].value_counts()"
      ],
      "metadata": {
        "colab": {
          "base_uri": "https://localhost:8080/"
        },
        "id": "cScrPJk_uhkW",
        "outputId": "c308d174-b412-4e41-b553-56a4ac4f993c"
      },
      "execution_count": null,
      "outputs": [
        {
          "output_type": "execute_result",
          "data": {
            "text/plain": [
              "0    1897688\n",
              "1      31805\n",
              "5       8968\n",
              "4       1177\n",
              "3         80\n",
              "2         12\n",
              "Name: counter_statue, dtype: int64"
            ]
          },
          "metadata": {},
          "execution_count": 61
        }
      ]
    },
    {
      "cell_type": "code",
      "source": [
        "test['tarif_type'].value_counts()"
      ],
      "metadata": {
        "colab": {
          "base_uri": "https://localhost:8080/"
        },
        "id": "1FnnrC4ruyt2",
        "outputId": "b168cc5d-635f-43b1-e484-09b5c7c15c7b"
      },
      "execution_count": null,
      "outputs": [
        {
          "output_type": "execute_result",
          "data": {
            "text/plain": [
              "11    1159538\n",
              "40     595448\n",
              "10     119575\n",
              "15      31538\n",
              "45       8476\n",
              "13       5966\n",
              "14       5912\n",
              "12       5795\n",
              "29       5035\n",
              "9        2370\n",
              "8          33\n",
              "21         21\n",
              "27         10\n",
              "42         10\n",
              "30          2\n",
              "24          1\n",
              "Name: tarif_type, dtype: int64"
            ]
          },
          "metadata": {},
          "execution_count": 62
        }
      ]
    },
    {
      "cell_type": "code",
      "source": [
        "test['region'].unique()"
      ],
      "metadata": {
        "colab": {
          "base_uri": "https://localhost:8080/"
        },
        "id": "KlsYuBk_vBdJ",
        "outputId": "91a22959-3aa5-4e36-dedf-6e6dd04c0085"
      },
      "execution_count": null,
      "outputs": [
        {
          "output_type": "execute_result",
          "data": {
            "text/plain": [
              "array([13,  1, 16,  0,  7, 10,  9,  2, 15,  5,  8,  3, 17, 18, 12,  4, 11,\n",
              "       19, 14, 20, 21, 22, 23,  6])"
            ]
          },
          "metadata": {},
          "execution_count": 75
        }
      ]
    },
    {
      "cell_type": "code",
      "source": [
        "test['region']= encode.fit_transform(test['region'])\n",
        "test['counter_type'] = encode.fit_transform(test['counter_type'])"
      ],
      "metadata": {
        "id": "XOXCLXtMvQfU"
      },
      "execution_count": 45,
      "outputs": []
    },
    {
      "cell_type": "code",
      "source": [
        "# test = pd.get_dummies(test , drop_first=True)\n",
        "# test.shape"
      ],
      "metadata": {
        "id": "Jl67Tjf9riQy"
      },
      "execution_count": null,
      "outputs": []
    },
    {
      "cell_type": "code",
      "source": [
        "test.shape"
      ],
      "metadata": {
        "colab": {
          "base_uri": "https://localhost:8080/"
        },
        "id": "RTbKdaqSrSO5",
        "outputId": "2dd9b1a2-447c-439b-acaa-d321a9e3f383"
      },
      "execution_count": 50,
      "outputs": [
        {
          "output_type": "execute_result",
          "data": {
            "text/plain": [
              "(1939730, 24)"
            ]
          },
          "metadata": {},
          "execution_count": 50
        }
      ]
    },
    {
      "cell_type": "code",
      "source": [
        "id =  test['client_id']\n",
        "test = test.drop(['client_id'], axis = 1)\n",
        "predictions = model.predict(test)"
      ],
      "metadata": {
        "id": "_V3VORYM2OzE"
      },
      "execution_count": null,
      "outputs": []
    },
    {
      "cell_type": "code",
      "source": [
        "result = pd.DataFrame({'client_id': id, 'predictions': predictions})\n",
        "\n",
        "# Save the predictions DataFrame to a CSV file in your Google Drive\n",
        "file_path = '/content/drive/My Drive/predictions.csv'\n",
        "result.to_csv(file_path, index=False)\n",
        "\n",
        "print(\"File saved at:\", file_path)"
      ],
      "metadata": {
        "colab": {
          "base_uri": "https://localhost:8080/"
        },
        "id": "48ooozYD0zft",
        "outputId": "b9643032-84b5-4dfa-9aee-0ba130c0cf57"
      },
      "execution_count": 61,
      "outputs": [
        {
          "output_type": "stream",
          "name": "stdout",
          "text": [
            "File saved at: /content/drive/My Drive/predictions.csv\n"
          ]
        }
      ]
    },
    {
      "cell_type": "code",
      "source": [
        "filtered_results = result[result['predictions'] == 1]\n",
        "\n",
        "# Print the filtered results\n",
        "print(filtered_results)"
      ],
      "metadata": {
        "colab": {
          "base_uri": "https://localhost:8080/"
        },
        "id": "gWkd414cmeml",
        "outputId": "33f370a1-cfbc-4573-cec2-516e2e9370a0"
      },
      "execution_count": 57,
      "outputs": [
        {
          "output_type": "stream",
          "name": "stdout",
          "text": [
            "                client_id  predictions\n",
            "60         test_Client_10          1.0\n",
            "62         test_Client_10          1.0\n",
            "65         test_Client_10          1.0\n",
            "68         test_Client_10          1.0\n",
            "70         test_Client_10          1.0\n",
            "...                   ...          ...\n",
            "1939685  test_Client_9997          1.0\n",
            "1939687  test_Client_9997          1.0\n",
            "1939689  test_Client_9997          1.0\n",
            "1939691  test_Client_9997          1.0\n",
            "1939692  test_Client_9997          1.0\n",
            "\n",
            "[593231 rows x 2 columns]\n"
          ]
        }
      ]
    },
    {
      "cell_type": "code",
      "source": [
        "plt.title(\"test predictions\")\n",
        "sns.histplot(predictions)"
      ],
      "metadata": {
        "id": "5gHMMShPyu1h",
        "colab": {
          "base_uri": "https://localhost:8080/",
          "height": 462
        },
        "outputId": "4ad80e4d-e389-4d07-b394-088d6924ae3d"
      },
      "execution_count": 59,
      "outputs": [
        {
          "output_type": "execute_result",
          "data": {
            "text/plain": [
              "<Axes: ylabel='Count'>"
            ]
          },
          "metadata": {},
          "execution_count": 59
        },
        {
          "output_type": "display_data",
          "data": {
            "text/plain": [
              "<Figure size 640x480 with 1 Axes>"
            ],
            "image/png": "[encoded data removed]"
          },
          "metadata": {}
        }
      ]
    },
    {
      "cell_type": "code",
      "source": [],
      "metadata": {
        "id": "gw7r0UjHx5C8"
      },
      "execution_count": null,
      "outputs": []
    }
  ],
  "metadata": {
    "accelerator": "GPU",
    "colab": {
      "provenance": [],
      "gpuType": "T4"
    },
    "kernelspec": {
      "display_name": "Python 3",
      "name": "python3"
    },
    "language_info": {
      "name": "python"
    }
  },
  "nbformat": 4,
  "nbformat_minor": 0
}